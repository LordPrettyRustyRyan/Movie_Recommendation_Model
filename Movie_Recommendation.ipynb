{
  "nbformat": 4,
  "nbformat_minor": 0,
  "metadata": {
    "colab": {
      "provenance": []
    },
    "kernelspec": {
      "name": "python3",
      "display_name": "Python 3"
    },
    "language_info": {
      "name": "python"
    }
  },
  "cells": [
    {
      "cell_type": "markdown",
      "source": [
        "# **Movie Recommendation System**"
      ],
      "metadata": {
        "id": "JcHAkWmBI0dA"
      }
    },
    {
      "cell_type": "markdown",
      "source": [
        "> **Recommender System** is a system that seeks to predict or filter preferences according to the user's choices. Recommender systems are\n",
        "utilized in a variety of areas including movies, music, news, books, research articles, search queries, social tags, and products in general.\n",
        "Recommender systems produce a list of recommendations in any of the two ways-\n",
        "\n",
        "\n",
        "> **Collaborative filtering:** Collaborative filtering approaches build a model from the user's past behavior (ie. items purchased or searched by the user) as well as similar decisions made by other users. This model is then used to predict items (or ratings for items) that users may have an interest in.\n",
        "\n",
        "\n",
        "> **Content-based filtering:** Content-based filtering approaches uses a series of discrete characteristics of an item in order to recommend additional items with similar properties. Content-based filtering methods are totally based on a description of the item and a profile of the user's preferences. It recommends items based on the user's past preferences. Let's develop a basic recommendation system using Python and Pandas.\n",
        "\n",
        "\n",
        "> Let's develop a basic recommendation system by suggesting items that are most similar to a particular item, in this case, movies. It just tells what movies/items are most similar to the user's movie choice."
      ],
      "metadata": {
        "id": "1Agxl7DYKD7L"
      }
    },
    {
      "cell_type": "markdown",
      "source": [
        "## **Import Library**"
      ],
      "metadata": {
        "id": "h-owAjonLjcg"
      }
    },
    {
      "cell_type": "code",
      "source": [
        "import pandas as pd\n",
        "import numpy as np"
      ],
      "metadata": {
        "id": "-aVRyK5TL0uf"
      },
      "execution_count": 1,
      "outputs": []
    },
    {
      "cell_type": "markdown",
      "source": [
        "## **Import Dataset**"
      ],
      "metadata": {
        "id": "gRURoLskL-YP"
      }
    },
    {
      "cell_type": "code",
      "source": [
        "mf = pd.read_csv('https://github.com/YBI-Foundation/Dataset/raw/refs/heads/main/Movies%20Recommendation.csv')"
      ],
      "metadata": {
        "id": "zrdoVnPKMI2G"
      },
      "execution_count": 2,
      "outputs": []
    },
    {
      "cell_type": "code",
      "source": [
        "mf.head()"
      ],
      "metadata": {
        "colab": {
          "base_uri": "https://localhost:8080/",
          "height": 672
        },
        "id": "4nrVNpoQMXSZ",
        "outputId": "c4cd1247-b324-4a73-eaaa-782d0688821e"
      },
      "execution_count": 3,
      "outputs": [
        {
          "output_type": "execute_result",
          "data": {
            "text/plain": [
              "   Movie_ID      Movie_Title                       Movie_Genre Movie_Language  \\\n",
              "0         1       Four Rooms                      Crime Comedy             en   \n",
              "1         2        Star Wars  Adventure Action Science Fiction             en   \n",
              "2         3     Finding Nemo                  Animation Family             en   \n",
              "3         4     Forrest Gump              Comedy Drama Romance             en   \n",
              "4         5  American Beauty                             Drama             en   \n",
              "\n",
              "   Movie_Budget  Movie_Popularity Movie_Release_Date  Movie_Revenue  \\\n",
              "0       4000000         22.876230         09-12-1995        4300000   \n",
              "1      11000000        126.393695         25-05-1977      775398007   \n",
              "2      94000000         85.688789         30-05-2003      940335536   \n",
              "3      55000000        138.133331         06-07-1994      677945399   \n",
              "4      15000000         80.878605         15-09-1999      356296601   \n",
              "\n",
              "   Movie_Runtime  Movie_Vote  ...  \\\n",
              "0           98.0         6.5  ...   \n",
              "1          121.0         8.1  ...   \n",
              "2          100.0         7.6  ...   \n",
              "3          142.0         8.2  ...   \n",
              "4          122.0         7.9  ...   \n",
              "\n",
              "                                      Movie_Homepage  \\\n",
              "0                                                NaN   \n",
              "1  http://www.starwars.com/films/star-wars-episod...   \n",
              "2              http://movies.disney.com/finding-nemo   \n",
              "3                                                NaN   \n",
              "4                      http://www.dreamworks.com/ab/   \n",
              "\n",
              "                                      Movie_Keywords  \\\n",
              "0          hotel new year's eve witch bet hotel room   \n",
              "1        android galaxy hermit death star lightsaber   \n",
              "2  father son relationship harbor underwater fish...   \n",
              "3  vietnam veteran hippie mentally disabled runni...   \n",
              "4  male nudity female nudity adultery midlife cri...   \n",
              "\n",
              "                                      Movie_Overview  \\\n",
              "0  It's Ted the Bellhop's first night on the job....   \n",
              "1  Princess Leia is captured and held hostage by ...   \n",
              "2  Nemo, an adventurous young clownfish, is unexp...   \n",
              "3  A man with a low IQ has accomplished great thi...   \n",
              "4  Lester Burnham, a depressed suburban father in...   \n",
              "\n",
              "                              Movie_Production_House  \\\n",
              "0  [{\"name\": \"Miramax Films\", \"id\": 14}, {\"name\":...   \n",
              "1  [{\"name\": \"Lucasfilm\", \"id\": 1}, {\"name\": \"Twe...   \n",
              "2     [{\"name\": \"Pixar Animation Studios\", \"id\": 3}]   \n",
              "3          [{\"name\": \"Paramount Pictures\", \"id\": 4}]   \n",
              "4  [{\"name\": \"DreamWorks SKG\", \"id\": 27}, {\"name\"...   \n",
              "\n",
              "                            Movie_Production_Country  \\\n",
              "0  [{\"iso_3166_1\": \"US\", \"name\": \"United States o...   \n",
              "1  [{\"iso_3166_1\": \"US\", \"name\": \"United States o...   \n",
              "2  [{\"iso_3166_1\": \"US\", \"name\": \"United States o...   \n",
              "3  [{\"iso_3166_1\": \"US\", \"name\": \"United States o...   \n",
              "4  [{\"iso_3166_1\": \"US\", \"name\": \"United States o...   \n",
              "\n",
              "                      Movie_Spoken_Language  \\\n",
              "0  [{\"iso_639_1\": \"en\", \"name\": \"English\"}]   \n",
              "1  [{\"iso_639_1\": \"en\", \"name\": \"English\"}]   \n",
              "2  [{\"iso_639_1\": \"en\", \"name\": \"English\"}]   \n",
              "3  [{\"iso_639_1\": \"en\", \"name\": \"English\"}]   \n",
              "4  [{\"iso_639_1\": \"en\", \"name\": \"English\"}]   \n",
              "\n",
              "                                       Movie_Tagline  \\\n",
              "0  Twelve outrageous guests. Four scandalous requ...   \n",
              "1       A long time ago in a galaxy far, far away...   \n",
              "2  There are 3.7 trillion fish in the ocean, they...   \n",
              "3  The world will never be the same, once you've ...   \n",
              "4                                       Look closer.   \n",
              "\n",
              "                                          Movie_Cast  \\\n",
              "0  Tim Roth Antonio Banderas Jennifer Beals Madon...   \n",
              "1  Mark Hamill Harrison Ford Carrie Fisher Peter ...   \n",
              "2  Albert Brooks Ellen DeGeneres Alexander Gould ...   \n",
              "3  Tom Hanks Robin Wright Gary Sinise Mykelti Wil...   \n",
              "4  Kevin Spacey Annette Bening Thora Birch Wes Be...   \n",
              "\n",
              "                                          Movie_Crew   Movie_Director  \n",
              "0  [{'name': 'Allison Anders', 'gender': 1, 'depa...   Allison Anders  \n",
              "1  [{'name': 'George Lucas', 'gender': 2, 'depart...     George Lucas  \n",
              "2  [{'name': 'Andrew Stanton', 'gender': 2, 'depa...   Andrew Stanton  \n",
              "3  [{'name': 'Alan Silvestri', 'gender': 2, 'depa...  Robert Zemeckis  \n",
              "4  [{'name': 'Thomas Newman', 'gender': 2, 'depar...       Sam Mendes  \n",
              "\n",
              "[5 rows x 21 columns]"
            ],
            "text/html": [
              "\n",
              "  <div id=\"df-84360ef2-ff46-429f-8777-bfbd6b0ae44b\" class=\"colab-df-container\">\n",
              "    <div>\n",
              "<style scoped>\n",
              "    .dataframe tbody tr th:only-of-type {\n",
              "        vertical-align: middle;\n",
              "    }\n",
              "\n",
              "    .dataframe tbody tr th {\n",
              "        vertical-align: top;\n",
              "    }\n",
              "\n",
              "    .dataframe thead th {\n",
              "        text-align: right;\n",
              "    }\n",
              "</style>\n",
              "<table border=\"1\" class=\"dataframe\">\n",
              "  <thead>\n",
              "    <tr style=\"text-align: right;\">\n",
              "      <th></th>\n",
              "      <th>Movie_ID</th>\n",
              "      <th>Movie_Title</th>\n",
              "      <th>Movie_Genre</th>\n",
              "      <th>Movie_Language</th>\n",
              "      <th>Movie_Budget</th>\n",
              "      <th>Movie_Popularity</th>\n",
              "      <th>Movie_Release_Date</th>\n",
              "      <th>Movie_Revenue</th>\n",
              "      <th>Movie_Runtime</th>\n",
              "      <th>Movie_Vote</th>\n",
              "      <th>...</th>\n",
              "      <th>Movie_Homepage</th>\n",
              "      <th>Movie_Keywords</th>\n",
              "      <th>Movie_Overview</th>\n",
              "      <th>Movie_Production_House</th>\n",
              "      <th>Movie_Production_Country</th>\n",
              "      <th>Movie_Spoken_Language</th>\n",
              "      <th>Movie_Tagline</th>\n",
              "      <th>Movie_Cast</th>\n",
              "      <th>Movie_Crew</th>\n",
              "      <th>Movie_Director</th>\n",
              "    </tr>\n",
              "  </thead>\n",
              "  <tbody>\n",
              "    <tr>\n",
              "      <th>0</th>\n",
              "      <td>1</td>\n",
              "      <td>Four Rooms</td>\n",
              "      <td>Crime Comedy</td>\n",
              "      <td>en</td>\n",
              "      <td>4000000</td>\n",
              "      <td>22.876230</td>\n",
              "      <td>09-12-1995</td>\n",
              "      <td>4300000</td>\n",
              "      <td>98.0</td>\n",
              "      <td>6.5</td>\n",
              "      <td>...</td>\n",
              "      <td>NaN</td>\n",
              "      <td>hotel new year's eve witch bet hotel room</td>\n",
              "      <td>It's Ted the Bellhop's first night on the job....</td>\n",
              "      <td>[{\"name\": \"Miramax Films\", \"id\": 14}, {\"name\":...</td>\n",
              "      <td>[{\"iso_3166_1\": \"US\", \"name\": \"United States o...</td>\n",
              "      <td>[{\"iso_639_1\": \"en\", \"name\": \"English\"}]</td>\n",
              "      <td>Twelve outrageous guests. Four scandalous requ...</td>\n",
              "      <td>Tim Roth Antonio Banderas Jennifer Beals Madon...</td>\n",
              "      <td>[{'name': 'Allison Anders', 'gender': 1, 'depa...</td>\n",
              "      <td>Allison Anders</td>\n",
              "    </tr>\n",
              "    <tr>\n",
              "      <th>1</th>\n",
              "      <td>2</td>\n",
              "      <td>Star Wars</td>\n",
              "      <td>Adventure Action Science Fiction</td>\n",
              "      <td>en</td>\n",
              "      <td>11000000</td>\n",
              "      <td>126.393695</td>\n",
              "      <td>25-05-1977</td>\n",
              "      <td>775398007</td>\n",
              "      <td>121.0</td>\n",
              "      <td>8.1</td>\n",
              "      <td>...</td>\n",
              "      <td>http://www.starwars.com/films/star-wars-episod...</td>\n",
              "      <td>android galaxy hermit death star lightsaber</td>\n",
              "      <td>Princess Leia is captured and held hostage by ...</td>\n",
              "      <td>[{\"name\": \"Lucasfilm\", \"id\": 1}, {\"name\": \"Twe...</td>\n",
              "      <td>[{\"iso_3166_1\": \"US\", \"name\": \"United States o...</td>\n",
              "      <td>[{\"iso_639_1\": \"en\", \"name\": \"English\"}]</td>\n",
              "      <td>A long time ago in a galaxy far, far away...</td>\n",
              "      <td>Mark Hamill Harrison Ford Carrie Fisher Peter ...</td>\n",
              "      <td>[{'name': 'George Lucas', 'gender': 2, 'depart...</td>\n",
              "      <td>George Lucas</td>\n",
              "    </tr>\n",
              "    <tr>\n",
              "      <th>2</th>\n",
              "      <td>3</td>\n",
              "      <td>Finding Nemo</td>\n",
              "      <td>Animation Family</td>\n",
              "      <td>en</td>\n",
              "      <td>94000000</td>\n",
              "      <td>85.688789</td>\n",
              "      <td>30-05-2003</td>\n",
              "      <td>940335536</td>\n",
              "      <td>100.0</td>\n",
              "      <td>7.6</td>\n",
              "      <td>...</td>\n",
              "      <td>http://movies.disney.com/finding-nemo</td>\n",
              "      <td>father son relationship harbor underwater fish...</td>\n",
              "      <td>Nemo, an adventurous young clownfish, is unexp...</td>\n",
              "      <td>[{\"name\": \"Pixar Animation Studios\", \"id\": 3}]</td>\n",
              "      <td>[{\"iso_3166_1\": \"US\", \"name\": \"United States o...</td>\n",
              "      <td>[{\"iso_639_1\": \"en\", \"name\": \"English\"}]</td>\n",
              "      <td>There are 3.7 trillion fish in the ocean, they...</td>\n",
              "      <td>Albert Brooks Ellen DeGeneres Alexander Gould ...</td>\n",
              "      <td>[{'name': 'Andrew Stanton', 'gender': 2, 'depa...</td>\n",
              "      <td>Andrew Stanton</td>\n",
              "    </tr>\n",
              "    <tr>\n",
              "      <th>3</th>\n",
              "      <td>4</td>\n",
              "      <td>Forrest Gump</td>\n",
              "      <td>Comedy Drama Romance</td>\n",
              "      <td>en</td>\n",
              "      <td>55000000</td>\n",
              "      <td>138.133331</td>\n",
              "      <td>06-07-1994</td>\n",
              "      <td>677945399</td>\n",
              "      <td>142.0</td>\n",
              "      <td>8.2</td>\n",
              "      <td>...</td>\n",
              "      <td>NaN</td>\n",
              "      <td>vietnam veteran hippie mentally disabled runni...</td>\n",
              "      <td>A man with a low IQ has accomplished great thi...</td>\n",
              "      <td>[{\"name\": \"Paramount Pictures\", \"id\": 4}]</td>\n",
              "      <td>[{\"iso_3166_1\": \"US\", \"name\": \"United States o...</td>\n",
              "      <td>[{\"iso_639_1\": \"en\", \"name\": \"English\"}]</td>\n",
              "      <td>The world will never be the same, once you've ...</td>\n",
              "      <td>Tom Hanks Robin Wright Gary Sinise Mykelti Wil...</td>\n",
              "      <td>[{'name': 'Alan Silvestri', 'gender': 2, 'depa...</td>\n",
              "      <td>Robert Zemeckis</td>\n",
              "    </tr>\n",
              "    <tr>\n",
              "      <th>4</th>\n",
              "      <td>5</td>\n",
              "      <td>American Beauty</td>\n",
              "      <td>Drama</td>\n",
              "      <td>en</td>\n",
              "      <td>15000000</td>\n",
              "      <td>80.878605</td>\n",
              "      <td>15-09-1999</td>\n",
              "      <td>356296601</td>\n",
              "      <td>122.0</td>\n",
              "      <td>7.9</td>\n",
              "      <td>...</td>\n",
              "      <td>http://www.dreamworks.com/ab/</td>\n",
              "      <td>male nudity female nudity adultery midlife cri...</td>\n",
              "      <td>Lester Burnham, a depressed suburban father in...</td>\n",
              "      <td>[{\"name\": \"DreamWorks SKG\", \"id\": 27}, {\"name\"...</td>\n",
              "      <td>[{\"iso_3166_1\": \"US\", \"name\": \"United States o...</td>\n",
              "      <td>[{\"iso_639_1\": \"en\", \"name\": \"English\"}]</td>\n",
              "      <td>Look closer.</td>\n",
              "      <td>Kevin Spacey Annette Bening Thora Birch Wes Be...</td>\n",
              "      <td>[{'name': 'Thomas Newman', 'gender': 2, 'depar...</td>\n",
              "      <td>Sam Mendes</td>\n",
              "    </tr>\n",
              "  </tbody>\n",
              "</table>\n",
              "<p>5 rows × 21 columns</p>\n",
              "</div>\n",
              "    <div class=\"colab-df-buttons\">\n",
              "\n",
              "  <div class=\"colab-df-container\">\n",
              "    <button class=\"colab-df-convert\" onclick=\"convertToInteractive('df-84360ef2-ff46-429f-8777-bfbd6b0ae44b')\"\n",
              "            title=\"Convert this dataframe to an interactive table.\"\n",
              "            style=\"display:none;\">\n",
              "\n",
              "  <svg xmlns=\"http://www.w3.org/2000/svg\" height=\"24px\" viewBox=\"0 -960 960 960\">\n",
              "    <path d=\"M120-120v-720h720v720H120Zm60-500h600v-160H180v160Zm220 220h160v-160H400v160Zm0 220h160v-160H400v160ZM180-400h160v-160H180v160Zm440 0h160v-160H620v160ZM180-180h160v-160H180v160Zm440 0h160v-160H620v160Z\"/>\n",
              "  </svg>\n",
              "    </button>\n",
              "\n",
              "  <style>\n",
              "    .colab-df-container {\n",
              "      display:flex;\n",
              "      gap: 12px;\n",
              "    }\n",
              "\n",
              "    .colab-df-convert {\n",
              "      background-color: #E8F0FE;\n",
              "      border: none;\n",
              "      border-radius: 50%;\n",
              "      cursor: pointer;\n",
              "      display: none;\n",
              "      fill: #1967D2;\n",
              "      height: 32px;\n",
              "      padding: 0 0 0 0;\n",
              "      width: 32px;\n",
              "    }\n",
              "\n",
              "    .colab-df-convert:hover {\n",
              "      background-color: #E2EBFA;\n",
              "      box-shadow: 0px 1px 2px rgba(60, 64, 67, 0.3), 0px 1px 3px 1px rgba(60, 64, 67, 0.15);\n",
              "      fill: #174EA6;\n",
              "    }\n",
              "\n",
              "    .colab-df-buttons div {\n",
              "      margin-bottom: 4px;\n",
              "    }\n",
              "\n",
              "    [theme=dark] .colab-df-convert {\n",
              "      background-color: #3B4455;\n",
              "      fill: #D2E3FC;\n",
              "    }\n",
              "\n",
              "    [theme=dark] .colab-df-convert:hover {\n",
              "      background-color: #434B5C;\n",
              "      box-shadow: 0px 1px 3px 1px rgba(0, 0, 0, 0.15);\n",
              "      filter: drop-shadow(0px 1px 2px rgba(0, 0, 0, 0.3));\n",
              "      fill: #FFFFFF;\n",
              "    }\n",
              "  </style>\n",
              "\n",
              "    <script>\n",
              "      const buttonEl =\n",
              "        document.querySelector('#df-84360ef2-ff46-429f-8777-bfbd6b0ae44b button.colab-df-convert');\n",
              "      buttonEl.style.display =\n",
              "        google.colab.kernel.accessAllowed ? 'block' : 'none';\n",
              "\n",
              "      async function convertToInteractive(key) {\n",
              "        const element = document.querySelector('#df-84360ef2-ff46-429f-8777-bfbd6b0ae44b');\n",
              "        const dataTable =\n",
              "          await google.colab.kernel.invokeFunction('convertToInteractive',\n",
              "                                                    [key], {});\n",
              "        if (!dataTable) return;\n",
              "\n",
              "        const docLinkHtml = 'Like what you see? Visit the ' +\n",
              "          '<a target=\"_blank\" href=https://colab.research.google.com/notebooks/data_table.ipynb>data table notebook</a>'\n",
              "          + ' to learn more about interactive tables.';\n",
              "        element.innerHTML = '';\n",
              "        dataTable['output_type'] = 'display_data';\n",
              "        await google.colab.output.renderOutput(dataTable, element);\n",
              "        const docLink = document.createElement('div');\n",
              "        docLink.innerHTML = docLinkHtml;\n",
              "        element.appendChild(docLink);\n",
              "      }\n",
              "    </script>\n",
              "  </div>\n",
              "\n",
              "\n",
              "<div id=\"df-b11470ac-2d0c-404b-a941-714cc5cfe02d\">\n",
              "  <button class=\"colab-df-quickchart\" onclick=\"quickchart('df-b11470ac-2d0c-404b-a941-714cc5cfe02d')\"\n",
              "            title=\"Suggest charts\"\n",
              "            style=\"display:none;\">\n",
              "\n",
              "<svg xmlns=\"http://www.w3.org/2000/svg\" height=\"24px\"viewBox=\"0 0 24 24\"\n",
              "     width=\"24px\">\n",
              "    <g>\n",
              "        <path d=\"M19 3H5c-1.1 0-2 .9-2 2v14c0 1.1.9 2 2 2h14c1.1 0 2-.9 2-2V5c0-1.1-.9-2-2-2zM9 17H7v-7h2v7zm4 0h-2V7h2v10zm4 0h-2v-4h2v4z\"/>\n",
              "    </g>\n",
              "</svg>\n",
              "  </button>\n",
              "\n",
              "<style>\n",
              "  .colab-df-quickchart {\n",
              "      --bg-color: #E8F0FE;\n",
              "      --fill-color: #1967D2;\n",
              "      --hover-bg-color: #E2EBFA;\n",
              "      --hover-fill-color: #174EA6;\n",
              "      --disabled-fill-color: #AAA;\n",
              "      --disabled-bg-color: #DDD;\n",
              "  }\n",
              "\n",
              "  [theme=dark] .colab-df-quickchart {\n",
              "      --bg-color: #3B4455;\n",
              "      --fill-color: #D2E3FC;\n",
              "      --hover-bg-color: #434B5C;\n",
              "      --hover-fill-color: #FFFFFF;\n",
              "      --disabled-bg-color: #3B4455;\n",
              "      --disabled-fill-color: #666;\n",
              "  }\n",
              "\n",
              "  .colab-df-quickchart {\n",
              "    background-color: var(--bg-color);\n",
              "    border: none;\n",
              "    border-radius: 50%;\n",
              "    cursor: pointer;\n",
              "    display: none;\n",
              "    fill: var(--fill-color);\n",
              "    height: 32px;\n",
              "    padding: 0;\n",
              "    width: 32px;\n",
              "  }\n",
              "\n",
              "  .colab-df-quickchart:hover {\n",
              "    background-color: var(--hover-bg-color);\n",
              "    box-shadow: 0 1px 2px rgba(60, 64, 67, 0.3), 0 1px 3px 1px rgba(60, 64, 67, 0.15);\n",
              "    fill: var(--button-hover-fill-color);\n",
              "  }\n",
              "\n",
              "  .colab-df-quickchart-complete:disabled,\n",
              "  .colab-df-quickchart-complete:disabled:hover {\n",
              "    background-color: var(--disabled-bg-color);\n",
              "    fill: var(--disabled-fill-color);\n",
              "    box-shadow: none;\n",
              "  }\n",
              "\n",
              "  .colab-df-spinner {\n",
              "    border: 2px solid var(--fill-color);\n",
              "    border-color: transparent;\n",
              "    border-bottom-color: var(--fill-color);\n",
              "    animation:\n",
              "      spin 1s steps(1) infinite;\n",
              "  }\n",
              "\n",
              "  @keyframes spin {\n",
              "    0% {\n",
              "      border-color: transparent;\n",
              "      border-bottom-color: var(--fill-color);\n",
              "      border-left-color: var(--fill-color);\n",
              "    }\n",
              "    20% {\n",
              "      border-color: transparent;\n",
              "      border-left-color: var(--fill-color);\n",
              "      border-top-color: var(--fill-color);\n",
              "    }\n",
              "    30% {\n",
              "      border-color: transparent;\n",
              "      border-left-color: var(--fill-color);\n",
              "      border-top-color: var(--fill-color);\n",
              "      border-right-color: var(--fill-color);\n",
              "    }\n",
              "    40% {\n",
              "      border-color: transparent;\n",
              "      border-right-color: var(--fill-color);\n",
              "      border-top-color: var(--fill-color);\n",
              "    }\n",
              "    60% {\n",
              "      border-color: transparent;\n",
              "      border-right-color: var(--fill-color);\n",
              "    }\n",
              "    80% {\n",
              "      border-color: transparent;\n",
              "      border-right-color: var(--fill-color);\n",
              "      border-bottom-color: var(--fill-color);\n",
              "    }\n",
              "    90% {\n",
              "      border-color: transparent;\n",
              "      border-bottom-color: var(--fill-color);\n",
              "    }\n",
              "  }\n",
              "</style>\n",
              "\n",
              "  <script>\n",
              "    async function quickchart(key) {\n",
              "      const quickchartButtonEl =\n",
              "        document.querySelector('#' + key + ' button');\n",
              "      quickchartButtonEl.disabled = true;  // To prevent multiple clicks.\n",
              "      quickchartButtonEl.classList.add('colab-df-spinner');\n",
              "      try {\n",
              "        const charts = await google.colab.kernel.invokeFunction(\n",
              "            'suggestCharts', [key], {});\n",
              "      } catch (error) {\n",
              "        console.error('Error during call to suggestCharts:', error);\n",
              "      }\n",
              "      quickchartButtonEl.classList.remove('colab-df-spinner');\n",
              "      quickchartButtonEl.classList.add('colab-df-quickchart-complete');\n",
              "    }\n",
              "    (() => {\n",
              "      let quickchartButtonEl =\n",
              "        document.querySelector('#df-b11470ac-2d0c-404b-a941-714cc5cfe02d button');\n",
              "      quickchartButtonEl.style.display =\n",
              "        google.colab.kernel.accessAllowed ? 'block' : 'none';\n",
              "    })();\n",
              "  </script>\n",
              "</div>\n",
              "\n",
              "    </div>\n",
              "  </div>\n"
            ],
            "application/vnd.google.colaboratory.intrinsic+json": {
              "type": "dataframe",
              "variable_name": "mf"
            }
          },
          "metadata": {},
          "execution_count": 3
        }
      ]
    },
    {
      "cell_type": "code",
      "source": [
        "mf.info()"
      ],
      "metadata": {
        "colab": {
          "base_uri": "https://localhost:8080/"
        },
        "id": "gDKXeRabNLRo",
        "outputId": "77a6de1d-d744-4b3f-def0-b4f827b15a29"
      },
      "execution_count": 4,
      "outputs": [
        {
          "output_type": "stream",
          "name": "stdout",
          "text": [
            "<class 'pandas.core.frame.DataFrame'>\n",
            "RangeIndex: 4760 entries, 0 to 4759\n",
            "Data columns (total 21 columns):\n",
            " #   Column                    Non-Null Count  Dtype  \n",
            "---  ------                    --------------  -----  \n",
            " 0   Movie_ID                  4760 non-null   int64  \n",
            " 1   Movie_Title               4760 non-null   object \n",
            " 2   Movie_Genre               4760 non-null   object \n",
            " 3   Movie_Language            4760 non-null   object \n",
            " 4   Movie_Budget              4760 non-null   int64  \n",
            " 5   Movie_Popularity          4760 non-null   float64\n",
            " 6   Movie_Release_Date        4760 non-null   object \n",
            " 7   Movie_Revenue             4760 non-null   int64  \n",
            " 8   Movie_Runtime             4758 non-null   float64\n",
            " 9   Movie_Vote                4760 non-null   float64\n",
            " 10  Movie_Vote_Count          4760 non-null   int64  \n",
            " 11  Movie_Homepage            1699 non-null   object \n",
            " 12  Movie_Keywords            4373 non-null   object \n",
            " 13  Movie_Overview            4757 non-null   object \n",
            " 14  Movie_Production_House    4760 non-null   object \n",
            " 15  Movie_Production_Country  4760 non-null   object \n",
            " 16  Movie_Spoken_Language     4760 non-null   object \n",
            " 17  Movie_Tagline             3942 non-null   object \n",
            " 18  Movie_Cast                4733 non-null   object \n",
            " 19  Movie_Crew                4760 non-null   object \n",
            " 20  Movie_Director            4738 non-null   object \n",
            "dtypes: float64(3), int64(4), object(14)\n",
            "memory usage: 781.1+ KB\n"
          ]
        }
      ]
    },
    {
      "cell_type": "code",
      "source": [
        "mf.shape"
      ],
      "metadata": {
        "colab": {
          "base_uri": "https://localhost:8080/"
        },
        "id": "Cc4Um64bNRiv",
        "outputId": "2ab20563-b2e2-4084-989b-a7089e74aaa6"
      },
      "execution_count": 5,
      "outputs": [
        {
          "output_type": "execute_result",
          "data": {
            "text/plain": [
              "(4760, 21)"
            ]
          },
          "metadata": {},
          "execution_count": 5
        }
      ]
    },
    {
      "cell_type": "code",
      "source": [
        "mf.columns"
      ],
      "metadata": {
        "colab": {
          "base_uri": "https://localhost:8080/"
        },
        "id": "hoHL8YQpNa-V",
        "outputId": "79b02635-bdf5-4941-afef-2b20350f586b"
      },
      "execution_count": 6,
      "outputs": [
        {
          "output_type": "execute_result",
          "data": {
            "text/plain": [
              "Index(['Movie_ID', 'Movie_Title', 'Movie_Genre', 'Movie_Language',\n",
              "       'Movie_Budget', 'Movie_Popularity', 'Movie_Release_Date',\n",
              "       'Movie_Revenue', 'Movie_Runtime', 'Movie_Vote', 'Movie_Vote_Count',\n",
              "       'Movie_Homepage', 'Movie_Keywords', 'Movie_Overview',\n",
              "       'Movie_Production_House', 'Movie_Production_Country',\n",
              "       'Movie_Spoken_Language', 'Movie_Tagline', 'Movie_Cast', 'Movie_Crew',\n",
              "       'Movie_Director'],\n",
              "      dtype='object')"
            ]
          },
          "metadata": {},
          "execution_count": 6
        }
      ]
    },
    {
      "cell_type": "markdown",
      "source": [
        "# **Import Dataset**"
      ],
      "metadata": {
        "id": "xOB6SZZ4NnLX"
      }
    },
    {
      "cell_type": "code",
      "source": [
        "mf_features = mf[['Movie_Genre', 'Movie_Keywords', 'Movie_Popularity', 'Movie_Cast', 'Movie_Director']].fillna('')"
      ],
      "metadata": {
        "id": "6nHVXdgfNwKv"
      },
      "execution_count": 7,
      "outputs": []
    },
    {
      "cell_type": "code",
      "source": [
        "mf_features.shape"
      ],
      "metadata": {
        "colab": {
          "base_uri": "https://localhost:8080/"
        },
        "id": "zr68kmeyOQ6y",
        "outputId": "9842f4c3-4297-4d15-b746-c049858727ea"
      },
      "execution_count": 8,
      "outputs": [
        {
          "output_type": "execute_result",
          "data": {
            "text/plain": [
              "(4760, 5)"
            ]
          },
          "metadata": {},
          "execution_count": 8
        }
      ]
    },
    {
      "cell_type": "code",
      "source": [
        "mf_features"
      ],
      "metadata": {
        "colab": {
          "base_uri": "https://localhost:8080/",
          "height": 423
        },
        "id": "5qbEZoHAOX2a",
        "outputId": "a218bd9e-00a1-49b1-e5c0-a13796314ee1"
      },
      "execution_count": 9,
      "outputs": [
        {
          "output_type": "execute_result",
          "data": {
            "text/plain": [
              "                           Movie_Genre  \\\n",
              "0                         Crime Comedy   \n",
              "1     Adventure Action Science Fiction   \n",
              "2                     Animation Family   \n",
              "3                 Comedy Drama Romance   \n",
              "4                                Drama   \n",
              "...                                ...   \n",
              "4755                            Horror   \n",
              "4756               Comedy Family Drama   \n",
              "4757                    Thriller Drama   \n",
              "4758                            Family   \n",
              "4759                       Documentary   \n",
              "\n",
              "                                         Movie_Keywords  Movie_Popularity  \\\n",
              "0             hotel new year's eve witch bet hotel room         22.876230   \n",
              "1           android galaxy hermit death star lightsaber        126.393695   \n",
              "2     father son relationship harbor underwater fish...         85.688789   \n",
              "3     vietnam veteran hippie mentally disabled runni...        138.133331   \n",
              "4     male nudity female nudity adultery midlife cri...         80.878605   \n",
              "...                                                 ...               ...   \n",
              "4755                                                             0.001389   \n",
              "4756                                                             0.710870   \n",
              "4757                     christian film sex trafficking          0.015295   \n",
              "4758                                                             0.028756   \n",
              "4759  music actors legendary perfomer classic hollyw...          0.050625   \n",
              "\n",
              "                                             Movie_Cast     Movie_Director  \n",
              "0     Tim Roth Antonio Banderas Jennifer Beals Madon...     Allison Anders  \n",
              "1     Mark Hamill Harrison Ford Carrie Fisher Peter ...       George Lucas  \n",
              "2     Albert Brooks Ellen DeGeneres Alexander Gould ...     Andrew Stanton  \n",
              "3     Tom Hanks Robin Wright Gary Sinise Mykelti Wil...    Robert Zemeckis  \n",
              "4     Kevin Spacey Annette Bening Thora Birch Wes Be...         Sam Mendes  \n",
              "...                                                 ...                ...  \n",
              "4755  Lisa Hart Carroll Michael Des Barres Paul Drak...         Pece Dingo  \n",
              "4756  Roni Akurati Brighton Sharbino Jason Lee Anjul...       Frank Lotito  \n",
              "4757  Nicole Smolen Kim Baldwin Ariana Stephens Brys...       Jaco Booyens  \n",
              "4758                                                                        \n",
              "4759                                    Tony Oppedisano  Simon Napier-Bell  \n",
              "\n",
              "[4760 rows x 5 columns]"
            ],
            "text/html": [
              "\n",
              "  <div id=\"df-7543f1a9-412c-4bcc-99de-1ef521790a5d\" class=\"colab-df-container\">\n",
              "    <div>\n",
              "<style scoped>\n",
              "    .dataframe tbody tr th:only-of-type {\n",
              "        vertical-align: middle;\n",
              "    }\n",
              "\n",
              "    .dataframe tbody tr th {\n",
              "        vertical-align: top;\n",
              "    }\n",
              "\n",
              "    .dataframe thead th {\n",
              "        text-align: right;\n",
              "    }\n",
              "</style>\n",
              "<table border=\"1\" class=\"dataframe\">\n",
              "  <thead>\n",
              "    <tr style=\"text-align: right;\">\n",
              "      <th></th>\n",
              "      <th>Movie_Genre</th>\n",
              "      <th>Movie_Keywords</th>\n",
              "      <th>Movie_Popularity</th>\n",
              "      <th>Movie_Cast</th>\n",
              "      <th>Movie_Director</th>\n",
              "    </tr>\n",
              "  </thead>\n",
              "  <tbody>\n",
              "    <tr>\n",
              "      <th>0</th>\n",
              "      <td>Crime Comedy</td>\n",
              "      <td>hotel new year's eve witch bet hotel room</td>\n",
              "      <td>22.876230</td>\n",
              "      <td>Tim Roth Antonio Banderas Jennifer Beals Madon...</td>\n",
              "      <td>Allison Anders</td>\n",
              "    </tr>\n",
              "    <tr>\n",
              "      <th>1</th>\n",
              "      <td>Adventure Action Science Fiction</td>\n",
              "      <td>android galaxy hermit death star lightsaber</td>\n",
              "      <td>126.393695</td>\n",
              "      <td>Mark Hamill Harrison Ford Carrie Fisher Peter ...</td>\n",
              "      <td>George Lucas</td>\n",
              "    </tr>\n",
              "    <tr>\n",
              "      <th>2</th>\n",
              "      <td>Animation Family</td>\n",
              "      <td>father son relationship harbor underwater fish...</td>\n",
              "      <td>85.688789</td>\n",
              "      <td>Albert Brooks Ellen DeGeneres Alexander Gould ...</td>\n",
              "      <td>Andrew Stanton</td>\n",
              "    </tr>\n",
              "    <tr>\n",
              "      <th>3</th>\n",
              "      <td>Comedy Drama Romance</td>\n",
              "      <td>vietnam veteran hippie mentally disabled runni...</td>\n",
              "      <td>138.133331</td>\n",
              "      <td>Tom Hanks Robin Wright Gary Sinise Mykelti Wil...</td>\n",
              "      <td>Robert Zemeckis</td>\n",
              "    </tr>\n",
              "    <tr>\n",
              "      <th>4</th>\n",
              "      <td>Drama</td>\n",
              "      <td>male nudity female nudity adultery midlife cri...</td>\n",
              "      <td>80.878605</td>\n",
              "      <td>Kevin Spacey Annette Bening Thora Birch Wes Be...</td>\n",
              "      <td>Sam Mendes</td>\n",
              "    </tr>\n",
              "    <tr>\n",
              "      <th>...</th>\n",
              "      <td>...</td>\n",
              "      <td>...</td>\n",
              "      <td>...</td>\n",
              "      <td>...</td>\n",
              "      <td>...</td>\n",
              "    </tr>\n",
              "    <tr>\n",
              "      <th>4755</th>\n",
              "      <td>Horror</td>\n",
              "      <td></td>\n",
              "      <td>0.001389</td>\n",
              "      <td>Lisa Hart Carroll Michael Des Barres Paul Drak...</td>\n",
              "      <td>Pece Dingo</td>\n",
              "    </tr>\n",
              "    <tr>\n",
              "      <th>4756</th>\n",
              "      <td>Comedy Family Drama</td>\n",
              "      <td></td>\n",
              "      <td>0.710870</td>\n",
              "      <td>Roni Akurati Brighton Sharbino Jason Lee Anjul...</td>\n",
              "      <td>Frank Lotito</td>\n",
              "    </tr>\n",
              "    <tr>\n",
              "      <th>4757</th>\n",
              "      <td>Thriller Drama</td>\n",
              "      <td>christian film sex trafficking</td>\n",
              "      <td>0.015295</td>\n",
              "      <td>Nicole Smolen Kim Baldwin Ariana Stephens Brys...</td>\n",
              "      <td>Jaco Booyens</td>\n",
              "    </tr>\n",
              "    <tr>\n",
              "      <th>4758</th>\n",
              "      <td>Family</td>\n",
              "      <td></td>\n",
              "      <td>0.028756</td>\n",
              "      <td></td>\n",
              "      <td></td>\n",
              "    </tr>\n",
              "    <tr>\n",
              "      <th>4759</th>\n",
              "      <td>Documentary</td>\n",
              "      <td>music actors legendary perfomer classic hollyw...</td>\n",
              "      <td>0.050625</td>\n",
              "      <td>Tony Oppedisano</td>\n",
              "      <td>Simon Napier-Bell</td>\n",
              "    </tr>\n",
              "  </tbody>\n",
              "</table>\n",
              "<p>4760 rows × 5 columns</p>\n",
              "</div>\n",
              "    <div class=\"colab-df-buttons\">\n",
              "\n",
              "  <div class=\"colab-df-container\">\n",
              "    <button class=\"colab-df-convert\" onclick=\"convertToInteractive('df-7543f1a9-412c-4bcc-99de-1ef521790a5d')\"\n",
              "            title=\"Convert this dataframe to an interactive table.\"\n",
              "            style=\"display:none;\">\n",
              "\n",
              "  <svg xmlns=\"http://www.w3.org/2000/svg\" height=\"24px\" viewBox=\"0 -960 960 960\">\n",
              "    <path d=\"M120-120v-720h720v720H120Zm60-500h600v-160H180v160Zm220 220h160v-160H400v160Zm0 220h160v-160H400v160ZM180-400h160v-160H180v160Zm440 0h160v-160H620v160ZM180-180h160v-160H180v160Zm440 0h160v-160H620v160Z\"/>\n",
              "  </svg>\n",
              "    </button>\n",
              "\n",
              "  <style>\n",
              "    .colab-df-container {\n",
              "      display:flex;\n",
              "      gap: 12px;\n",
              "    }\n",
              "\n",
              "    .colab-df-convert {\n",
              "      background-color: #E8F0FE;\n",
              "      border: none;\n",
              "      border-radius: 50%;\n",
              "      cursor: pointer;\n",
              "      display: none;\n",
              "      fill: #1967D2;\n",
              "      height: 32px;\n",
              "      padding: 0 0 0 0;\n",
              "      width: 32px;\n",
              "    }\n",
              "\n",
              "    .colab-df-convert:hover {\n",
              "      background-color: #E2EBFA;\n",
              "      box-shadow: 0px 1px 2px rgba(60, 64, 67, 0.3), 0px 1px 3px 1px rgba(60, 64, 67, 0.15);\n",
              "      fill: #174EA6;\n",
              "    }\n",
              "\n",
              "    .colab-df-buttons div {\n",
              "      margin-bottom: 4px;\n",
              "    }\n",
              "\n",
              "    [theme=dark] .colab-df-convert {\n",
              "      background-color: #3B4455;\n",
              "      fill: #D2E3FC;\n",
              "    }\n",
              "\n",
              "    [theme=dark] .colab-df-convert:hover {\n",
              "      background-color: #434B5C;\n",
              "      box-shadow: 0px 1px 3px 1px rgba(0, 0, 0, 0.15);\n",
              "      filter: drop-shadow(0px 1px 2px rgba(0, 0, 0, 0.3));\n",
              "      fill: #FFFFFF;\n",
              "    }\n",
              "  </style>\n",
              "\n",
              "    <script>\n",
              "      const buttonEl =\n",
              "        document.querySelector('#df-7543f1a9-412c-4bcc-99de-1ef521790a5d button.colab-df-convert');\n",
              "      buttonEl.style.display =\n",
              "        google.colab.kernel.accessAllowed ? 'block' : 'none';\n",
              "\n",
              "      async function convertToInteractive(key) {\n",
              "        const element = document.querySelector('#df-7543f1a9-412c-4bcc-99de-1ef521790a5d');\n",
              "        const dataTable =\n",
              "          await google.colab.kernel.invokeFunction('convertToInteractive',\n",
              "                                                    [key], {});\n",
              "        if (!dataTable) return;\n",
              "\n",
              "        const docLinkHtml = 'Like what you see? Visit the ' +\n",
              "          '<a target=\"_blank\" href=https://colab.research.google.com/notebooks/data_table.ipynb>data table notebook</a>'\n",
              "          + ' to learn more about interactive tables.';\n",
              "        element.innerHTML = '';\n",
              "        dataTable['output_type'] = 'display_data';\n",
              "        await google.colab.output.renderOutput(dataTable, element);\n",
              "        const docLink = document.createElement('div');\n",
              "        docLink.innerHTML = docLinkHtml;\n",
              "        element.appendChild(docLink);\n",
              "      }\n",
              "    </script>\n",
              "  </div>\n",
              "\n",
              "\n",
              "<div id=\"df-edc36237-a585-4b8a-b492-bad31b55ca51\">\n",
              "  <button class=\"colab-df-quickchart\" onclick=\"quickchart('df-edc36237-a585-4b8a-b492-bad31b55ca51')\"\n",
              "            title=\"Suggest charts\"\n",
              "            style=\"display:none;\">\n",
              "\n",
              "<svg xmlns=\"http://www.w3.org/2000/svg\" height=\"24px\"viewBox=\"0 0 24 24\"\n",
              "     width=\"24px\">\n",
              "    <g>\n",
              "        <path d=\"M19 3H5c-1.1 0-2 .9-2 2v14c0 1.1.9 2 2 2h14c1.1 0 2-.9 2-2V5c0-1.1-.9-2-2-2zM9 17H7v-7h2v7zm4 0h-2V7h2v10zm4 0h-2v-4h2v4z\"/>\n",
              "    </g>\n",
              "</svg>\n",
              "  </button>\n",
              "\n",
              "<style>\n",
              "  .colab-df-quickchart {\n",
              "      --bg-color: #E8F0FE;\n",
              "      --fill-color: #1967D2;\n",
              "      --hover-bg-color: #E2EBFA;\n",
              "      --hover-fill-color: #174EA6;\n",
              "      --disabled-fill-color: #AAA;\n",
              "      --disabled-bg-color: #DDD;\n",
              "  }\n",
              "\n",
              "  [theme=dark] .colab-df-quickchart {\n",
              "      --bg-color: #3B4455;\n",
              "      --fill-color: #D2E3FC;\n",
              "      --hover-bg-color: #434B5C;\n",
              "      --hover-fill-color: #FFFFFF;\n",
              "      --disabled-bg-color: #3B4455;\n",
              "      --disabled-fill-color: #666;\n",
              "  }\n",
              "\n",
              "  .colab-df-quickchart {\n",
              "    background-color: var(--bg-color);\n",
              "    border: none;\n",
              "    border-radius: 50%;\n",
              "    cursor: pointer;\n",
              "    display: none;\n",
              "    fill: var(--fill-color);\n",
              "    height: 32px;\n",
              "    padding: 0;\n",
              "    width: 32px;\n",
              "  }\n",
              "\n",
              "  .colab-df-quickchart:hover {\n",
              "    background-color: var(--hover-bg-color);\n",
              "    box-shadow: 0 1px 2px rgba(60, 64, 67, 0.3), 0 1px 3px 1px rgba(60, 64, 67, 0.15);\n",
              "    fill: var(--button-hover-fill-color);\n",
              "  }\n",
              "\n",
              "  .colab-df-quickchart-complete:disabled,\n",
              "  .colab-df-quickchart-complete:disabled:hover {\n",
              "    background-color: var(--disabled-bg-color);\n",
              "    fill: var(--disabled-fill-color);\n",
              "    box-shadow: none;\n",
              "  }\n",
              "\n",
              "  .colab-df-spinner {\n",
              "    border: 2px solid var(--fill-color);\n",
              "    border-color: transparent;\n",
              "    border-bottom-color: var(--fill-color);\n",
              "    animation:\n",
              "      spin 1s steps(1) infinite;\n",
              "  }\n",
              "\n",
              "  @keyframes spin {\n",
              "    0% {\n",
              "      border-color: transparent;\n",
              "      border-bottom-color: var(--fill-color);\n",
              "      border-left-color: var(--fill-color);\n",
              "    }\n",
              "    20% {\n",
              "      border-color: transparent;\n",
              "      border-left-color: var(--fill-color);\n",
              "      border-top-color: var(--fill-color);\n",
              "    }\n",
              "    30% {\n",
              "      border-color: transparent;\n",
              "      border-left-color: var(--fill-color);\n",
              "      border-top-color: var(--fill-color);\n",
              "      border-right-color: var(--fill-color);\n",
              "    }\n",
              "    40% {\n",
              "      border-color: transparent;\n",
              "      border-right-color: var(--fill-color);\n",
              "      border-top-color: var(--fill-color);\n",
              "    }\n",
              "    60% {\n",
              "      border-color: transparent;\n",
              "      border-right-color: var(--fill-color);\n",
              "    }\n",
              "    80% {\n",
              "      border-color: transparent;\n",
              "      border-right-color: var(--fill-color);\n",
              "      border-bottom-color: var(--fill-color);\n",
              "    }\n",
              "    90% {\n",
              "      border-color: transparent;\n",
              "      border-bottom-color: var(--fill-color);\n",
              "    }\n",
              "  }\n",
              "</style>\n",
              "\n",
              "  <script>\n",
              "    async function quickchart(key) {\n",
              "      const quickchartButtonEl =\n",
              "        document.querySelector('#' + key + ' button');\n",
              "      quickchartButtonEl.disabled = true;  // To prevent multiple clicks.\n",
              "      quickchartButtonEl.classList.add('colab-df-spinner');\n",
              "      try {\n",
              "        const charts = await google.colab.kernel.invokeFunction(\n",
              "            'suggestCharts', [key], {});\n",
              "      } catch (error) {\n",
              "        console.error('Error during call to suggestCharts:', error);\n",
              "      }\n",
              "      quickchartButtonEl.classList.remove('colab-df-spinner');\n",
              "      quickchartButtonEl.classList.add('colab-df-quickchart-complete');\n",
              "    }\n",
              "    (() => {\n",
              "      let quickchartButtonEl =\n",
              "        document.querySelector('#df-edc36237-a585-4b8a-b492-bad31b55ca51 button');\n",
              "      quickchartButtonEl.style.display =\n",
              "        google.colab.kernel.accessAllowed ? 'block' : 'none';\n",
              "    })();\n",
              "  </script>\n",
              "</div>\n",
              "\n",
              "  <div id=\"id_a36542ca-8ae6-49ce-8fde-a085377f3301\">\n",
              "    <style>\n",
              "      .colab-df-generate {\n",
              "        background-color: #E8F0FE;\n",
              "        border: none;\n",
              "        border-radius: 50%;\n",
              "        cursor: pointer;\n",
              "        display: none;\n",
              "        fill: #1967D2;\n",
              "        height: 32px;\n",
              "        padding: 0 0 0 0;\n",
              "        width: 32px;\n",
              "      }\n",
              "\n",
              "      .colab-df-generate:hover {\n",
              "        background-color: #E2EBFA;\n",
              "        box-shadow: 0px 1px 2px rgba(60, 64, 67, 0.3), 0px 1px 3px 1px rgba(60, 64, 67, 0.15);\n",
              "        fill: #174EA6;\n",
              "      }\n",
              "\n",
              "      [theme=dark] .colab-df-generate {\n",
              "        background-color: #3B4455;\n",
              "        fill: #D2E3FC;\n",
              "      }\n",
              "\n",
              "      [theme=dark] .colab-df-generate:hover {\n",
              "        background-color: #434B5C;\n",
              "        box-shadow: 0px 1px 3px 1px rgba(0, 0, 0, 0.15);\n",
              "        filter: drop-shadow(0px 1px 2px rgba(0, 0, 0, 0.3));\n",
              "        fill: #FFFFFF;\n",
              "      }\n",
              "    </style>\n",
              "    <button class=\"colab-df-generate\" onclick=\"generateWithVariable('mf_features')\"\n",
              "            title=\"Generate code using this dataframe.\"\n",
              "            style=\"display:none;\">\n",
              "\n",
              "  <svg xmlns=\"http://www.w3.org/2000/svg\" height=\"24px\"viewBox=\"0 0 24 24\"\n",
              "       width=\"24px\">\n",
              "    <path d=\"M7,19H8.4L18.45,9,17,7.55,7,17.6ZM5,21V16.75L18.45,3.32a2,2,0,0,1,2.83,0l1.4,1.43a1.91,1.91,0,0,1,.58,1.4,1.91,1.91,0,0,1-.58,1.4L9.25,21ZM18.45,9,17,7.55Zm-12,3A5.31,5.31,0,0,0,4.9,8.1,5.31,5.31,0,0,0,1,6.5,5.31,5.31,0,0,0,4.9,4.9,5.31,5.31,0,0,0,6.5,1,5.31,5.31,0,0,0,8.1,4.9,5.31,5.31,0,0,0,12,6.5,5.46,5.46,0,0,0,6.5,12Z\"/>\n",
              "  </svg>\n",
              "    </button>\n",
              "    <script>\n",
              "      (() => {\n",
              "      const buttonEl =\n",
              "        document.querySelector('#id_a36542ca-8ae6-49ce-8fde-a085377f3301 button.colab-df-generate');\n",
              "      buttonEl.style.display =\n",
              "        google.colab.kernel.accessAllowed ? 'block' : 'none';\n",
              "\n",
              "      buttonEl.onclick = () => {\n",
              "        google.colab.notebook.generateWithVariable('mf_features');\n",
              "      }\n",
              "      })();\n",
              "    </script>\n",
              "  </div>\n",
              "\n",
              "    </div>\n",
              "  </div>\n"
            ],
            "application/vnd.google.colaboratory.intrinsic+json": {
              "type": "dataframe",
              "variable_name": "mf_features",
              "summary": "{\n  \"name\": \"mf_features\",\n  \"rows\": 4760,\n  \"fields\": [\n    {\n      \"column\": \"Movie_Genre\",\n      \"properties\": {\n        \"dtype\": \"category\",\n        \"num_unique_values\": 1164,\n        \"samples\": [\n          \"Family Animation Adventure\",\n          \"Adventure Science Fiction Action\",\n          \"Action Crime Drama Romance Thriller\"\n        ],\n        \"semantic_type\": \"\",\n        \"description\": \"\"\n      }\n    },\n    {\n      \"column\": \"Movie_Keywords\",\n      \"properties\": {\n        \"dtype\": \"string\",\n        \"num_unique_values\": 4203,\n        \"samples\": [\n          \"canada nazis sequel spin off ancient evil\",\n          \"sex professor wedding woman director columbia university\",\n          \"prophecy sea beach gold small town\"\n        ],\n        \"semantic_type\": \"\",\n        \"description\": \"\"\n      }\n    },\n    {\n      \"column\": \"Movie_Popularity\",\n      \"properties\": {\n        \"dtype\": \"number\",\n        \"std\": 31.887919408553724,\n        \"min\": 0.000372,\n        \"max\": 875.581305,\n        \"num_unique_values\": 4759,\n        \"samples\": [\n          3.231848,\n          26.090746,\n          92.201962\n        ],\n        \"semantic_type\": \"\",\n        \"description\": \"\"\n      }\n    },\n    {\n      \"column\": \"Movie_Cast\",\n      \"properties\": {\n        \"dtype\": \"string\",\n        \"num_unique_values\": 4715,\n        \"samples\": [\n          \"Robin Tunney Fairuza Balk Neve Campbell Rachel True Skeet Ulrich\",\n          \"Peter Sellers Christopher Plummer Herbert Lom Catherine Schell Peter Arne\",\n          \"John Wayne Laraine Day Cedric Hardwicke Judith Anderson Anthony Quinn\"\n        ],\n        \"semantic_type\": \"\",\n        \"description\": \"\"\n      }\n    },\n    {\n      \"column\": \"Movie_Director\",\n      \"properties\": {\n        \"dtype\": \"category\",\n        \"num_unique_values\": 2332,\n        \"samples\": [\n          \"Rob McKittrick\",\n          \"Terron R. Parsons\",\n          \"Cyrus Nowrasteh\"\n        ],\n        \"semantic_type\": \"\",\n        \"description\": \"\"\n      }\n    }\n  ]\n}"
            }
          },
          "metadata": {},
          "execution_count": 9
        }
      ]
    },
    {
      "cell_type": "code",
      "source": [
        "x = mf_features['Movie_Genre'] + ' ' + mf_features['Movie_Keywords'] + ' ' + str(mf_features['Movie_Popularity']) + ' ' + mf_features['Movie_Cast'] + ' ' + mf_features['Movie_Director']"
      ],
      "metadata": {
        "id": "nJMfa2pmOn3X"
      },
      "execution_count": 10,
      "outputs": []
    },
    {
      "cell_type": "code",
      "source": [
        "x.shape"
      ],
      "metadata": {
        "colab": {
          "base_uri": "https://localhost:8080/"
        },
        "id": "2bHCJ_wUOsZ4",
        "outputId": "50fe0105-fb03-4d31-918c-8cda3f089f23"
      },
      "execution_count": 11,
      "outputs": [
        {
          "output_type": "execute_result",
          "data": {
            "text/plain": [
              "(4760,)"
            ]
          },
          "metadata": {},
          "execution_count": 11
        }
      ]
    },
    {
      "cell_type": "code",
      "source": [
        "x"
      ],
      "metadata": {
        "colab": {
          "base_uri": "https://localhost:8080/",
          "height": 458
        },
        "id": "LbBXem28OwP6",
        "outputId": "4aa31453-6e9a-4545-ea00-6b19737c990d"
      },
      "execution_count": 12,
      "outputs": [
        {
          "output_type": "execute_result",
          "data": {
            "text/plain": [
              "0       Crime Comedy hotel new year's eve witch bet ho...\n",
              "1       Adventure Action Science Fiction android galax...\n",
              "2       Animation Family father son relationship harbo...\n",
              "3       Comedy Drama Romance vietnam veteran hippie me...\n",
              "4       Drama male nudity female nudity adultery midli...\n",
              "                              ...                        \n",
              "4755    Horror  0        22.876230\\n1       126.393695...\n",
              "4756    Comedy Family Drama  0        22.876230\\n1    ...\n",
              "4757    Thriller Drama christian film sex trafficking ...\n",
              "4758    Family  0        22.876230\\n1       126.393695...\n",
              "4759    Documentary music actors legendary perfomer cl...\n",
              "Length: 4760, dtype: object"
            ],
            "text/html": [
              "<div>\n",
              "<style scoped>\n",
              "    .dataframe tbody tr th:only-of-type {\n",
              "        vertical-align: middle;\n",
              "    }\n",
              "\n",
              "    .dataframe tbody tr th {\n",
              "        vertical-align: top;\n",
              "    }\n",
              "\n",
              "    .dataframe thead th {\n",
              "        text-align: right;\n",
              "    }\n",
              "</style>\n",
              "<table border=\"1\" class=\"dataframe\">\n",
              "  <thead>\n",
              "    <tr style=\"text-align: right;\">\n",
              "      <th></th>\n",
              "      <th>0</th>\n",
              "    </tr>\n",
              "  </thead>\n",
              "  <tbody>\n",
              "    <tr>\n",
              "      <th>0</th>\n",
              "      <td>Crime Comedy hotel new year's eve witch bet ho...</td>\n",
              "    </tr>\n",
              "    <tr>\n",
              "      <th>1</th>\n",
              "      <td>Adventure Action Science Fiction android galax...</td>\n",
              "    </tr>\n",
              "    <tr>\n",
              "      <th>2</th>\n",
              "      <td>Animation Family father son relationship harbo...</td>\n",
              "    </tr>\n",
              "    <tr>\n",
              "      <th>3</th>\n",
              "      <td>Comedy Drama Romance vietnam veteran hippie me...</td>\n",
              "    </tr>\n",
              "    <tr>\n",
              "      <th>4</th>\n",
              "      <td>Drama male nudity female nudity adultery midli...</td>\n",
              "    </tr>\n",
              "    <tr>\n",
              "      <th>...</th>\n",
              "      <td>...</td>\n",
              "    </tr>\n",
              "    <tr>\n",
              "      <th>4755</th>\n",
              "      <td>Horror  0        22.876230\\n1       126.393695...</td>\n",
              "    </tr>\n",
              "    <tr>\n",
              "      <th>4756</th>\n",
              "      <td>Comedy Family Drama  0        22.876230\\n1    ...</td>\n",
              "    </tr>\n",
              "    <tr>\n",
              "      <th>4757</th>\n",
              "      <td>Thriller Drama christian film sex trafficking ...</td>\n",
              "    </tr>\n",
              "    <tr>\n",
              "      <th>4758</th>\n",
              "      <td>Family  0        22.876230\\n1       126.393695...</td>\n",
              "    </tr>\n",
              "    <tr>\n",
              "      <th>4759</th>\n",
              "      <td>Documentary music actors legendary perfomer cl...</td>\n",
              "    </tr>\n",
              "  </tbody>\n",
              "</table>\n",
              "<p>4760 rows × 1 columns</p>\n",
              "</div><br><label><b>dtype:</b> object</label>"
            ]
          },
          "metadata": {},
          "execution_count": 12
        }
      ]
    },
    {
      "cell_type": "markdown",
      "source": [
        "# **Getting Feature Text Conversion to Tokens**"
      ],
      "metadata": {
        "id": "y4WrYUzvO3n0"
      }
    },
    {
      "cell_type": "code",
      "source": [
        "from sklearn.feature_extraction.text import TfidfVectorizer as tfidf"
      ],
      "metadata": {
        "id": "qZB5Pks3PGQk"
      },
      "execution_count": 18,
      "outputs": []
    },
    {
      "cell_type": "code",
      "source": [
        "x = tfidf().fit_transform(x)"
      ],
      "metadata": {
        "id": "f-LmrmTzPTlM"
      },
      "execution_count": 20,
      "outputs": []
    },
    {
      "cell_type": "code",
      "source": [
        "x.shape"
      ],
      "metadata": {
        "colab": {
          "base_uri": "https://localhost:8080/"
        },
        "id": "ATGniKH6QIFe",
        "outputId": "8726e22b-8d0c-440f-99b3-9ebbe74ebc71"
      },
      "execution_count": 21,
      "outputs": [
        {
          "output_type": "execute_result",
          "data": {
            "text/plain": [
              "(4760, 14819)"
            ]
          },
          "metadata": {},
          "execution_count": 21
        }
      ]
    },
    {
      "cell_type": "code",
      "source": [
        "print(x)"
      ],
      "metadata": {
        "colab": {
          "base_uri": "https://localhost:8080/"
        },
        "id": "SwxHp5y6QO2M",
        "outputId": "8e4f5ac8-4b4e-49da-fea8-b71d81dcea8b"
      },
      "execution_count": 22,
      "outputs": [
        {
          "output_type": "stream",
          "name": "stdout",
          "text": [
            "  (0, 3060)\t0.09958790183481112\n",
            "  (0, 2790)\t0.06905323445829889\n",
            "  (0, 6113)\t0.38490282358238054\n",
            "  (0, 9451)\t0.14496276799571892\n",
            "  (0, 14627)\t0.24546442748886071\n",
            "  (0, 4312)\t0.22728732404731672\n",
            "  (0, 14466)\t0.19471085576339797\n",
            "  (0, 1335)\t0.24907363786907155\n",
            "  (0, 11277)\t0.23157488957363315\n",
            "  (0, 25)\t0.03425581545113448\n",
            "  (0, 43)\t0.03425581545113448\n",
            "  (0, 5)\t0.03425581545113448\n",
            "  (0, 26)\t0.03425581545113448\n",
            "  (0, 42)\t0.03425581545113448\n",
            "  (0, 39)\t0.03425581545113448\n",
            "  (0, 7)\t0.03425581545113448\n",
            "  (0, 6)\t0.03425581545113448\n",
            "  (0, 41)\t0.03425581545113448\n",
            "  (0, 44)\t0.03425581545113448\n",
            "  (0, 29)\t0.03425581545113448\n",
            "  (0, 0)\t0.03425581545113448\n",
            "  (0, 30)\t0.03425581545113448\n",
            "  (0, 40)\t0.03425581545113448\n",
            "  (0, 31)\t0.03425581545113448\n",
            "  (0, 1)\t0.03425581545113448\n",
            "  :\t:\n",
            "  (4759, 1)\t0.0368214597253991\n",
            "  (4759, 32)\t0.0368214597253991\n",
            "  (4759, 2)\t0.0368214597253991\n",
            "  (4759, 33)\t0.0368214597253991\n",
            "  (4759, 3)\t0.0368214597253991\n",
            "  (4759, 9322)\t0.0368214597253991\n",
            "  (4759, 9177)\t0.0368214597253991\n",
            "  (4759, 7677)\t0.0368214597253991\n",
            "  (4759, 34)\t0.0368214597253991\n",
            "  (4759, 3861)\t0.0368214597253991\n",
            "  (4759, 4684)\t0.0368214597253991\n",
            "  (4759, 9247)\t0.1519208784912134\n",
            "  (4759, 1240)\t0.2017532085737299\n",
            "  (4759, 13264)\t0.1868233914254705\n",
            "  (4759, 4788)\t0.18728080674528533\n",
            "  (4759, 12151)\t0.19167532857480982\n",
            "  (4759, 3694)\t0.17423968357050018\n",
            "  (4759, 9333)\t0.29758804200403194\n",
            "  (4759, 2635)\t0.3081809158485346\n",
            "  (4759, 6043)\t0.2603394197764857\n",
            "  (4759, 12161)\t0.3081809158485346\n",
            "  (4759, 111)\t0.3231107329967939\n",
            "  (4759, 7643)\t0.3231107329967939\n",
            "  (4759, 10138)\t0.3231107329967939\n",
            "  (4759, 9765)\t0.3231107329967939\n"
          ]
        }
      ]
    },
    {
      "cell_type": "markdown",
      "source": [
        "# **Getting Similarity Score Using Cosine Similarity**"
      ],
      "metadata": {
        "id": "pnm_TFUfQert"
      }
    },
    {
      "cell_type": "code",
      "source": [
        "from sklearn.metrics.pairwise import cosine_similarity as cs"
      ],
      "metadata": {
        "id": "qtcl_NKvQr2g"
      },
      "execution_count": 23,
      "outputs": []
    },
    {
      "cell_type": "code",
      "source": [
        "ss = cs(x)"
      ],
      "metadata": {
        "id": "xwrV8esBRYnm"
      },
      "execution_count": 26,
      "outputs": []
    },
    {
      "cell_type": "code",
      "source": [
        "ss"
      ],
      "metadata": {
        "colab": {
          "base_uri": "https://localhost:8080/"
        },
        "id": "RZt-GQKwRKUO",
        "outputId": "4c79a624-7991-4c9e-c1e0-a44751333d6f"
      },
      "execution_count": 28,
      "outputs": [
        {
          "output_type": "execute_result",
          "data": {
            "text/plain": [
              "array([[1.        , 0.03087534, 0.02775625, ..., 0.0328161 , 0.14977568,\n",
              "        0.03279508],\n",
              "       [0.03087534, 1.        , 0.02808863, ..., 0.03320907, 0.15156922,\n",
              "        0.0331878 ],\n",
              "       [0.02775625, 0.02808863, 1.        , ..., 0.02985423, 0.18531884,\n",
              "        0.0298351 ],\n",
              "       ...,\n",
              "       [0.0328161 , 0.03320907, 0.02985423, ..., 1.        , 0.16109656,\n",
              "        0.03527391],\n",
              "       [0.14977568, 0.15156922, 0.18531884, ..., 0.16109656, 1.        ,\n",
              "        0.16099337],\n",
              "       [0.03279508, 0.0331878 , 0.0298351 , ..., 0.03527391, 0.16099337,\n",
              "        1.        ]])"
            ]
          },
          "metadata": {},
          "execution_count": 28
        }
      ]
    },
    {
      "cell_type": "code",
      "source": [
        "cs(x).shape\n",
        "ss.shape"
      ],
      "metadata": {
        "colab": {
          "base_uri": "https://localhost:8080/"
        },
        "id": "Zpj0qMw1RFcV",
        "outputId": "b9a4b00f-1cf3-47d5-ea1a-83c56c0baf67"
      },
      "execution_count": 29,
      "outputs": [
        {
          "output_type": "execute_result",
          "data": {
            "text/plain": [
              "(4760, 4760)"
            ]
          },
          "metadata": {},
          "execution_count": 29
        }
      ]
    },
    {
      "cell_type": "markdown",
      "source": [
        "# **Getting Movie Name as Input from User and Validate for Closest Spelling**"
      ],
      "metadata": {
        "id": "dRIAgDJUR1wP"
      }
    },
    {
      "cell_type": "code",
      "source": [
        "Favorite_Movie_Name = input ('Enter your favourite movie name : ')"
      ],
      "metadata": {
        "colab": {
          "base_uri": "https://localhost:8080/"
        },
        "id": "CTw3-OslSJDD",
        "outputId": "f55025c4-ed71-41a9-9199-93908945f776"
      },
      "execution_count": 30,
      "outputs": [
        {
          "name": "stdout",
          "output_type": "stream",
          "text": [
            "Enter your favourite movie name : Inception\n"
          ]
        }
      ]
    },
    {
      "cell_type": "code",
      "source": [
        "All_Movie_Title_List = mf['Movie_Title'].tolist()"
      ],
      "metadata": {
        "id": "MMHfpM-ETDyT"
      },
      "execution_count": 31,
      "outputs": []
    },
    {
      "cell_type": "code",
      "source": [
        "import difflib"
      ],
      "metadata": {
        "id": "PRC6KRHBTPty"
      },
      "execution_count": 32,
      "outputs": []
    },
    {
      "cell_type": "code",
      "source": [
        "Movie_Recommendation = difflib.get_close_matches(Favorite_Movie_Name, All_Movie_Title_List)\n",
        "print(Movie_Recommendation)"
      ],
      "metadata": {
        "colab": {
          "base_uri": "https://localhost:8080/"
        },
        "id": "VG-ZDdQETVXB",
        "outputId": "5e17ea83-82b5-489a-81ec-08346b6f4649"
      },
      "execution_count": 33,
      "outputs": [
        {
          "output_type": "stream",
          "name": "stdout",
          "text": [
            "['Inception', 'Inchon', 'Indignation']\n"
          ]
        }
      ]
    },
    {
      "cell_type": "code",
      "source": [
        "Close_Match = Movie_Recommendation[0]\n",
        "print(Close_Match)"
      ],
      "metadata": {
        "colab": {
          "base_uri": "https://localhost:8080/"
        },
        "id": "4GUuknHTTgiS",
        "outputId": "060e2eb2-84dc-4b7a-eb3c-93559b52aca0"
      },
      "execution_count": 34,
      "outputs": [
        {
          "output_type": "stream",
          "name": "stdout",
          "text": [
            "Inception\n"
          ]
        }
      ]
    },
    {
      "cell_type": "code",
      "source": [
        "Index_of_Close_Match_Movie = mf[mf.Movie_Title == Close_Match]['Movie_ID'].values[0]\n",
        "print(Index_of_Close_Match_Movie)"
      ],
      "metadata": {
        "colab": {
          "base_uri": "https://localhost:8080/"
        },
        "id": "6KqG3EeETmoy",
        "outputId": "bee4dfab-e81b-4d92-c4aa-a9f61ca1f571"
      },
      "execution_count": 35,
      "outputs": [
        {
          "output_type": "stream",
          "name": "stdout",
          "text": [
            "2945\n"
          ]
        }
      ]
    },
    {
      "cell_type": "code",
      "source": [
        "Reccomendation_Score = list(enumerate(ss[Index_of_Close_Match_Movie]))\n",
        "print(Reccomendation_Score)"
      ],
      "metadata": {
        "colab": {
          "base_uri": "https://localhost:8080/"
        },
        "id": "gKA_2AVQT2JL",
        "outputId": "25afad49-9503-4453-ee43-740b165e69f0"
      },
      "execution_count": 36,
      "outputs": [
        {
          "output_type": "stream",
          "name": "stdout",
          "text": [
            "[(0, 0.03485398112864751), (1, 0.03050394801810992), (2, 0.027422384230682766), (3, 0.047253850545499326), (4, 0.03301641992053034), (5, 0.03295203442222972), (6, 0.03232198880734751), (7, 0.02600708600788597), (8, 0.040405979392635995), (9, 0.027633318524634302), (10, 0.03023152812475894), (11, 0.03319647162215168), (12, 0.033545040306458024), (13, 0.028189707390146264), (14, 0.03226718770310995), (15, 0.043904274678710754), (16, 0.026142053953927182), (17, 0.053231411350150054), (18, 0.034411348340927364), (19, 0.028427195212728282), (20, 0.034513673539871614), (21, 0.06807753547039223), (22, 0.03480226832245301), (23, 0.04176887875359858), (24, 0.03160489521262939), (25, 0.03493654791663119), (26, 0.032347189420775205), (27, 0.030254003562397748), (28, 0.03453559758826923), (29, 0.03965805959290418), (30, 0.030233711097421304), (31, 0.03306235662320802), (32, 0.02851135544546649), (33, 0.03793744084058372), (34, 0.0335009231981911), (35, 0.031078411556762768), (36, 0.027543290958495992), (37, 0.029493439982013668), (38, 0.03765954419021898), (39, 0.03267305472341659), (40, 0.034659936740599605), (41, 0.03527930763686984), (42, 0.035643188776220976), (43, 0.034268793802591756), (44, 0.030187708188508838), (45, 0.03650961247898011), (46, 0.04975209526905709), (47, 0.027437148149117175), (48, 0.03493273361582602), (49, 0.11605112571813625), (50, 0.03626023094918704), (51, 0.04261897139203955), (52, 0.030498863553616615), (53, 0.03604650840396728), (54, 0.0301599396218984), (55, 0.029929099808680533), (56, 0.03021980919970858), (57, 0.02504009063272645), (58, 0.025406166148012985), (59, 0.03620529181068876), (60, 0.06305272144284486), (61, 0.0318027843667185), (62, 0.045348054260762084), (63, 0.035050394185940116), (64, 0.02389676006305789), (65, 0.028633275075504026), (66, 0.05532612968745265), (67, 0.028354440671564604), (68, 0.03500272814859379), (69, 0.032230582297767624), (70, 0.031147966546799515), (71, 0.04143185412844626), (72, 0.027891732759281758), (73, 0.03476371359876635), (74, 0.03537423645395275), (75, 0.026284195779375914), (76, 0.02712261970706843), (77, 0.028278233868505795), (78, 0.02548313507944398), (79, 0.033914027694318054), (80, 0.028103784501318785), (81, 0.04649694249395429), (82, 0.03422227229644851), (83, 0.06528281756205404), (84, 0.06116839886018165), (85, 0.040214839870521255), (86, 0.04497196620284162), (87, 0.03650308006289086), (88, 0.026170736497527106), (89, 0.03431210831002628), (90, 0.0872921972484123), (91, 0.035772185766786514), (92, 0.029990125917646417), (93, 0.02766155860500552), (94, 0.026936704695959643), (95, 0.030795358682094494), (96, 0.03335761716093837), (97, 0.030487707308011598), (98, 0.03648879276951816), (99, 0.02616747237363327), (100, 0.03394711796448977), (101, 0.031246972492515273), (102, 0.0315174183598773), (103, 0.03700374521621311), (104, 0.034288563089973724), (105, 0.05855021001217125), (106, 0.030759115241902793), (107, 0.03643866605856288), (108, 0.029352520517434026), (109, 0.0323968101522654), (110, 0.04354387974844834), (111, 0.06797636932798047), (112, 0.06335451824652247), (113, 0.07615959768399058), (114, 0.04725844747804691), (115, 0.038355527407282895), (116, 0.037242635294078154), (117, 0.02765879600001695), (118, 0.03234510095695018), (119, 0.08132397630589688), (120, 0.031017958330027115), (121, 0.1163084251448895), (122, 0.030345606684917897), (123, 0.03608981850580457), (124, 0.036443728554998354), (125, 0.05594941472675401), (126, 0.03433296894896139), (127, 0.031507872041237214), (128, 0.03185356821088597), (129, 0.04242092899190202), (130, 0.026365341780684035), (131, 0.031320735959570085), (132, 0.039948242284835934), (133, 0.026732181799965875), (134, 0.03165856485568627), (135, 0.028532154306900717), (136, 0.029640934988977533), (137, 0.03251577232170059), (138, 0.028538966971179552), (139, 0.034980149544059654), (140, 0.028362738252862278), (141, 0.07603481285078081), (142, 0.03548290510633736), (143, 0.05637199083408371), (144, 0.0550587165158507), (145, 0.03266824344949466), (146, 0.1044230900281544), (147, 0.031219781626652416), (148, 0.03155911751534084), (149, 0.025687161665597733), (150, 0.030365599734546434), (151, 0.029898880470611507), (152, 0.029179133594342335), (153, 0.04120068545022229), (154, 0.03483003506079751), (155, 0.0279663963421954), (156, 0.040914371269645006), (157, 0.03288077817158328), (158, 0.06587308786123734), (159, 0.027579456612264186), (160, 0.02858784208340807), (161, 0.04772416549724671), (162, 0.033335581116865215), (163, 0.02856982886399281), (164, 0.03234263718009576), (165, 0.028344609856668954), (166, 0.06609392863351773), (167, 0.035358920753524974), (168, 0.024284637357231062), (169, 0.0446878640403616), (170, 0.0268105948432103), (171, 0.028126185009674218), (172, 0.03159709703383113), (173, 0.05803827611547051), (174, 0.04121098236613076), (175, 0.03697964888938469), (176, 0.031098498250549382), (177, 0.026771499609815334), (178, 0.04266205861337635), (179, 0.02882531670056915), (180, 0.06855670617279314), (181, 0.02955397246612098), (182, 0.08138442528740777), (183, 0.032114145229901477), (184, 0.03333876434674763), (185, 0.03464273130146468), (186, 0.025918741027134387), (187, 0.060570108127310465), (188, 0.03251532775408097), (189, 0.028449250008538776), (190, 0.02803195062376615), (191, 0.027194811301204203), (192, 0.043035418041523596), (193, 0.04786201585232564), (194, 0.034979809848556545), (195, 0.040747210475311366), (196, 0.03197564984161145), (197, 0.03953240545595038), (198, 0.043722798819892106), (199, 0.030338111905030062), (200, 0.030413763311086903), (201, 0.06558306533627523), (202, 0.04008887839671912), (203, 0.035308784863139264), (204, 0.0415319454211674), (205, 0.036884101007885244), (206, 0.0343675257620132), (207, 0.033203816291193504), (208, 0.03291813849156513), (209, 0.0341317218046288), (210, 0.03256481589990002), (211, 0.04510040249748659), (212, 0.06532186446148519), (213, 0.03134167420406076), (214, 0.035692787078756186), (215, 0.05905734151272622), (216, 0.03527159476083169), (217, 0.036844851003915366), (218, 0.04430032196155823), (219, 0.03378738151178622), (220, 0.029550018939004146), (221, 0.040466700539957386), (222, 0.0351665995138995), (223, 0.027616814480198162), (224, 0.030543048198390252), (225, 0.05173302678437476), (226, 0.03402282613114256), (227, 0.039135123836600234), (228, 0.05935179164090851), (229, 0.0308894846876134), (230, 0.03046932349698758), (231, 0.029822600191578827), (232, 0.030062353610434307), (233, 0.03141236820178644), (234, 0.02776036967539956), (235, 0.06395988708734526), (236, 0.03397751913527763), (237, 0.030045013812619363), (238, 0.07645157803651723), (239, 0.030377772388664334), (240, 0.028868328082872884), (241, 0.027876283719013385), (242, 0.0295587448306175), (243, 0.027604003523058397), (244, 0.028711009268809505), (245, 0.03777051886371194), (246, 0.07902366033928929), (247, 0.03477739089370087), (248, 0.026898359535671507), (249, 0.07597492583071538), (250, 0.0321634898376034), (251, 0.030539201977871758), (252, 0.026617396802689458), (253, 0.038866112029719735), (254, 0.03258643828484217), (255, 0.04435824875968916), (256, 0.028407485398570645), (257, 0.030724167239131794), (258, 0.056114261958696315), (259, 0.028285780917365416), (260, 0.02641343997806221), (261, 0.02857302457354844), (262, 0.032871535365651045), (263, 0.033972578108841876), (264, 0.033472836254911834), (265, 0.027801905152838865), (266, 0.03346627459362585), (267, 0.02969199262945354), (268, 0.030162125076553283), (269, 0.0321768099915822), (270, 0.03442737169681757), (271, 0.03612722111294581), (272, 0.036926102106422505), (273, 0.02750182880039023), (274, 0.06267940825795826), (275, 0.04160996409931949), (276, 0.032244591675248804), (277, 0.030527435698988855), (278, 0.07821025478291867), (279, 0.048469925150634204), (280, 0.03196655827291811), (281, 0.03397814200919293), (282, 0.033912062992999495), (283, 0.035764867083438553), (284, 0.03106892638371437), (285, 0.032273292209801296), (286, 0.0335009138522369), (287, 0.032810952254363646), (288, 0.027930355234246192), (289, 0.023857644751287464), (290, 0.02626986940021593), (291, 0.02915736624289091), (292, 0.05382302527349925), (293, 0.025541705149134435), (294, 0.027029587070258165), (295, 0.027736968674109214), (296, 0.02498857536948649), (297, 0.03166282837643853), (298, 0.03127994540991627), (299, 0.029555650383675074), (300, 0.02916077843800586), (301, 0.031035423870318164), (302, 0.04031378308193019), (303, 0.030526925418292265), (304, 0.032081084501529564), (305, 0.03077473161562102), (306, 0.029299490282018694), (307, 0.03514464833911469), (308, 0.03370985838262026), (309, 0.0369814265723117), (310, 0.029897628559660182), (311, 0.03266765163122785), (312, 0.04157499719066035), (313, 0.030502217080855085), (314, 0.025971452246751785), (315, 0.030738819083157506), (316, 0.02655454600478991), (317, 0.029672897239702435), (318, 0.04798425134320699), (319, 0.030960768167686323), (320, 0.032889527373111925), (321, 0.028088743673244373), (322, 0.029506181507620074), (323, 0.02851254787114531), (324, 0.032662550550225336), (325, 0.04360039600310248), (326, 0.04570612110707023), (327, 0.029595119205850572), (328, 0.03720632184733158), (329, 0.03134863897414466), (330, 0.03202958999759179), (331, 0.03358147152280798), (332, 0.03049256092934503), (333, 0.027524782226192382), (334, 0.030884809552954168), (335, 0.028251480273144072), (336, 0.028511729440768113), (337, 0.02654601120739576), (338, 0.031923370821517846), (339, 0.036026670402812065), (340, 0.031369317080966706), (341, 0.0310189286786767), (342, 0.037081989386981165), (343, 0.039786302024061075), (344, 0.03463359309343999), (345, 0.03702129671245332), (346, 0.03756749868286376), (347, 0.0382011075311487), (348, 0.0333172783376658), (349, 0.034558702572203864), (350, 0.07285966489841121), (351, 0.038623919122257266), (352, 0.03165896008815877), (353, 0.03463661082775424), (354, 0.030156458977795744), (355, 0.04278061179284917), (356, 0.06702922994778023), (357, 0.034144090210896906), (358, 0.04042582579589592), (359, 0.02993162104588591), (360, 0.032116068499178835), (361, 0.03710088191635973), (362, 0.03736384853456115), (363, 0.03728718390622708), (364, 0.031072461926190068), (365, 0.0373865716881633), (366, 0.03359859568302086), (367, 0.037073018681368725), (368, 0.03829050351400295), (369, 0.03423575469843338), (370, 0.03406668909449992), (371, 0.0365525530851894), (372, 0.030702821004333972), (373, 0.0788040455107124), (374, 0.033871266298399885), (375, 0.029907081740089235), (376, 0.028147581056562027), (377, 0.03755544966470698), (378, 0.0320678952935287), (379, 0.029138097591956666), (380, 0.03213159227119377), (381, 0.029749817500692766), (382, 0.026674039241729015), (383, 0.033058379676186155), (384, 0.03184176086247197), (385, 0.04584842191305663), (386, 0.029939338783122285), (387, 0.029008823674653007), (388, 0.04423241959699292), (389, 0.030212377809722326), (390, 0.02957304481029542), (391, 0.039250227697333696), (392, 0.035141138684295185), (393, 0.032284475394234034), (394, 0.02797159127162602), (395, 0.03487189425582475), (396, 0.031659057332306), (397, 0.028434497317049823), (398, 0.04237210134386639), (399, 0.033655773105758444), (400, 0.03178946860466854), (401, 0.03964572376583571), (402, 0.036254305346582104), (403, 0.035619882865797904), (404, 0.03348767735741721), (405, 0.04355261484819431), (406, 0.038182971513925835), (407, 0.04075529174765751), (408, 0.03853275045495737), (409, 0.031763448040706584), (410, 0.039369395063178936), (411, 0.027627641878380522), (412, 0.06304340396403577), (413, 0.03654991849068192), (414, 0.030982716520668474), (415, 0.03629890519620418), (416, 0.033542502056058646), (417, 0.030134128676675195), (418, 0.03775985431010113), (419, 0.0337360932082523), (420, 0.031207308932764372), (421, 0.029797326046372984), (422, 0.035144372469824436), (423, 0.02948957494214166), (424, 0.03290868766189687), (425, 0.033667259174998646), (426, 0.03216173894029261), (427, 0.054391953804759016), (428, 0.03039678382944574), (429, 0.057478294750886186), (430, 0.03517880723357847), (431, 0.049147403880184445), (432, 0.036190210062113704), (433, 0.032728797376326224), (434, 0.06526402663461363), (435, 0.02703041932269058), (436, 0.03824317755844414), (437, 0.028008801176705556), (438, 0.026671349625113215), (439, 0.029853643071663324), (440, 0.030238903698374602), (441, 0.029635258276784426), (442, 0.08385611968159178), (443, 0.03843653886234702), (444, 0.06101291907919821), (445, 0.028337096709712926), (446, 0.03204826516209056), (447, 0.036826046262127286), (448, 0.04692997198762577), (449, 0.030629084525299003), (450, 0.03543154275972155), (451, 0.028524659966064306), (452, 0.027438228788686018), (453, 0.023870659038627083), (454, 0.03665621705100926), (455, 0.10089852570149728), (456, 0.05753344960069375), (457, 0.0335423772951101), (458, 0.039424128560532366), (459, 0.04907740326927052), (460, 0.03172904836859738), (461, 0.03689759843363052), (462, 0.07687296720553677), (463, 0.03245575548874914), (464, 0.03919916297193758), (465, 0.03828004552826432), (466, 0.06592629595932853), (467, 0.05172835462608154), (468, 0.028596057396164606), (469, 0.02698014852270802), (470, 0.03408652821901839), (471, 0.042457150434278994), (472, 0.041286189080785324), (473, 0.0807117563577357), (474, 0.04348242188475868), (475, 0.07591915863694765), (476, 0.032851579621039385), (477, 0.029333133755581907), (478, 0.05938228504670314), (479, 0.03695867486425192), (480, 0.02951771733367713), (481, 0.039038005355996726), (482, 0.03146250144038074), (483, 0.03431904228704917), (484, 0.038296599368401234), (485, 0.036850476091294264), (486, 0.02830674309143991), (487, 0.02896815575466008), (488, 0.036234474638600515), (489, 0.0802024148828521), (490, 0.04580388849971762), (491, 0.031082691021989697), (492, 0.028821801549766664), (493, 0.04300008840169184), (494, 0.036885340025032555), (495, 0.03060501808526973), (496, 0.03136757979438735), (497, 0.03228936626637985), (498, 0.032667838024873344), (499, 0.07289950526327615), (500, 0.0347351564685908), (501, 0.0323314232886516), (502, 0.035533350054363894), (503, 0.03209141641122605), (504, 0.04473359506272713), (505, 0.0321606465383004), (506, 0.03256081614540176), (507, 0.034112484756873465), (508, 0.10788269363668723), (509, 0.03452936920490541), (510, 0.04256818999411059), (511, 0.02795952987291188), (512, 0.11648924493724663), (513, 0.03458071996327203), (514, 0.030940453271772528), (515, 0.03416612573304261), (516, 0.03326882928660018), (517, 0.030194765962039648), (518, 0.03523705960628836), (519, 0.02887714514042667), (520, 0.06389750339285445), (521, 0.03613833063673076), (522, 0.035698377560186983), (523, 0.03332853444290513), (524, 0.03891667716266296), (525, 0.03418012435091926), (526, 0.03762967484189678), (527, 0.028172049760199488), (528, 0.03354940848201882), (529, 0.04544801062950587), (530, 0.033683290059077796), (531, 0.07916037645167279), (532, 0.03631046554649259), (533, 0.03395035563885808), (534, 0.03259566838315639), (535, 0.032708213557373765), (536, 0.03469950291986621), (537, 0.03172456156675142), (538, 0.03819927132440612), (539, 0.028420109470607594), (540, 0.030511214996306754), (541, 0.03567328675462722), (542, 0.0327681898611028), (543, 0.03465083930302614), (544, 0.035652271793184316), (545, 0.031155740417229055), (546, 0.03349567862669841), (547, 0.03636740466788491), (548, 0.02872235250664473), (549, 0.028461785466737492), (550, 0.03320828066339821), (551, 0.06503216771589013), (552, 0.030295252097424976), (553, 0.030750591622397523), (554, 0.029816136067681707), (555, 0.028054442882967833), (556, 0.05156509163849915), (557, 0.028677925448090228), (558, 0.0543200608324913), (559, 0.027019588432359718), (560, 0.03327206139546545), (561, 0.030042011297946144), (562, 0.030825490202921253), (563, 0.038150379802098955), (564, 0.03930985816269558), (565, 0.027772060267146594), (566, 0.03000005431869745), (567, 0.02988861439267429), (568, 0.027970231570578607), (569, 0.03274749256810149), (570, 0.04096908994513842), (571, 0.03160029599718382), (572, 0.030551286341679754), (573, 0.02906246889798111), (574, 0.03125307917151645), (575, 0.02452897637124568), (576, 0.04222622148861718), (577, 0.06025313432573933), (578, 0.03209496884818483), (579, 0.08229773661283647), (580, 0.03527084211838129), (581, 0.03791189251272646), (582, 0.05137689720445999), (583, 0.04810571631152943), (584, 0.03554897743748286), (585, 0.03378658358300694), (586, 0.03686690182555832), (587, 0.07125967943194329), (588, 0.04117639433831315), (589, 0.04815140819858603), (590, 0.034197226651541825), (591, 0.031172158872261047), (592, 0.030460159119028333), (593, 0.030732065303646666), (594, 0.03351503575053805), (595, 0.029551805602708724), (596, 0.06528824094599114), (597, 0.03221719156828794), (598, 0.029980178692553115), (599, 0.029658559877078067), (600, 0.029363765385521413), (601, 0.032007080599896584), (602, 0.03190403942430417), (603, 0.030973456650727472), (604, 0.029834582096882337), (605, 0.04970787329279906), (606, 0.09196524095634209), (607, 0.03758709962390472), (608, 0.038058469659379486), (609, 0.06581802666850689), (610, 0.02863678164478693), (611, 0.026500980167557232), (612, 0.04827369571822809), (613, 0.028766167897581154), (614, 0.038132358986572926), (615, 0.029773227575261733), (616, 0.031630787323397205), (617, 0.0628085074977027), (618, 0.03509833382081429), (619, 0.03017708071839651), (620, 0.03166040750425343), (621, 0.030966208539177607), (622, 0.03769240338087294), (623, 0.046016311275096894), (624, 0.030720921676437654), (625, 0.028529313965967137), (626, 0.03524936117428064), (627, 0.03898701328330992), (628, 0.03189013651402318), (629, 0.031111185211800896), (630, 0.03719447735489856), (631, 0.03380052499423766), (632, 0.030988215901181417), (633, 0.055319888945998305), (634, 0.03008771524780863), (635, 0.03199031865935103), (636, 0.056188765165806565), (637, 0.035016873144583134), (638, 0.04235569344245825), (639, 0.0277512814369828), (640, 0.028520580313301947), (641, 0.025099042486835275), (642, 0.07652249034075541), (643, 0.038443850805298635), (644, 0.036701302309253274), (645, 0.026917137467542672), (646, 0.0291077323431036), (647, 0.02849524712785385), (648, 0.030778553304916287), (649, 0.04137489421659367), (650, 0.028347502046238118), (651, 0.03206686264118906), (652, 0.032725130633335237), (653, 0.06304641093216723), (654, 0.03090272294418516), (655, 0.04030573950302832), (656, 0.031033448140288224), (657, 0.03299644253667453), (658, 0.032347099894358446), (659, 0.03847922831961996), (660, 0.07060629209109417), (661, 0.02775516978086189), (662, 0.03320609456100237), (663, 0.06902386651728776), (664, 0.034729140035653125), (665, 0.08028890490973865), (666, 0.032643972065876194), (667, 0.06653333499634322), (668, 0.11008952701368488), (669, 0.05640472165042899), (670, 0.04205382338739595), (671, 0.043390930611313085), (672, 0.033759618852789886), (673, 0.03691803193794282), (674, 0.02817526731579106), (675, 0.06933060449616317), (676, 0.03683450153730148), (677, 0.0714567114005527), (678, 0.04430001884464099), (679, 0.09152000448698437), (680, 0.03339496027024014), (681, 0.03432793828494734), (682, 0.03319482654845709), (683, 0.03720501208178524), (684, 0.04037461602899228), (685, 0.031190448993568435), (686, 0.031236793506376773), (687, 0.04302450996438774), (688, 0.03574060368934768), (689, 0.0333348948584076), (690, 0.04325434013923713), (691, 0.03343722929552172), (692, 0.02728858679270922), (693, 0.036579683204004405), (694, 0.03301915099118189), (695, 0.02812843401433471), (696, 0.06013299921512166), (697, 0.044398142442605905), (698, 0.04149679243294298), (699, 0.06978186543400189), (700, 0.042896579284686084), (701, 0.03610842273968086), (702, 0.03616597110191508), (703, 0.04347057890556116), (704, 0.02871956679094371), (705, 0.04193923536990525), (706, 0.05994784054847355), (707, 0.03176084841234835), (708, 0.08406430640008736), (709, 0.07413568355863209), (710, 0.043775794289701825), (711, 0.0887951562039005), (712, 0.03199093662937691), (713, 0.02961576875562802), (714, 0.029309984697559133), (715, 0.03436181414734185), (716, 0.03680218169879863), (717, 0.03246714028063037), (718, 0.051346226765456575), (719, 0.03273475720009986), (720, 0.030169078984617154), (721, 0.03426945732197895), (722, 0.028450682399372217), (723, 0.02914248914114731), (724, 0.028009384813914164), (725, 0.027878004733169044), (726, 0.03482120793010475), (727, 0.035479338495751314), (728, 0.03702801534305952), (729, 0.03790289646769329), (730, 0.033450667210396336), (731, 0.037719720780345654), (732, 0.035567488187725656), (733, 0.03836097774864413), (734, 0.031066803057157342), (735, 0.056716114498559594), (736, 0.05129847720821733), (737, 0.04973782280391623), (738, 0.03269637461886012), (739, 0.03584657011060257), (740, 0.07302527000401698), (741, 0.049072190912273383), (742, 0.030335218321141867), (743, 0.03582979709894095), (744, 0.033142700281969584), (745, 0.03291096012834352), (746, 0.0501790032301422), (747, 0.03236685260336497), (748, 0.031916294988219955), (749, 0.03487568719953414), (750, 0.034788735115618884), (751, 0.042238626027047), (752, 0.03533241267657887), (753, 0.03497261588944071), (754, 0.07448749287121426), (755, 0.03463172849035137), (756, 0.02877237237677869), (757, 0.03892837442923139), (758, 0.07155507240579279), (759, 0.06902017718549004), (760, 0.08674319977167505), (761, 0.06289375527076733), (762, 0.029205729848799517), (763, 0.02778317382838999), (764, 0.05589617114551736), (765, 0.03020133154774307), (766, 0.028963760368895718), (767, 0.03199058890949385), (768, 0.04495739743690451), (769, 0.033209024542983495), (770, 0.03051405429420726), (771, 0.03747814159815156), (772, 0.035925216094406735), (773, 0.047646732736745724), (774, 0.04556670561494641), (775, 0.026971613920915644), (776, 0.03321829776458495), (777, 0.0798555720179762), (778, 0.03447216452290106), (779, 0.02643447450727135), (780, 0.03519286391776414), (781, 0.039728809477747505), (782, 0.03424247579351586), (783, 0.0554796329562396), (784, 0.039878625359239965), (785, 0.039476944472204685), (786, 0.039518718603296116), (787, 0.0320194770075193), (788, 0.07469658394187259), (789, 0.02782958508192291), (790, 0.05188978505549718), (791, 0.03954529326695671), (792, 0.0700455764875355), (793, 0.07447613801024569), (794, 0.03198807916525887), (795, 0.05038840177940498), (796, 0.03685051453750005), (797, 0.06999899708388702), (798, 0.032609879614520144), (799, 0.03162261323279468), (800, 0.0318283115365964), (801, 0.02844569812403486), (802, 0.03312304487509515), (803, 0.029716752742798724), (804, 0.05778105935664182), (805, 0.03292152532396447), (806, 0.03780061391280658), (807, 0.03356371900898394), (808, 0.03617871303730517), (809, 0.02966459766907391), (810, 0.03145380988799701), (811, 0.029934831743717805), (812, 0.027618887185529937), (813, 0.04663238648727034), (814, 0.03507085997496813), (815, 0.03151354598120136), (816, 0.02707228230216621), (817, 0.031852655674267184), (818, 0.03190492988022236), (819, 0.037527268088874376), (820, 0.04313648496126957), (821, 0.03064537095201613), (822, 0.03667584840592645), (823, 0.03428317329415823), (824, 0.032672972988991474), (825, 0.03280739697245328), (826, 0.06704756846292473), (827, 0.02749823765123514), (828, 0.029650660630390655), (829, 0.028262586462407563), (830, 0.0472990104289651), (831, 0.046734359696297786), (832, 0.034960136279198716), (833, 0.031434582581173265), (834, 0.0519847543363241), (835, 0.09313533368029789), (836, 0.03204778474669776), (837, 0.05613888488977381), (838, 0.03559448226689729), (839, 0.04138713273822667), (840, 0.06160724247568759), (841, 0.03802584041846044), (842, 0.06736935404441523), (843, 0.0389491448435713), (844, 0.04725392956358732), (845, 0.038823275355825526), (846, 0.042498890685511485), (847, 0.09358504691732421), (848, 0.03375102285709813), (849, 0.035829849370491114), (850, 0.07132982166566787), (851, 0.17351570168361496), (852, 0.039497599360218516), (853, 0.034075244158777586), (854, 0.03151676555042049), (855, 0.03224090690683502), (856, 0.031146080318171513), (857, 0.04396417406983615), (858, 0.032881703395268275), (859, 0.04616195207281964), (860, 0.03457577462003957), (861, 0.060594757498945294), (862, 0.0297079195984409), (863, 0.02920962022071283), (864, 0.03272905570103763), (865, 0.044598423834928354), (866, 0.030351643832545093), (867, 0.04701949311389066), (868, 0.03400454913695543), (869, 0.03694821491000966), (870, 0.033602984825225904), (871, 0.04060787675258681), (872, 0.03929100002523163), (873, 0.04310991435916496), (874, 0.03191849181935853), (875, 0.03482824873601346), (876, 0.03441953590893281), (877, 0.06356710058206545), (878, 0.03608758817190659), (879, 0.05069888535957476), (880, 0.04370430709425717), (881, 0.030347973019897112), (882, 0.025088879912517306), (883, 0.07735557950933844), (884, 0.0377503994470743), (885, 0.045297067712984744), (886, 0.035049473709653944), (887, 0.03560666455672797), (888, 0.036670904954332416), (889, 0.03814539216468859), (890, 0.045976917583026584), (891, 0.03310453874731598), (892, 0.03363367542391344), (893, 0.02745129854760736), (894, 0.06353347329613748), (895, 0.05722989898937196), (896, 0.07765305423601473), (897, 0.0413253601606219), (898, 0.030658240784258956), (899, 0.03242712949932859), (900, 0.03040284864448504), (901, 0.032392705436785234), (902, 0.02932952309377495), (903, 0.03230249139182364), (904, 0.0384220408201176), (905, 0.04018933976061976), (906, 0.02820390460728433), (907, 0.06272273048274729), (908, 0.03461184563508967), (909, 0.0292201466924958), (910, 0.036406130624450424), (911, 0.03798375922259606), (912, 0.06477654457413741), (913, 0.030396759313177663), (914, 0.05956760700928378), (915, 0.03178466721682686), (916, 0.0351103170848602), (917, 0.027095891636543905), (918, 0.06987697690282946), (919, 0.030422817236618434), (920, 0.030822168549309407), (921, 0.037860783261630004), (922, 0.03357690681373331), (923, 0.03746504001543115), (924, 0.035354321532893286), (925, 0.03955488597459127), (926, 0.04118957164887702), (927, 0.029089913930450562), (928, 0.03747465929784348), (929, 0.02868581759452355), (930, 0.046263799144651604), (931, 0.03421680566055856), (932, 0.03069212696863468), (933, 0.035250501655090305), (934, 0.034300920095529895), (935, 0.031430534840852335), (936, 0.033190750223390235), (937, 0.03503384620517771), (938, 0.04535647356394203), (939, 0.08734009412673306), (940, 0.041910287678158076), (941, 0.03239574529952489), (942, 0.06022644119754778), (943, 0.0313625678370066), (944, 0.07293768727886232), (945, 0.03526190580283692), (946, 0.047338493304341714), (947, 0.04039217819475555), (948, 0.05484624939059518), (949, 0.03726879031652733), (950, 0.0426183455489794), (951, 0.03093955195111189), (952, 0.041633868865677014), (953, 0.03118593471813205), (954, 0.027839922293618754), (955, 0.03968330358598172), (956, 0.03563918799733896), (957, 0.07846147103609719), (958, 0.03222742543128243), (959, 0.07031850445084858), (960, 0.031179464626598995), (961, 0.07158023936632937), (962, 0.03433817397620096), (963, 0.029383211007682243), (964, 0.029522999616168655), (965, 0.03502529185877971), (966, 0.03844995356141768), (967, 0.042459725495819875), (968, 0.02883528740604763), (969, 0.07529195341883682), (970, 0.030275212122134826), (971, 0.04417158746584253), (972, 0.03233070081549131), (973, 0.04728442025592129), (974, 0.060717811852912876), (975, 0.06229051532892875), (976, 0.03047853052767401), (977, 0.03104758954638098), (978, 0.037062812437090316), (979, 0.025650095974843377), (980, 0.033540561065904195), (981, 0.03484107755183302), (982, 0.05010527436530626), (983, 0.09890763765779663), (984, 0.03806920448995412), (985, 0.05313721555318782), (986, 0.030166689006818386), (987, 0.07179932503624435), (988, 0.0353918405643153), (989, 0.03254155850862225), (990, 0.0383262848897548), (991, 0.03595277390230404), (992, 0.03150774844235087), (993, 0.03386332800806611), (994, 0.03444341107620334), (995, 0.03425815572143831), (996, 0.043783163512320096), (997, 0.028755994621344882), (998, 0.04673433965887945), (999, 0.04716902603604971), (1000, 0.02927589069225467), (1001, 0.03342480384278203), (1002, 0.04570994007579052), (1003, 0.029585703926150276), (1004, 0.061517606801138505), (1005, 0.026744566985638034), (1006, 0.03713691926813675), (1007, 0.040860291509789405), (1008, 0.03113596717363064), (1009, 0.02704764957054164), (1010, 0.05090293670581035), (1011, 0.06069127708398158), (1012, 0.02862726815565976), (1013, 0.03599402260960919), (1014, 0.031704703337605125), (1015, 0.03773305489229213), (1016, 0.03003125249657904), (1017, 0.03437288124170977), (1018, 0.02926962988016116), (1019, 0.031493815268028975), (1020, 0.06834100242471994), (1021, 0.03685377503060029), (1022, 0.03389586901556483), (1023, 0.049603485183630044), (1024, 0.03602066438081118), (1025, 0.03133818306072776), (1026, 0.04190610048753851), (1027, 0.06730620669653777), (1028, 0.03511922709217742), (1029, 0.07072992159633032), (1030, 0.031630149295588134), (1031, 0.03072422580891995), (1032, 0.10261174804369605), (1033, 0.032447657237043404), (1034, 0.038934809565575206), (1035, 0.03080083210116618), (1036, 0.07037460794471945), (1037, 0.02551985684197681), (1038, 0.042217255147228225), (1039, 0.04782439778623341), (1040, 0.03255646203599974), (1041, 0.03164598741104165), (1042, 0.02650360664036244), (1043, 0.03698421929409097), (1044, 0.032413583674357156), (1045, 0.02863195796859447), (1046, 0.02799536166310153), (1047, 0.03881674993717627), (1048, 0.03397005021821595), (1049, 0.04894888002306125), (1050, 0.027058688900487127), (1051, 0.03292371876238278), (1052, 0.04152421726633024), (1053, 0.0702390671914152), (1054, 0.030558482781892563), (1055, 0.026566259854591625), (1056, 0.03125590993309022), (1057, 0.032023497287097115), (1058, 0.03443287124924655), (1059, 0.03609934618620232), (1060, 0.040883853796310626), (1061, 0.07133203239490403), (1062, 0.03149616420305198), (1063, 0.029617640715762773), (1064, 0.03639824862225378), (1065, 0.034462631138267655), (1066, 0.028539589783699904), (1067, 0.02801010873268191), (1068, 0.02764437501331304), (1069, 0.03240393636855454), (1070, 0.026842975305191977), (1071, 0.03889926236031808), (1072, 0.029910533319151902), (1073, 0.03948355120841984), (1074, 0.03529800368839215), (1075, 0.04045013108428708), (1076, 0.030020752297919617), (1077, 0.03750029936712772), (1078, 0.03085036643164062), (1079, 0.0355584274275081), (1080, 0.04027583929028653), (1081, 0.026387763755636104), (1082, 0.029564993841314304), (1083, 0.03103082712477265), (1084, 0.09434862520943446), (1085, 0.035655993920584814), (1086, 0.02626484400811865), (1087, 0.03437700184230144), (1088, 0.04387882346290181), (1089, 0.05910652747787297), (1090, 0.030652607723248227), (1091, 0.03071253732870122), (1092, 0.026809623129126887), (1093, 0.03229077113932012), (1094, 0.04636510344354896), (1095, 0.027346303165048005), (1096, 0.1595307138647967), (1097, 0.032793415537090274), (1098, 0.028432454030558277), (1099, 0.0364499381082854), (1100, 0.07704909941845793), (1101, 0.03131214665729834), (1102, 0.034684732621885234), (1103, 0.03681907079980976), (1104, 0.03068647048082475), (1105, 0.03544118417240144), (1106, 0.06602599936055101), (1107, 0.0634515391778941), (1108, 0.033660416320620286), (1109, 0.05615179668399331), (1110, 0.03707710483075431), (1111, 0.030753158916431586), (1112, 0.07892667480566215), (1113, 0.06623700838213877), (1114, 0.03165480376318245), (1115, 0.031087891082973964), (1116, 0.029795153465956997), (1117, 0.036762660216217775), (1118, 0.030356018546506762), (1119, 0.03401143779560676), (1120, 0.02946573177045586), (1121, 0.03718977682383248), (1122, 0.042817074798860905), (1123, 0.030882651141296794), (1124, 0.03885168072613405), (1125, 0.0571463242882144), (1126, 0.04358266642901854), (1127, 0.03047502617650455), (1128, 0.028793275121123008), (1129, 0.0298307074514923), (1130, 0.05478683890132806), (1131, 0.034078093401417826), (1132, 0.03503431960643187), (1133, 0.0367007989051987), (1134, 0.030746714450220036), (1135, 0.026503940122993765), (1136, 0.030037711960346658), (1137, 0.028398491316448095), (1138, 0.037612066386106556), (1139, 0.034705522053757105), (1140, 0.035518733752360684), (1141, 0.03533337187561175), (1142, 0.06141528663295051), (1143, 0.03229988516228506), (1144, 0.027586803251791463), (1145, 0.09028227916229906), (1146, 0.02864801302809444), (1147, 0.028175760754686918), (1148, 0.0340764782436081), (1149, 0.032470036168702865), (1150, 0.031185725313403908), (1151, 0.029931091187598326), (1152, 0.03460806488054753), (1153, 0.02917077232519028), (1154, 0.03131240558819849), (1155, 0.06026262616541491), (1156, 0.032210277623376284), (1157, 0.044006166159736015), (1158, 0.030212558296437014), (1159, 0.03722938905449996), (1160, 0.028642301616141903), (1161, 0.0273350653897424), (1162, 0.030744851162203313), (1163, 0.03192726473010401), (1164, 0.023561329276024008), (1165, 0.03772099888160253), (1166, 0.05959655324469867), (1167, 0.07008343683494005), (1168, 0.04040832101963892), (1169, 0.10417823003324525), (1170, 0.04756035402677451), (1171, 0.025509683180828042), (1172, 0.031176914792936952), (1173, 0.033303378682368434), (1174, 0.06493960151695757), (1175, 0.044481218947881984), (1176, 0.032836837135526466), (1177, 0.029727992646677144), (1178, 0.03958545738177303), (1179, 0.03426331202876514), (1180, 0.039576919394320335), (1181, 0.026677476939807467), (1182, 0.030509471649616045), (1183, 0.03027790750105144), (1184, 0.04442848997471446), (1185, 0.03003577714075721), (1186, 0.03043814028406215), (1187, 0.08691477850849), (1188, 0.03386514231787007), (1189, 0.031924340961748614), (1190, 0.039035018564816656), (1191, 0.03691558072677339), (1192, 0.03740021809125412), (1193, 0.03578722829217946), (1194, 0.029575564930209523), (1195, 0.030294231060150646), (1196, 0.037698902434176465), (1197, 0.028311290979501875), (1198, 0.032272473902731726), (1199, 0.04456138315282064), (1200, 0.06038137576515668), (1201, 0.05105255387206837), (1202, 0.028163603448266655), (1203, 0.036559480527304025), (1204, 0.03978022016420595), (1205, 0.03525603086250172), (1206, 0.0337933288668646), (1207, 0.02879512498560415), (1208, 0.05579323585569486), (1209, 0.027870177830054386), (1210, 0.027423297477506773), (1211, 0.03148310516431196), (1212, 0.03354689955749909), (1213, 0.05810486819081946), (1214, 0.031700741728242735), (1215, 0.028890169550753658), (1216, 0.04703865447088851), (1217, 0.04244179408073817), (1218, 0.02916688872696729), (1219, 0.06853481938583897), (1220, 0.04299703017257654), (1221, 0.02716623614281048), (1222, 0.03614026609399269), (1223, 0.03323620169903992), (1224, 0.06937850267749068), (1225, 0.034623675724994626), (1226, 0.029586729155507197), (1227, 0.13847727477117355), (1228, 0.03275276313718912), (1229, 0.03751407206556116), (1230, 0.06118247889271516), (1231, 0.0346274573561163), (1232, 0.03810373888985139), (1233, 0.06810420781104375), (1234, 0.03963820050141727), (1235, 0.03579340680379212), (1236, 0.03781067634678183), (1237, 0.041057484400002384), (1238, 0.05781875491464128), (1239, 0.029246872135322843), (1240, 0.029933585375306285), (1241, 0.0290813350479217), (1242, 0.03410665412822475), (1243, 0.07960951352446455), (1244, 0.03520803457974662), (1245, 0.04049827024521495), (1246, 0.03538250384804673), (1247, 0.043664983969003916), (1248, 0.04396846617762287), (1249, 0.030811460489378596), (1250, 0.030951180957982702), (1251, 0.04277644822942586), (1252, 0.03457213363081173), (1253, 0.03048281736011462), (1254, 0.03694952673371697), (1255, 0.035899102403168376), (1256, 0.04365223103089714), (1257, 0.03506156892395945), (1258, 0.03534703204589863), (1259, 0.027173009031657976), (1260, 0.037107214954830624), (1261, 0.046956435452949044), (1262, 0.0457320703579831), (1263, 0.031297929386363325), (1264, 0.0356843124310174), (1265, 0.03089481070137811), (1266, 0.02926361289438755), (1267, 0.06370510689861564), (1268, 0.030455069542916574), (1269, 0.030269250104938653), (1270, 0.029059427155722434), (1271, 0.033517734504646846), (1272, 0.048325753283584724), (1273, 0.0663837092742871), (1274, 0.028580444618582432), (1275, 0.03602551174568667), (1276, 0.02456749257904243), (1277, 0.0565491218093636), (1278, 0.03541594053122723), (1279, 0.03223537934008588), (1280, 0.031041002535119974), (1281, 0.029142844847071393), (1282, 0.03430576630032379), (1283, 0.02721866698923472), (1284, 0.04236373625253314), (1285, 0.03138502211536958), (1286, 0.049804999475657585), (1287, 0.028042823651431726), (1288, 0.03417728310255023), (1289, 0.027472260447677248), (1290, 0.03205284680589462), (1291, 0.03415734798164264), (1292, 0.061814637388634866), (1293, 0.03209023619339468), (1294, 0.033748265061598656), (1295, 0.062465672415467854), (1296, 0.03093555017729721), (1297, 0.033967775737441405), (1298, 0.037976591189932365), (1299, 0.03290623474337808), (1300, 0.03290992891384485), (1301, 0.034878957872526296), (1302, 0.044268472455444026), (1303, 0.06038915973525959), (1304, 0.03900189302626536), (1305, 0.041136590035252274), (1306, 0.032919045543939415), (1307, 0.028263546398786397), (1308, 0.03636956315076486), (1309, 0.035224393195790064), (1310, 0.03302721501094946), (1311, 0.03874467675622278), (1312, 0.03281999564378374), (1313, 0.04460691495819748), (1314, 0.030378000591579402), (1315, 0.028164488921012157), (1316, 0.025893377793571145), (1317, 0.043138855348898095), (1318, 0.1250684691934307), (1319, 0.0652728845192424), (1320, 0.027239245326959705), (1321, 0.04040733266957668), (1322, 0.07644233728267671), (1323, 0.02789134181976934), (1324, 0.04180469105555962), (1325, 0.07351022690264404), (1326, 0.035910089817543005), (1327, 0.03404897872836037), (1328, 0.03210806826345684), (1329, 0.05073686657544813), (1330, 0.03520898489952403), (1331, 0.03089570824437963), (1332, 0.03184348826115413), (1333, 0.035877382796336704), (1334, 0.035860040771906354), (1335, 0.07499711580971491), (1336, 0.05932038207997503), (1337, 0.07748081893323594), (1338, 0.1572626088327908), (1339, 0.0737917422506155), (1340, 0.034338229471661735), (1341, 0.03222781342430978), (1342, 0.028401162167213268), (1343, 0.03449302215118739), (1344, 0.07708745779051106), (1345, 0.049973695909152946), (1346, 0.036366703713306504), (1347, 0.028701559836234923), (1348, 0.030449007748449164), (1349, 0.036291249549671264), (1350, 0.036667710958432825), (1351, 0.03355601364826249), (1352, 0.029606526243725628), (1353, 0.03289017839463403), (1354, 0.02859227277530979), (1355, 0.09924249875858737), (1356, 0.031939176022486256), (1357, 0.035982553399015724), (1358, 0.02942173836906424), (1359, 0.04420818682113298), (1360, 0.07088899584642439), (1361, 0.033815060811613215), (1362, 0.04343053534718158), (1363, 0.048721474615800744), (1364, 0.045698611091486874), (1365, 0.04024704052527971), (1366, 0.04451323922761366), (1367, 0.03515756753341528), (1368, 0.032302645255449625), (1369, 0.02890665585133034), (1370, 0.033593743794413405), (1371, 0.19924745035069763), (1372, 0.043960350897252365), (1373, 0.03243850235888293), (1374, 0.030194975966685987), (1375, 0.034016796382670036), (1376, 0.03581558144629144), (1377, 0.027285053927484995), (1378, 0.04080648832145896), (1379, 0.03586565593101257), (1380, 0.03120716737329969), (1381, 0.03259259758372413), (1382, 0.048510383355552814), (1383, 0.03606112527619915), (1384, 0.029624057544252277), (1385, 0.033525242911294426), (1386, 0.03029714596447857), (1387, 0.03802829936232969), (1388, 0.03277950685608051), (1389, 0.03754689715294883), (1390, 0.03724046382770941), (1391, 0.13020473778870467), (1392, 0.06438798171771523), (1393, 0.03361006907599818), (1394, 0.044339851903891905), (1395, 0.024421664131283168), (1396, 0.03115240788189709), (1397, 0.029831223121560974), (1398, 0.07394741521834919), (1399, 0.058926218733633774), (1400, 0.03380674022451524), (1401, 0.03653056702719763), (1402, 0.03430527778249937), (1403, 0.04462911613211272), (1404, 0.03480900420990795), (1405, 0.04370482802786889), (1406, 0.029216184646987782), (1407, 0.030865787818815927), (1408, 0.043547995834610345), (1409, 0.07647529292348829), (1410, 0.046941258812486064), (1411, 0.05308914046593751), (1412, 0.03188543235631071), (1413, 0.03331358448293455), (1414, 0.029134630782754266), (1415, 0.031025560271732665), (1416, 0.03540660918869658), (1417, 0.03162602001851183), (1418, 0.023682207668754403), (1419, 0.07883250831081032), (1420, 0.035420336591530224), (1421, 0.03930972828566583), (1422, 0.03633214528902555), (1423, 0.039252979107912526), (1424, 0.044141927436414506), (1425, 0.034856967846583854), (1426, 0.031340604576904366), (1427, 0.03677234227853276), (1428, 0.029977661234418272), (1429, 0.06302007836869994), (1430, 0.029098277412094878), (1431, 0.03044177900986878), (1432, 0.03533871071963289), (1433, 0.03305077001982629), (1434, 0.027713801029856953), (1435, 0.0322969081403104), (1436, 0.033216013975189675), (1437, 0.04265272313850791), (1438, 0.0729087965941341), (1439, 0.03355386467503879), (1440, 0.03356708262137718), (1441, 0.07864639156673447), (1442, 0.08113983712194778), (1443, 0.03315809415429721), (1444, 0.030984854123055083), (1445, 0.04604465137330602), (1446, 0.03681704463621427), (1447, 0.07165191527502782), (1448, 0.06231626873243616), (1449, 0.02844511524284216), (1450, 0.07729765399088849), (1451, 0.027319341149485504), (1452, 0.030611727569407682), (1453, 0.04142593277269902), (1454, 0.07532331343188461), (1455, 0.02954571999507248), (1456, 0.07319297349878245), (1457, 0.038942255878710016), (1458, 0.03231061305371422), (1459, 0.030259709073664102), (1460, 0.033786459741573786), (1461, 0.033626548268017774), (1462, 0.030800433319285402), (1463, 0.06995306944692119), (1464, 0.03118058038325343), (1465, 0.03392754226937113), (1466, 0.06099982200558032), (1467, 0.02898724039513042), (1468, 0.03372503202261176), (1469, 0.061685475162635464), (1470, 0.029617474876229167), (1471, 0.029235300050479005), (1472, 0.04526558132209674), (1473, 0.07730793926969522), (1474, 0.035221168715936765), (1475, 0.0414315372420303), (1476, 0.04643878125347607), (1477, 0.03844709635498916), (1478, 0.03549565863171095), (1479, 0.07776519941298397), (1480, 0.030616977676722317), (1481, 0.03513543306006621), (1482, 0.03965171262821868), (1483, 0.06716794714907026), (1484, 0.03613820469281447), (1485, 0.03689006898914152), (1486, 0.08027710493518728), (1487, 0.032137778139213), (1488, 0.048541865190329776), (1489, 0.053437131748846844), (1490, 0.03490414995140209), (1491, 0.03393575112135701), (1492, 0.03063652777532368), (1493, 0.026893102730445772), (1494, 0.040011180703817845), (1495, 0.034402355770491416), (1496, 0.03678067279950809), (1497, 0.07100670538505442), (1498, 0.0366189209368545), (1499, 0.07045850553162376), (1500, 0.03452720769075465), (1501, 0.04355797006746308), (1502, 0.02969606519821677), (1503, 0.16864329358839616), (1504, 0.030278617549115504), (1505, 0.03644245963187297), (1506, 0.04660567251865385), (1507, 0.07930630810881006), (1508, 0.03425930564470156), (1509, 0.06932921349842427), (1510, 0.03601136098598021), (1511, 0.05623793541649061), (1512, 0.028710808998078197), (1513, 0.035746035318827384), (1514, 0.02994375246394636), (1515, 0.0304097375507084), (1516, 0.03845594735718653), (1517, 0.036898927266768744), (1518, 0.08258838205605204), (1519, 0.10524076344452238), (1520, 0.03704526307833068), (1521, 0.033627636837639724), (1522, 0.029287187052010985), (1523, 0.03875173821195331), (1524, 0.03654439090624232), (1525, 0.03563632951060066), (1526, 0.03308755105667272), (1527, 0.034718502298952396), (1528, 0.03649220563976653), (1529, 0.02728520205616109), (1530, 0.03615929899508461), (1531, 0.07045810008878582), (1532, 0.03373653611318806), (1533, 0.0526531637220757), (1534, 0.031857223324332176), (1535, 0.02394478435159376), (1536, 0.0642522707827589), (1537, 0.039066806214711904), (1538, 0.02927170537658691), (1539, 0.045342826422044465), (1540, 0.03416216282635282), (1541, 0.03822035193009282), (1542, 0.03838819409779475), (1543, 0.06985312188082819), (1544, 0.03741908932186656), (1545, 0.03299066194214999), (1546, 0.02712936698950201), (1547, 0.03503423392799221), (1548, 0.03684534350801589), (1549, 0.0405586563620477), (1550, 0.03356629393660037), (1551, 0.029645081597170088), (1552, 0.03249743819737426), (1553, 0.030920157905003836), (1554, 0.03073673964905028), (1555, 0.07241744714758196), (1556, 0.05857369735847495), (1557, 0.035234679367670704), (1558, 0.03740596688889125), (1559, 0.026693611894299037), (1560, 0.0352679290913461), (1561, 0.03195909227832675), (1562, 0.030440123428736702), (1563, 0.03573635905837229), (1564, 0.059161393703977), (1565, 0.04192166393120985), (1566, 0.037734845239944484), (1567, 0.05548801825054564), (1568, 0.0294167303268415), (1569, 0.044024786879050884), (1570, 0.03138170642160536), (1571, 0.03561609147709345), (1572, 0.0374112874464175), (1573, 0.06613406959483828), (1574, 0.03230863698517335), (1575, 0.030739443256358093), (1576, 0.02903116153999873), (1577, 0.03643603565331703), (1578, 0.036054775936513364), (1579, 0.029870181431550402), (1580, 0.035570293887856236), (1581, 0.028475487370100763), (1582, 0.03837051770548115), (1583, 0.03686675110847836), (1584, 0.031247407917983545), (1585, 0.042538618333550396), (1586, 0.03219023323954947), (1587, 0.03345835702528559), (1588, 0.07365171304508616), (1589, 0.04322270530908548), (1590, 0.030005590518542086), (1591, 0.08066293458017125), (1592, 0.04003903301799095), (1593, 0.036247452654905275), (1594, 0.05368712487946378), (1595, 0.030133052792651983), (1596, 0.03603091463443976), (1597, 0.03949453458588778), (1598, 0.03632781802124495), (1599, 0.03691003292413523), (1600, 0.03171938485968626), (1601, 0.04087786287537251), (1602, 0.03851258114418596), (1603, 0.030251221450138678), (1604, 0.029001733292255392), (1605, 0.03656465753916316), (1606, 0.03606448588485275), (1607, 0.02965798112730679), (1608, 0.03425864777774634), (1609, 0.03624882450904398), (1610, 0.03811707476261102), (1611, 0.034581276417721726), (1612, 0.040136917555059465), (1613, 0.06467595463585706), (1614, 0.0365859644361004), (1615, 0.0383735308197447), (1616, 0.046424444108467675), (1617, 0.07030197990110132), (1618, 0.0773655821305093), (1619, 0.043042845431157266), (1620, 0.03190085467434317), (1621, 0.05535521409116792), (1622, 0.028489544902424557), (1623, 0.02676301765076308), (1624, 0.038127538075827076), (1625, 0.02974145927649469), (1626, 0.059312746134265605), (1627, 0.02836380071780075), (1628, 0.03425527514206557), (1629, 0.07578674010605638), (1630, 0.02891825256728906), (1631, 0.02822837462977615), (1632, 0.029400367812142933), (1633, 0.028063338167685123), (1634, 0.04973807552579575), (1635, 0.027313080629716147), (1636, 0.12099197322385238), (1637, 0.04309753947609612), (1638, 0.034687294537027666), (1639, 0.0394790819409189), (1640, 0.06301030173627838), (1641, 0.030962127611552582), (1642, 0.03582244778049572), (1643, 0.03365635340105875), (1644, 0.06589368628550049), (1645, 0.03231421026765642), (1646, 0.03268713112556436), (1647, 0.029391308470431768), (1648, 0.06101956680752031), (1649, 0.027653929015249705), (1650, 0.03490788816310341), (1651, 0.026720866948370534), (1652, 0.028007760641547447), (1653, 0.03174001788019201), (1654, 0.03234782234458278), (1655, 0.04452248279239321), (1656, 0.07281739307494717), (1657, 0.046555760459050674), (1658, 0.03774476469854504), (1659, 0.030994723745373674), (1660, 0.0399371737697074), (1661, 0.029150646940165406), (1662, 0.030959602504664365), (1663, 0.07127634021482587), (1664, 0.02692154440118812), (1665, 0.03026429194580774), (1666, 0.04814645090461651), (1667, 0.03127100753337826), (1668, 0.06993185926470027), (1669, 0.03475447237998782), (1670, 0.06304392268832323), (1671, 0.03092113244577322), (1672, 0.057080530779185026), (1673, 0.035275076135023974), (1674, 0.02913229085113221), (1675, 0.0332057996305835), (1676, 0.03030729569872763), (1677, 0.042122592772730505), (1678, 0.03339705763153437), (1679, 0.0363670370491804), (1680, 0.0313716695752901), (1681, 0.03223592926154816), (1682, 0.04329839193341671), (1683, 0.03589184096699049), (1684, 0.029991493267137743), (1685, 0.039331121911826764), (1686, 0.026943920284470377), (1687, 0.03394182528485013), (1688, 0.03947814831519016), (1689, 0.037605626094991344), (1690, 0.041934478729362054), (1691, 0.03312078910621784), (1692, 0.02863959902013022), (1693, 0.043113964764625576), (1694, 0.10006668458141216), (1695, 0.027421064166230823), (1696, 0.0283831523425311), (1697, 0.03477184937961364), (1698, 0.03087277107867246), (1699, 0.024888601845251237), (1700, 0.03752843551252882), (1701, 0.03067955528715171), (1702, 0.03774614299697299), (1703, 0.03278846329206468), (1704, 0.031867848272183724), (1705, 0.03100109737572585), (1706, 0.03230235783288862), (1707, 0.04324406984481281), (1708, 0.0319404119853719), (1709, 0.032944714506627996), (1710, 0.06139374897931352), (1711, 0.037513907128555325), (1712, 0.032130483972860925), (1713, 0.030358692265755854), (1714, 0.03524562872515215), (1715, 0.03285043239237232), (1716, 0.03608149782858016), (1717, 0.03372781058164282), (1718, 0.04379390938589529), (1719, 0.04875057175619439), (1720, 0.02969367954144203), (1721, 0.031759681803656264), (1722, 0.04559227323494902), (1723, 0.03122759548014184), (1724, 0.03159396572420999), (1725, 0.032127033438094824), (1726, 0.03509076634009024), (1727, 0.03820121387237561), (1728, 0.028299492744394788), (1729, 0.03225165879652693), (1730, 0.03012959352767545), (1731, 0.04321113059907842), (1732, 0.033501175585581265), (1733, 0.04189138779459523), (1734, 0.03569213092752295), (1735, 0.035791675253780506), (1736, 0.03600141187643321), (1737, 0.03414983689085661), (1738, 0.03565955927559782), (1739, 0.0316436264852565), (1740, 0.03398830335390246), (1741, 0.13324447984597562), (1742, 0.0910802750444003), (1743, 0.0391925767527488), (1744, 0.04169614828840385), (1745, 0.02453961502425868), (1746, 0.04015357312274252), (1747, 0.035658336574051555), (1748, 0.03494273732382425), (1749, 0.028474785250211455), (1750, 0.0330650687620433), (1751, 0.03539871797139123), (1752, 0.031349747105250986), (1753, 0.024144010289043574), (1754, 0.03520906546265855), (1755, 0.028512799025374173), (1756, 0.028555778263599285), (1757, 0.1514325438081276), (1758, 0.039918103153789006), (1759, 0.036228101955967276), (1760, 0.06469979666900025), (1761, 0.029482863360442244), (1762, 0.039199279822574415), (1763, 0.03593945346474505), (1764, 0.03836597477341146), (1765, 0.07749735452669251), (1766, 0.03657466143074069), (1767, 0.03865229945591734), (1768, 0.04304257433554397), (1769, 0.05326723859013731), (1770, 0.07697104052965892), (1771, 0.042647979910166514), (1772, 0.028093553917972598), (1773, 0.02775782812632013), (1774, 0.029214444414665808), (1775, 0.029721117363854757), (1776, 0.03479275819660392), (1777, 0.03723842879334873), (1778, 0.04227501467038948), (1779, 0.10928022597678787), (1780, 0.03458740191136438), (1781, 0.05101900829836206), (1782, 0.046018651388746924), (1783, 0.03328646071818721), (1784, 0.032732817733358725), (1785, 0.035435701344991535), (1786, 0.08986988590896024), (1787, 0.04096035549438567), (1788, 0.03766058827818412), (1789, 0.02951937234603554), (1790, 0.03663672791012328), (1791, 0.03536525521384475), (1792, 0.03989358009698706), (1793, 0.062352958212234556), (1794, 0.03285626527673709), (1795, 0.026986392579550794), (1796, 0.03012079503934822), (1797, 0.07372016780969606), (1798, 0.04305475578899991), (1799, 0.03581780906475617), (1800, 0.02735190328473365), (1801, 0.029853937756820246), (1802, 0.0367020718807437), (1803, 0.04759242912859965), (1804, 0.040845904773039315), (1805, 0.06385244005584925), (1806, 0.049293343306525676), (1807, 0.06736849383633822), (1808, 0.034467370951774864), (1809, 0.025742001109559112), (1810, 0.02986787186296279), (1811, 0.03412728668356842), (1812, 0.031583327335095286), (1813, 0.05516112525750011), (1814, 0.032472887634041436), (1815, 0.16634973177328963), (1816, 0.04849883577340235), (1817, 0.028825355041128896), (1818, 0.10975498086746847), (1819, 0.03891881852443273), (1820, 0.02879767773142416), (1821, 0.07129826678460471), (1822, 0.07210504721777491), (1823, 0.028181015797249517), (1824, 0.03296069539659697), (1825, 0.02874453620439381), (1826, 0.02716368906979919), (1827, 0.04544739233846681), (1828, 0.03525297246842657), (1829, 0.03397705176200753), (1830, 0.03392571875480775), (1831, 0.031126806402737888), (1832, 0.027697587158526493), (1833, 0.039622199418814), (1834, 0.030997551193821606), (1835, 0.029592847367978875), (1836, 0.07046180871370375), (1837, 0.03404427655914878), (1838, 0.02792404517953275), (1839, 0.03158609352675097), (1840, 0.030403778314299683), (1841, 0.03151991559899205), (1842, 0.03385467446899489), (1843, 0.033679901505949995), (1844, 0.037203863572381604), (1845, 0.038852404852262865), (1846, 0.029906077717024176), (1847, 0.06905886907987738), (1848, 0.04209677580198712), (1849, 0.03541054109856803), (1850, 0.0325998249685441), (1851, 0.047496247671239014), (1852, 0.02818635333020728), (1853, 0.031947202791493684), (1854, 0.031025887391696535), (1855, 0.034113553960112425), (1856, 0.03321411916245025), (1857, 0.02921929822959005), (1858, 0.07303071867734898), (1859, 0.03145429503869159), (1860, 0.04438691307298216), (1861, 0.030424679127743604), (1862, 0.03375203720708321), (1863, 0.026185040317981207), (1864, 0.0338725313140203), (1865, 0.03627747115766178), (1866, 0.07104396356197973), (1867, 0.041712008876755684), (1868, 0.0367435586116738), (1869, 0.03982729104419608), (1870, 0.03441128955849821), (1871, 0.0480340705483226), (1872, 0.033527038004977104), (1873, 0.031774818545356374), (1874, 0.035436692545001675), (1875, 0.03819214970498295), (1876, 0.03775963099985036), (1877, 0.057448662579914454), (1878, 0.04736179304913752), (1879, 0.03479191579466742), (1880, 0.04587172281191137), (1881, 0.044002287992627405), (1882, 0.03133253290256895), (1883, 0.04298845482222009), (1884, 0.031827141563381255), (1885, 0.04396788315280982), (1886, 0.02893279401518167), (1887, 0.07566176388311224), (1888, 0.04639285813220038), (1889, 0.03680072366027377), (1890, 0.09049467633026725), (1891, 0.031581488150647936), (1892, 0.02741695517246929), (1893, 0.11874181874791404), (1894, 0.029323267399781902), (1895, 0.05101190469583748), (1896, 0.033527742673134124), (1897, 0.04125377933223964), (1898, 0.03472207581514595), (1899, 0.03041448250382516), (1900, 0.03092767169013885), (1901, 0.03235028436179262), (1902, 0.07449297176879141), (1903, 0.043188955120857485), (1904, 0.02839400421746461), (1905, 0.04531666105896871), (1906, 0.035733162991737615), (1907, 0.039026120725911335), (1908, 0.02928222135333412), (1909, 0.041808759629516544), (1910, 0.030191760838470562), (1911, 0.03671398161156972), (1912, 0.03223075011656924), (1913, 0.03506449766785831), (1914, 0.06558455320907261), (1915, 0.03414374066585383), (1916, 0.03554439044656185), (1917, 0.032094399495905424), (1918, 0.06376925993334828), (1919, 0.07283695745626438), (1920, 0.06473831315365039), (1921, 0.03186174991956134), (1922, 0.03147586633897692), (1923, 0.04072134759176302), (1924, 0.036474407601069174), (1925, 0.03267619970954274), (1926, 0.03713395546144936), (1927, 0.02868912711824736), (1928, 0.0731192225876984), (1929, 0.07093203486056773), (1930, 0.029985370175134224), (1931, 0.03351179906909555), (1932, 0.027065689230672922), (1933, 0.02875056658690066), (1934, 0.06668894367136562), (1935, 0.0825343065725647), (1936, 0.032973095691198225), (1937, 0.028775973887205823), (1938, 0.02776008997001102), (1939, 0.1533674002194791), (1940, 0.033983867486317175), (1941, 0.037179829098226376), (1942, 0.0411186154692277), (1943, 0.03636928063770137), (1944, 0.03387809946274405), (1945, 0.02870968840071768), (1946, 0.043673681991807684), (1947, 0.07754021297721725), (1948, 0.028534540252660123), (1949, 0.03620404049042233), (1950, 0.037643339929845025), (1951, 0.046566869418866064), (1952, 0.03158602961127702), (1953, 0.0284812624563366), (1954, 0.06667955298163952), (1955, 0.08140096792733291), (1956, 0.0670790224010534), (1957, 0.032458927526233215), (1958, 0.029969317916568525), (1959, 0.036550944892014645), (1960, 0.03273792459370393), (1961, 0.03664434849532417), (1962, 0.0328885992341939), (1963, 0.0766925456685067), (1964, 0.03169621123146086), (1965, 0.035484586035116235), (1966, 0.06260811648802511), (1967, 0.03452980203234397), (1968, 0.03941210659118819), (1969, 0.033023251699799576), (1970, 0.029847181926053765), (1971, 0.03356465194677976), (1972, 0.02940015416769726), (1973, 0.031863595058934296), (1974, 0.040771461673397305), (1975, 0.029997834282215828), (1976, 0.03149799392637513), (1977, 0.039548172622551635), (1978, 0.05557849126463989), (1979, 0.02669998748597254), (1980, 0.05240238438597875), (1981, 0.03358635796697062), (1982, 0.03114034221402815), (1983, 0.03795022809952438), (1984, 0.07394899354791099), (1985, 0.03369239481684109), (1986, 0.1204729541991594), (1987, 0.0337534538897279), (1988, 0.027709886574967167), (1989, 0.02953566860249987), (1990, 0.02734070614355449), (1991, 0.030513342107863554), (1992, 0.03391878794671403), (1993, 0.0278094751259942), (1994, 0.03009186222906425), (1995, 0.03237427910670683), (1996, 0.030515390254176274), (1997, 0.03727589781705876), (1998, 0.03043418021364149), (1999, 0.06313565701436077), (2000, 0.040489417022863815), (2001, 0.045201221369469816), (2002, 0.03282572240173832), (2003, 0.04313773198282928), (2004, 0.04064282101202092), (2005, 0.0524370454371766), (2006, 0.12362080692558704), (2007, 0.04179372314256217), (2008, 0.03228006489399752), (2009, 0.044498721047516086), (2010, 0.023792858598019627), (2011, 0.03985339770542215), (2012, 0.03967845554409386), (2013, 0.022328624358897955), (2014, 0.03726738577623413), (2015, 0.05535342237376767), (2016, 0.06703389187436115), (2017, 0.031084370169269706), (2018, 0.02706726174478994), (2019, 0.03229300270723533), (2020, 0.024572807548550103), (2021, 0.037997804294056796), (2022, 0.03087623309606883), (2023, 0.031753775160502706), (2024, 0.031186716345389456), (2025, 0.02794013788086571), (2026, 0.047443569240782184), (2027, 0.03396941116818494), (2028, 0.031045084100717435), (2029, 0.071821826276451), (2030, 0.030084388518564653), (2031, 0.03221648755257581), (2032, 0.05113621969173825), (2033, 0.03400369468788511), (2034, 0.026681948968061486), (2035, 0.04025896178908707), (2036, 0.04092276002304092), (2037, 0.06784037508242306), (2038, 0.02653511847179068), (2039, 0.034075095344969525), (2040, 0.03564481169426189), (2041, 0.059124533179756744), (2042, 0.03271842718711444), (2043, 0.03314064533292688), (2044, 0.04125876988547864), (2045, 0.034038985709730046), (2046, 0.04912078627022244), (2047, 0.036464378280121244), (2048, 0.03858920264250999), (2049, 0.045676519546117816), (2050, 0.033050287976179364), (2051, 0.041363836243133396), (2052, 0.029011911533501487), (2053, 0.03588716264593646), (2054, 0.029642205499088407), (2055, 0.03263611815692798), (2056, 0.03264576888516767), (2057, 0.028538404759721834), (2058, 0.03486070409130287), (2059, 0.028941943287518073), (2060, 0.04474211466944921), (2061, 0.035868338027728194), (2062, 0.029421981274010852), (2063, 0.0331051318710927), (2064, 0.031791491830752854), (2065, 0.03045061880846827), (2066, 0.03337781599517223), (2067, 0.05470320491028868), (2068, 0.04394704982809946), (2069, 0.033507645641914684), (2070, 0.03329301904159859), (2071, 0.05391674616050407), (2072, 0.03633198412222925), (2073, 0.03346235605738131), (2074, 0.03158106375628721), (2075, 0.04865982145705357), (2076, 0.06874014638520314), (2077, 0.03792244671456698), (2078, 0.02983580450470637), (2079, 0.03978251540111543), (2080, 0.05099019009783119), (2081, 0.0351542900784616), (2082, 0.03700299250717337), (2083, 0.03394510254264035), (2084, 0.030905616369482934), (2085, 0.03178286791332756), (2086, 0.04356881018395586), (2087, 0.033692402490844625), (2088, 0.0346541414107325), (2089, 0.03519364762486258), (2090, 0.035939265016105344), (2091, 0.033480139439003055), (2092, 0.03481692004913838), (2093, 0.029194010806677148), (2094, 0.03268674897852097), (2095, 0.026905481889375145), (2096, 0.08288045784009299), (2097, 0.06616766921297221), (2098, 0.02870710562133492), (2099, 0.039011734814410025), (2100, 0.02943593372048929), (2101, 0.04659534987656108), (2102, 0.04088789316596046), (2103, 0.03322462135166893), (2104, 0.03535620878993684), (2105, 0.04212041589231208), (2106, 0.04825893480624487), (2107, 0.04005376665617167), (2108, 0.08099539446530586), (2109, 0.034267007280191705), (2110, 0.026140066884181974), (2111, 0.05895723102410089), (2112, 0.037494960383632904), (2113, 0.026662520051295508), (2114, 0.06119414357159193), (2115, 0.05054845973396001), (2116, 0.04434163201761253), (2117, 0.03220047167591255), (2118, 0.058073175665898785), (2119, 0.028417001322521698), (2120, 0.02799533792046891), (2121, 0.03249193923580988), (2122, 0.04692783508921523), (2123, 0.06443657019976975), (2124, 0.03422494848007173), (2125, 0.03579661712665754), (2126, 0.03585912345180407), (2127, 0.026800854933537344), (2128, 0.07860164235764533), (2129, 0.06272874490590534), (2130, 0.03198878916839408), (2131, 0.04586040004226524), (2132, 0.03686413730331449), (2133, 0.033812922100773954), (2134, 0.033403857776509886), (2135, 0.02691385198615652), (2136, 0.05563548694803908), (2137, 0.04834072305248432), (2138, 0.03531335037190308), (2139, 0.02698400842135264), (2140, 0.03812653179852477), (2141, 0.06524110643912866), (2142, 0.06784218785857674), (2143, 0.03654768865381039), (2144, 0.07710982579367821), (2145, 0.031970982685690874), (2146, 0.029348389311088328), (2147, 0.0820276886482778), (2148, 0.04100027109566372), (2149, 0.07071076755973252), (2150, 0.03513873776307568), (2151, 0.03975779426463937), (2152, 0.025403634708422967), (2153, 0.05664399465086342), (2154, 0.0378149628235194), (2155, 0.042575567914653), (2156, 0.04434083639228726), (2157, 0.03193949547709138), (2158, 0.039373131259802865), (2159, 0.04083667819341588), (2160, 0.04294677005940005), (2161, 0.03818314715349839), (2162, 0.03532818247519274), (2163, 0.09013256215482393), (2164, 0.03429832459296471), (2165, 0.031093730217794015), (2166, 0.04313425425733251), (2167, 0.041489867068397156), (2168, 0.04426005161917993), (2169, 0.040232401796728566), (2170, 0.04195165161847985), (2171, 0.06940141011880373), (2172, 0.034618141563666084), (2173, 0.062154176292712984), (2174, 0.030647164454839802), (2175, 0.06728645955406026), (2176, 0.03275102261717379), (2177, 0.030746832606520683), (2178, 0.030029657973665507), (2179, 0.052936295224915705), (2180, 0.03435099706137384), (2181, 0.06745952910142432), (2182, 0.035964392164591), (2183, 0.033614239396080936), (2184, 0.02630687959442046), (2185, 0.038030614758089575), (2186, 0.08085369833240268), (2187, 0.05105449771133294), (2188, 0.04050511464144525), (2189, 0.04201318080784043), (2190, 0.07360024297304003), (2191, 0.03543571765982505), (2192, 0.03676899006143391), (2193, 0.05010379181073901), (2194, 0.036231189234087545), (2195, 0.07868027305114403), (2196, 0.03799878520547805), (2197, 0.029600457684799054), (2198, 0.03184398792705347), (2199, 0.044419681707090465), (2200, 0.03140989686688951), (2201, 0.04394218014104497), (2202, 0.03834844370436142), (2203, 0.036098937998872115), (2204, 0.06567074651095808), (2205, 0.028948831493517704), (2206, 0.02727085735017848), (2207, 0.0766973387291519), (2208, 0.03773873605652051), (2209, 0.0722761840105495), (2210, 0.03650112001598657), (2211, 0.19054331326075352), (2212, 0.042267123798254994), (2213, 0.031081874914150293), (2214, 0.034874820293237886), (2215, 0.03280945087775441), (2216, 0.06614202114808157), (2217, 0.03599518476981903), (2218, 0.040396792669722154), (2219, 0.06519121406036783), (2220, 0.02579216073820857), (2221, 0.03586875554456138), (2222, 0.03558848352741898), (2223, 0.038848780949626335), (2224, 0.03375299884742633), (2225, 0.12226274137939754), (2226, 0.037967442655895314), (2227, 0.0751408303922475), (2228, 0.04020446901435281), (2229, 0.036408372597693764), (2230, 0.11123257176780386), (2231, 0.029821708885844313), (2232, 0.029337607169321274), (2233, 0.03057264983791859), (2234, 0.05142543888777509), (2235, 0.036168095111742356), (2236, 0.04399208607324587), (2237, 0.042006560046835645), (2238, 0.028105370206163535), (2239, 0.030859125371009506), (2240, 0.03798205818714342), (2241, 0.04059403304277284), (2242, 0.045740299546954084), (2243, 0.02905859561212773), (2244, 0.08020557957491772), (2245, 0.03172916934481121), (2246, 0.029202185126369434), (2247, 0.03177614670277221), (2248, 0.056495838781219145), (2249, 0.07506697484268349), (2250, 0.03877555304543728), (2251, 0.041618012915754565), (2252, 0.05819155164844692), (2253, 0.040926117144154735), (2254, 0.07793637996772959), (2255, 0.0663232159112135), (2256, 0.02657172161342342), (2257, 0.03864962131154735), (2258, 0.07376415974395718), (2259, 0.05414044772254902), (2260, 0.03615869861409496), (2261, 0.04352000789422622), (2262, 0.06553193333702026), (2263, 0.03452302708382896), (2264, 0.03528576072493795), (2265, 0.032096095269291185), (2266, 0.05258965321389965), (2267, 0.03381582771742198), (2268, 0.03193923800912726), (2269, 0.05334054515877347), (2270, 0.03484711227019433), (2271, 0.03964037178002245), (2272, 0.07156147347154093), (2273, 0.03510093750951939), (2274, 0.066218341632818), (2275, 0.035688698646699525), (2276, 0.03108067996186923), (2277, 0.03109330353545412), (2278, 0.028905168800764696), (2279, 0.028955389420186765), (2280, 0.033592942883032766), (2281, 0.04452742098031896), (2282, 0.04002994530282368), (2283, 0.02983847715871662), (2284, 0.039948677767664836), (2285, 0.030393873688914143), (2286, 0.08001536072780026), (2287, 0.06748426885634874), (2288, 0.03199216364161965), (2289, 0.030083440804526414), (2290, 0.039133484082143524), (2291, 0.03042839314504195), (2292, 0.07104946753034068), (2293, 0.03719449093487002), (2294, 0.027983709966129644), (2295, 0.04020444421263147), (2296, 0.03640928398817052), (2297, 0.034932980735209604), (2298, 0.0347655488988814), (2299, 0.10780042728888134), (2300, 0.03217235696928333), (2301, 0.0651660743864386), (2302, 0.047312559847402735), (2303, 0.060274266768551174), (2304, 0.03667763078591523), (2305, 0.07313894626329441), (2306, 0.03742043414407978), (2307, 0.032106681099175687), (2308, 0.04771951565995035), (2309, 0.059839096914166154), (2310, 0.04010827914130642), (2311, 0.07492786943485122), (2312, 0.044294608393881676), (2313, 0.04314997506370677), (2314, 0.029751652198029825), (2315, 0.034498752259954746), (2316, 0.09437234294338884), (2317, 0.09626356641504097), (2318, 0.025833590633201082), (2319, 0.04527585338802021), (2320, 0.10374041887724475), (2321, 0.035852590695911034), (2322, 0.04144935450208538), (2323, 0.030845051455678667), (2324, 0.042719587702249595), (2325, 0.03647858032101131), (2326, 0.02276102516351367), (2327, 0.03300020726613073), (2328, 0.0421911867261109), (2329, 0.029893472192348388), (2330, 0.029991958621030337), (2331, 0.03141082155737139), (2332, 0.034526310446056856), (2333, 0.050007206428319934), (2334, 0.11865438364404166), (2335, 0.041606904826948066), (2336, 0.03268350013368651), (2337, 0.0327694816170381), (2338, 0.0386705209877232), (2339, 0.04152333607590188), (2340, 0.0843253540749937), (2341, 0.02959577882499913), (2342, 0.034480795226582574), (2343, 0.02992678332493355), (2344, 0.037805233017039905), (2345, 0.028118742350161763), (2346, 0.0387669318964034), (2347, 0.03074877635133142), (2348, 0.06732407791560607), (2349, 0.09660486640995197), (2350, 0.038436844567894424), (2351, 0.039639629980956236), (2352, 0.026934726320883024), (2353, 0.04684261991899541), (2354, 0.06933216052427307), (2355, 0.02709954338419707), (2356, 0.033451944629597274), (2357, 0.038588449608043064), (2358, 0.03852238888524528), (2359, 0.033523403384277936), (2360, 0.0357151940623617), (2361, 0.03193472539485052), (2362, 0.03720201321017837), (2363, 0.038088147952897514), (2364, 0.031790209067977235), (2365, 0.036276060171142356), (2366, 0.03097739221320868), (2367, 0.044989029589827), (2368, 0.09291854381139752), (2369, 0.028014980801957766), (2370, 0.03459810463909677), (2371, 0.035784374194615096), (2372, 0.029547913846894255), (2373, 0.02807286476333563), (2374, 0.06592696189884015), (2375, 0.07846552411587038), (2376, 0.031707455402380014), (2377, 0.032953523113229376), (2378, 0.03434999270081638), (2379, 0.04839100807789206), (2380, 0.03267345137487126), (2381, 0.03843210793630066), (2382, 0.03116075536325488), (2383, 0.035083366824633165), (2384, 0.040949618656042276), (2385, 0.08215465701446521), (2386, 0.03836391970731405), (2387, 0.07770496240758258), (2388, 0.0889835724861559), (2389, 0.027945752678003512), (2390, 0.10009490832012738), (2391, 0.04981410724700741), (2392, 0.039131828481180166), (2393, 0.03546740450843498), (2394, 0.03633695922436625), (2395, 0.04295700846394483), (2396, 0.09726859762285309), (2397, 0.0835636481626299), (2398, 0.02538971004466078), (2399, 0.04391391245428269), (2400, 0.038185947979859323), (2401, 0.0687131992636323), (2402, 0.07207238564355614), (2403, 0.039140823636532), (2404, 0.04644389934495837), (2405, 0.039308363578552066), (2406, 0.04046475022611067), (2407, 0.08103092896738617), (2408, 0.028536702667181824), (2409, 0.042177440353467155), (2410, 0.055298601972490924), (2411, 0.03822642699667098), (2412, 0.039463461974516764), (2413, 0.031868112500525875), (2414, 0.029451819124377113), (2415, 0.045190675081399206), (2416, 0.04056096855625155), (2417, 0.09625029859733078), (2418, 0.0351334066902542), (2419, 0.03520685254256036), (2420, 0.04809823408528046), (2421, 0.032373235061926214), (2422, 0.046893561692251166), (2423, 0.04318585613340703), (2424, 0.031150560015870632), (2425, 0.03893011230902986), (2426, 0.02978290903749027), (2427, 0.0418056459606231), (2428, 0.03570531605976826), (2429, 0.028919233364020257), (2430, 0.042745104161212896), (2431, 0.12182203361408678), (2432, 0.026549410490317966), (2433, 0.06355688152154126), (2434, 0.0991992011228215), (2435, 0.03453767880992917), (2436, 0.04466418870607784), (2437, 0.05896089879819263), (2438, 0.037170690912356204), (2439, 0.029999859118644827), (2440, 0.041487710196033055), (2441, 0.07253660048675344), (2442, 0.029290726468736504), (2443, 0.03394750492035435), (2444, 0.0346324075654738), (2445, 0.03398509621072792), (2446, 0.07043874803711873), (2447, 0.03421908049353243), (2448, 0.070439625377801), (2449, 0.04244183766289043), (2450, 0.029213237829214308), (2451, 0.033664017625373015), (2452, 0.041894752747050505), (2453, 0.0445891677998604), (2454, 0.03636750042012932), (2455, 0.038632576445687614), (2456, 0.0394740413984799), (2457, 0.03663799595862384), (2458, 0.03358443298038344), (2459, 0.08837772565391301), (2460, 0.06231922200979602), (2461, 0.04322669069419785), (2462, 0.029022026700847765), (2463, 0.0322406040428194), (2464, 0.03756212024919456), (2465, 0.0883850503313931), (2466, 0.06472466670410176), (2467, 0.04717250962407281), (2468, 0.040048387914436726), (2469, 0.09810424634289389), (2470, 0.03294556910840582), (2471, 0.026787182997722054), (2472, 0.04298655596233748), (2473, 0.03215831914277192), (2474, 0.03311750757829403), (2475, 0.040502473589907315), (2476, 0.035254576020841484), (2477, 0.03610445901352507), (2478, 0.07651251389344291), (2479, 0.03495488666720979), (2480, 0.030004519624486616), (2481, 0.0312676809203365), (2482, 0.06081587613873671), (2483, 0.04102250756999735), (2484, 0.04958010314086413), (2485, 0.034452564797247905), (2486, 0.11124548079882825), (2487, 0.03525454082498344), (2488, 0.06015568184058965), (2489, 0.04017870045096265), (2490, 0.15971535070515686), (2491, 0.03403892041418724), (2492, 0.05715561343906476), (2493, 0.03807060135512439), (2494, 0.05513796632439512), (2495, 0.04449725895787571), (2496, 0.030001366716038126), (2497, 0.032926421512150396), (2498, 0.030473874182381656), (2499, 0.04119140832037591), (2500, 0.053286094310557364), (2501, 0.029217655131331167), (2502, 0.04348662222900793), (2503, 0.08199538080522528), (2504, 0.04002388454812695), (2505, 0.033236207334148525), (2506, 0.029547281339430173), (2507, 0.07125295222815707), (2508, 0.03366453784270034), (2509, 0.0711149500327673), (2510, 0.03917504598998333), (2511, 0.04795298873929579), (2512, 0.07929428664234707), (2513, 0.032947136148427515), (2514, 0.0658587057972296), (2515, 0.038394052100934745), (2516, 0.03617292365449546), (2517, 0.02599041590656371), (2518, 0.042483577167181256), (2519, 0.09683458306772136), (2520, 0.03046154578492515), (2521, 0.068160075430035), (2522, 0.035638233273162984), (2523, 0.06046603079641398), (2524, 0.028289275057839368), (2525, 0.0328317065857284), (2526, 0.05935828253628279), (2527, 0.06804851064839836), (2528, 0.04421390401742241), (2529, 0.06004151572923989), (2530, 0.041265820247997416), (2531, 0.05139177458504386), (2532, 0.03295409593140581), (2533, 0.06733349131538051), (2534, 0.06132401370393915), (2535, 0.08320320456979788), (2536, 0.04065932600495765), (2537, 0.09051505049317048), (2538, 0.045507497430214205), (2539, 0.06395461073102485), (2540, 0.03308021024950448), (2541, 0.06496612459918816), (2542, 0.03227054271512673), (2543, 0.053097831806655), (2544, 0.017472176903267977), (2545, 0.031255234385878045), (2546, 0.03884779219561395), (2547, 0.03744377625125221), (2548, 0.031035431118576415), (2549, 0.02976885167834365), (2550, 0.054687129783081614), (2551, 0.03328561838294456), (2552, 0.0745334256828512), (2553, 0.04512140113425969), (2554, 0.06188289785896031), (2555, 0.04006668997945), (2556, 0.027981583681542212), (2557, 0.0371488125600884), (2558, 0.03456170820546493), (2559, 0.04915055459577004), (2560, 0.05408889100588179), (2561, 0.04346685147048582), (2562, 0.029293982189694742), (2563, 0.0358205602828988), (2564, 0.03874649963936111), (2565, 0.034927401284053555), (2566, 0.04510834497625436), (2567, 0.03191346126550766), (2568, 0.03616630162496486), (2569, 0.046490136063333694), (2570, 0.05448967843465906), (2571, 0.03307518602759442), (2572, 0.059895808183085805), (2573, 0.024983204256016793), (2574, 0.02990405319987986), (2575, 0.03713712434862628), (2576, 0.030551288394368464), (2577, 0.07688581146282038), (2578, 0.02680026654331288), (2579, 0.03347786961678827), (2580, 0.06053767241268914), (2581, 0.04215158153924466), (2582, 0.04956501542576025), (2583, 0.031883917149756885), (2584, 0.035113502378235135), (2585, 0.08543817677837086), (2586, 0.03260909551485574), (2587, 0.03533861356157683), (2588, 0.07582380470477913), (2589, 0.03448791622646411), (2590, 0.03646972056637431), (2591, 0.04381674152939498), (2592, 0.04281259874550237), (2593, 0.03214297760664642), (2594, 0.07313554719982485), (2595, 0.035133451311786884), (2596, 0.02583900254316753), (2597, 0.050750269706714785), (2598, 0.03424775294870369), (2599, 0.029210505760820668), (2600, 0.039316373519648486), (2601, 0.04476543969183617), (2602, 0.026274819033407653), (2603, 0.041937226021012464), (2604, 0.0417972409960436), (2605, 0.03470496176658475), (2606, 0.08285404351057384), (2607, 0.06837745950378255), (2608, 0.03440377345184519), (2609, 0.04356751183111154), (2610, 0.0529513652618494), (2611, 0.03164099985579245), (2612, 0.0319966026546674), (2613, 0.07399400613536983), (2614, 0.04569008230250632), (2615, 0.03286475112166447), (2616, 0.1055159398529861), (2617, 0.03327359302544546), (2618, 0.029857850477846525), (2619, 0.05250873037271187), (2620, 0.03287716035728688), (2621, 0.05739269853448832), (2622, 0.028329450444613543), (2623, 0.034016142495717966), (2624, 0.03905487253656085), (2625, 0.0395696667019771), (2626, 0.03666431293137499), (2627, 0.02550133205266608), (2628, 0.08181649843784303), (2629, 0.08050019509776188), (2630, 0.02863018319125994), (2631, 0.06909562707017133), (2632, 0.03251202944789963), (2633, 0.051997583196917295), (2634, 0.03242253108505495), (2635, 0.036333347792173745), (2636, 0.09255147687275543), (2637, 0.043993684446258764), (2638, 0.037925667377504725), (2639, 0.03413224214833676), (2640, 0.04221580312924409), (2641, 0.02780217475071855), (2642, 0.04937406920476933), (2643, 0.04833619079383072), (2644, 0.03287060800376137), (2645, 0.0780389392483497), (2646, 0.03387399323349664), (2647, 0.035003268349148756), (2648, 0.034374409013029704), (2649, 0.041730800374912204), (2650, 0.04412498703880853), (2651, 0.0353246016529703), (2652, 0.04508996030568843), (2653, 0.060800602282881276), (2654, 0.028109725882591974), (2655, 0.03977232663727907), (2656, 0.0416025848942551), (2657, 0.04487696028581681), (2658, 0.11278193810717155), (2659, 0.09122446866908154), (2660, 0.026923899728014532), (2661, 0.04336946812270169), (2662, 0.042285100747233476), (2663, 0.04259704365064754), (2664, 0.039960592335735255), (2665, 0.03533034946672211), (2666, 0.03093738849461698), (2667, 0.04233811556596223), (2668, 0.03745755862514763), (2669, 0.1591731331741577), (2670, 0.031646126387321935), (2671, 0.05821139556707467), (2672, 0.03861020419295047), (2673, 0.04178178446002043), (2674, 0.027655826834887518), (2675, 0.039240579088656975), (2676, 0.03572359438141452), (2677, 0.04366736066658454), (2678, 0.06672337346633349), (2679, 0.031113121230750815), (2680, 0.030694733160018046), (2681, 0.04168805120070945), (2682, 0.030431955972766114), (2683, 0.03174431745974349), (2684, 0.04487382762639778), (2685, 0.0640061964239464), (2686, 0.024432642874393264), (2687, 0.06972847438788873), (2688, 0.03105950532551207), (2689, 0.03604150543661272), (2690, 0.03535981208217424), (2691, 0.030462079262232444), (2692, 0.031320895735306824), (2693, 0.04110317883438049), (2694, 0.0694622155194795), (2695, 0.03341001281552522), (2696, 0.0944156749806459), (2697, 0.027317136033459578), (2698, 0.06972021521220652), (2699, 0.04118380899293095), (2700, 0.030407402661517983), (2701, 0.061562447183152076), (2702, 0.17807229866139057), (2703, 0.04592515723910572), (2704, 0.030960457458606296), (2705, 0.04076515146057506), (2706, 0.03963746515772107), (2707, 0.03533076054101573), (2708, 0.027432841849673394), (2709, 0.038028348183215835), (2710, 0.034825173116111906), (2711, 0.06572534980486198), (2712, 0.041486651158377484), (2713, 0.027837974870821885), (2714, 0.033589180536852135), (2715, 0.040823249469404445), (2716, 0.03486409999454299), (2717, 0.029624022207260545), (2718, 0.029236048275015532), (2719, 0.03219432000825574), (2720, 0.07972668247943199), (2721, 0.06294526774321292), (2722, 0.04790196804523579), (2723, 0.03508841212472268), (2724, 0.0332855403145148), (2725, 0.03538337329545947), (2726, 0.06978305501826873), (2727, 0.07676557128945236), (2728, 0.03731067142090291), (2729, 0.04185738882934798), (2730, 0.05977732098059845), (2731, 0.04589299571172511), (2732, 0.05442085855624689), (2733, 0.029997424583370628), (2734, 0.07585031703392109), (2735, 0.05741813302144784), (2736, 0.026193749735946775), (2737, 0.06349601780488068), (2738, 0.044349501712559664), (2739, 0.06621188323308119), (2740, 0.05024282032866607), (2741, 0.03288948226777332), (2742, 0.02974429712433802), (2743, 0.02584078045920964), (2744, 0.05841016920797207), (2745, 0.042389675970564505), (2746, 0.0474688778938068), (2747, 0.04465487323888994), (2748, 0.04554739620968483), (2749, 0.0664065455051832), (2750, 0.03447617686914988), (2751, 0.034225897106486526), (2752, 0.03192297214150826), (2753, 0.03443646726121652), (2754, 0.0328443477637801), (2755, 0.049601864058882054), (2756, 0.04350970661378473), (2757, 0.045599836998716864), (2758, 0.038322503362222045), (2759, 0.02836998583123039), (2760, 0.038563123313811225), (2761, 0.036502431520164094), (2762, 0.028735336801190895), (2763, 0.08041394817461933), (2764, 0.05896294015494034), (2765, 0.03607026733469168), (2766, 0.041345140291438154), (2767, 0.02797540274608206), (2768, 0.14762341638480306), (2769, 0.09787890395721495), (2770, 0.03374223232846982), (2771, 0.03415794038211432), (2772, 0.035502684924826916), (2773, 0.029429600934180046), (2774, 0.02939312196386983), (2775, 0.09445706743117399), (2776, 0.04915976049634334), (2777, 0.030126052133096676), (2778, 0.03640614322749364), (2779, 0.04005992526240963), (2780, 0.03015730516620385), (2781, 0.06909332897320467), (2782, 0.046395169365254424), (2783, 0.03180169040962484), (2784, 0.03328837370787968), (2785, 0.035751880162419175), (2786, 0.03680601703028413), (2787, 0.07131442429157779), (2788, 0.030211198532990993), (2789, 0.026744442823640326), (2790, 0.032750578204474405), (2791, 0.0284242688889426), (2792, 0.06746277734766128), (2793, 0.034298818630811106), (2794, 0.10497308409258699), (2795, 0.04252100237969135), (2796, 0.039231886584427084), (2797, 0.05080209862508323), (2798, 0.0422453706092479), (2799, 0.07805083417022496), (2800, 0.033394191418599006), (2801, 0.025630076105004423), (2802, 0.04691877974756051), (2803, 0.034144450805497904), (2804, 0.03213171270767032), (2805, 0.07989135738886549), (2806, 0.03797779890997115), (2807, 0.04662270931527112), (2808, 0.03288889371056757), (2809, 0.04532669883358777), (2810, 0.042575480897309725), (2811, 0.03347768061084268), (2812, 0.0695853697754131), (2813, 0.07379287525605943), (2814, 0.037101324862864465), (2815, 0.03058340490572613), (2816, 0.08000586872370122), (2817, 0.09545335661366608), (2818, 0.04917134321174607), (2819, 0.030594853500591927), (2820, 0.032123898954323375), (2821, 0.0795250291326535), (2822, 0.033613190606612865), (2823, 0.03111346255360588), (2824, 0.029888127259441434), (2825, 0.034824209996842194), (2826, 0.03212887391733406), (2827, 0.026858898954932316), (2828, 0.06328376100765729), (2829, 0.03732582238292231), (2830, 0.045596924293072355), (2831, 0.03541805745073464), (2832, 0.054599913246597395), (2833, 0.07525128567781621), (2834, 0.060553749141832015), (2835, 0.06466363006872244), (2836, 0.043593111520812626), (2837, 0.032488667032533315), (2838, 0.061885445309997456), (2839, 0.027599523057039638), (2840, 0.04192942364821967), (2841, 0.03414163580270924), (2842, 0.026073411364441697), (2843, 0.03424747740358318), (2844, 0.04324963347590999), (2845, 0.08235967131559599), (2846, 0.04011589034811934), (2847, 0.030873306646595877), (2848, 0.07269718865538316), (2849, 0.03197414579144846), (2850, 0.02944918711170084), (2851, 0.03849161101973966), (2852, 0.04503041550015832), (2853, 0.06178258859767663), (2854, 0.042456529535520225), (2855, 0.07979986928097309), (2856, 0.03364759089235526), (2857, 0.10597925957408802), (2858, 0.04835124592049238), (2859, 0.03893302328245345), (2860, 0.0705329389882719), (2861, 0.03977761397736537), (2862, 0.03176786795020803), (2863, 0.04153696234782599), (2864, 0.030995656236804017), (2865, 0.03152167436598231), (2866, 0.039441541018078244), (2867, 0.0417368547990806), (2868, 0.03832427325102421), (2869, 0.07384667817552845), (2870, 0.050533442802331664), (2871, 0.02613047091377814), (2872, 0.048130036800152154), (2873, 0.04464054021386072), (2874, 0.037518289337175235), (2875, 0.03935434371191287), (2876, 0.06349777343480484), (2877, 0.045278966471759434), (2878, 0.04671726072029544), (2879, 0.03662740006461305), (2880, 0.041766348769784856), (2881, 0.03401796822144422), (2882, 0.09020819543262039), (2883, 0.05039987106631243), (2884, 0.04581060716896012), (2885, 0.0193807284906778), (2886, 0.03597265879589605), (2887, 0.030559906054543385), (2888, 0.032472266181718265), (2889, 0.04123822809177379), (2890, 0.07767386982523021), (2891, 0.054288257482983965), (2892, 0.05041225367638445), (2893, 0.08901176907302072), (2894, 0.04361906648031948), (2895, 0.03597542822384569), (2896, 0.0337626304274942), (2897, 0.04432692123588034), (2898, 0.029350051035722476), (2899, 0.03228433902945705), (2900, 0.09556113287819823), (2901, 0.038570956499409365), (2902, 0.030691107725976153), (2903, 0.03780145598531399), (2904, 0.11411958008273271), (2905, 0.02794705045885646), (2906, 0.06194834875326204), (2907, 0.0414486946605871), (2908, 0.034525650182260045), (2909, 0.03655899535307039), (2910, 0.035811559620016066), (2911, 0.04435680330156002), (2912, 0.07176216822535623), (2913, 0.027702037694521335), (2914, 0.038856346415327925), (2915, 0.039617691574687926), (2916, 0.033809468852031996), (2917, 0.029195379850330862), (2918, 0.02946865398810155), (2919, 0.034709581793249414), (2920, 0.03325489169383321), (2921, 0.03233397073643238), (2922, 0.042286820460400935), (2923, 0.04007756562226483), (2924, 0.05021397329170027), (2925, 0.07515906474010625), (2926, 0.07005867796405692), (2927, 0.03198552234638152), (2928, 0.04972306989668523), (2929, 0.028137260254240522), (2930, 0.03340700304357583), (2931, 0.04074317433694856), (2932, 0.03964662902744019), (2933, 0.03822103920083926), (2934, 0.030292092468771844), (2935, 0.026899352590645468), (2936, 0.03403022698944508), (2937, 0.04284049303227381), (2938, 0.027545953453014218), (2939, 0.07925125229893777), (2940, 0.04028493753883311), (2941, 0.08186744403285158), (2942, 0.031179969025855254), (2943, 0.03739663635835381), (2944, 0.030314820496553336), (2945, 1.0), (2946, 0.029780871711114296), (2947, 0.03390300453006637), (2948, 0.040550028909336816), (2949, 0.03843905159042453), (2950, 0.027405039169388853), (2951, 0.08417764964241795), (2952, 0.03538447442833758), (2953, 0.060437350698187946), (2954, 0.07001950650986591), (2955, 0.027324333776921422), (2956, 0.03418055389140883), (2957, 0.04180041572972858), (2958, 0.11676562470049945), (2959, 0.0302366806622116), (2960, 0.029208663725399292), (2961, 0.029357774530608678), (2962, 0.032878827766811), (2963, 0.032553216529112784), (2964, 0.07237209565539007), (2965, 0.032300507240255814), (2966, 0.08529299863010209), (2967, 0.03848332887618209), (2968, 0.038541819218459325), (2969, 0.03262361678000186), (2970, 0.07167774521886872), (2971, 0.029371499304124214), (2972, 0.03753973553187802), (2973, 0.07519674388675328), (2974, 0.04216761909942558), (2975, 0.044464666943788464), (2976, 0.03264232899215689), (2977, 0.07243136621761005), (2978, 0.1487599068916582), (2979, 0.03397891703832403), (2980, 0.03375552837127392), (2981, 0.04849432149722693), (2982, 0.04643712374324052), (2983, 0.17850583744188933), (2984, 0.027862619075050193), (2985, 0.03158209694333125), (2986, 0.04937822205340386), (2987, 0.03430347549659559), (2988, 0.035064626549613974), (2989, 0.04172460935704324), (2990, 0.04180439442122845), (2991, 0.027255277332312602), (2992, 0.04097298878513293), (2993, 0.036330555350880256), (2994, 0.03325294345280485), (2995, 0.04131080558472462), (2996, 0.07831298791274396), (2997, 0.028641135874952404), (2998, 0.04472473483393398), (2999, 0.10669401402238733), (3000, 0.06037402623093959), (3001, 0.03353769831527908), (3002, 0.028972987298325696), (3003, 0.13634774218070575), (3004, 0.04923631672110303), (3005, 0.030624092879648124), (3006, 0.027055633295929624), (3007, 0.04891320159123559), (3008, 0.030058391381048856), (3009, 0.05376383943702301), (3010, 0.037627275240748825), (3011, 0.030046732280309334), (3012, 0.07187850994447197), (3013, 0.08705082879853387), (3014, 0.03974485599389039), (3015, 0.08822464478488598), (3016, 0.039535001568049795), (3017, 0.0457931488272935), (3018, 0.04612741788214576), (3019, 0.03507232707671107), (3020, 0.08052428608038964), (3021, 0.06147134604812994), (3022, 0.03599274734462005), (3023, 0.028845711585749275), (3024, 0.028607639825153266), (3025, 0.03323074450032235), (3026, 0.03783459561388497), (3027, 0.03667470165032756), (3028, 0.03156445987054183), (3029, 0.06281482666520824), (3030, 0.050598781366122), (3031, 0.07606200201204241), (3032, 0.05886534407309544), (3033, 0.03468716722466023), (3034, 0.03848321254412481), (3035, 0.028841181957667168), (3036, 0.037217694927849695), (3037, 0.03640489354251386), (3038, 0.032817552579956194), (3039, 0.04943536600365827), (3040, 0.04766084915211592), (3041, 0.03467610132304166), (3042, 0.09009478944567406), (3043, 0.04066735294584963), (3044, 0.03738016179486198), (3045, 0.028870649087154462), (3046, 0.0350283105528396), (3047, 0.09227611356858934), (3048, 0.06037338928015341), (3049, 0.03349143225081488), (3050, 0.038031224850008774), (3051, 0.04265336074087098), (3052, 0.07003096744389364), (3053, 0.033910057685092566), (3054, 0.08743239498144179), (3055, 0.04069654469088705), (3056, 0.03903685655370656), (3057, 0.06644535081187028), (3058, 0.028022369312727433), (3059, 0.029046073704250303), (3060, 0.043177938484125204), (3061, 0.04390629497685217), (3062, 0.03817245954686354), (3063, 0.03391175152969297), (3064, 0.03286605121414276), (3065, 0.025597093474180866), (3066, 0.03178857539000478), (3067, 0.0748728015908045), (3068, 0.028853523626139296), (3069, 0.03331034426036389), (3070, 0.054326373029818104), (3071, 0.04456801947702485), (3072, 0.04366743246227093), (3073, 0.06977450383246325), (3074, 0.04210340465465295), (3075, 0.03786712971558291), (3076, 0.044352850559495026), (3077, 0.04457639996951125), (3078, 0.04945991390699046), (3079, 0.024918402803795595), (3080, 0.034497185195380954), (3081, 0.03525101845624081), (3082, 0.033064336117502764), (3083, 0.046162596725937304), (3084, 0.03636328911457504), (3085, 0.03060821965737513), (3086, 0.03584374889407413), (3087, 0.03933549975604795), (3088, 0.09412679982216773), (3089, 0.04177080497632964), (3090, 0.03726016763144352), (3091, 0.031267908481276765), (3092, 0.05781069840617487), (3093, 0.02921567597390433), (3094, 0.0435342006851355), (3095, 0.03478914796346039), (3096, 0.029662054944776715), (3097, 0.04166784630067159), (3098, 0.04701365421662938), (3099, 0.026004722288797587), (3100, 0.02651764524420916), (3101, 0.08726499427147365), (3102, 0.036846354139863695), (3103, 0.04140394751273216), (3104, 0.03553416821716959), (3105, 0.026539266423471177), (3106, 0.03474553102797155), (3107, 0.028107668476905937), (3108, 0.08051325865820577), (3109, 0.047993138511043955), (3110, 0.07895664191123057), (3111, 0.04136370620330124), (3112, 0.03207075832496839), (3113, 0.034427693928671864), (3114, 0.02883858506908603), (3115, 0.08100577247860202), (3116, 0.052644495653713354), (3117, 0.03362718472629423), (3118, 0.026506034651065866), (3119, 0.04085564592045457), (3120, 0.03315315010532829), (3121, 0.030003122738304293), (3122, 0.06816090388965243), (3123, 0.07638512481070373), (3124, 0.03247930160347596), (3125, 0.03466634853755406), (3126, 0.02895366978580167), (3127, 0.04053589525208148), (3128, 0.037618006569106584), (3129, 0.02943539949674389), (3130, 0.030605363876095422), (3131, 0.031117786887520676), (3132, 0.030068915409163736), (3133, 0.029973852998942844), (3134, 0.02903997901299898), (3135, 0.02685021483986008), (3136, 0.02911708806839425), (3137, 0.06197328575427286), (3138, 0.024185517439090518), (3139, 0.048282801190119906), (3140, 0.05692955511529684), (3141, 0.035682062281490796), (3142, 0.06310721551607851), (3143, 0.05964339072911792), (3144, 0.024952958207171534), (3145, 0.03758318202006686), (3146, 0.10362810292283645), (3147, 0.13659612817313752), (3148, 0.07414868026210916), (3149, 0.07333986204441725), (3150, 0.037145480972504204), (3151, 0.03521865670113795), (3152, 0.05251567445976503), (3153, 0.033782672224638405), (3154, 0.040428724649235484), (3155, 0.03678007111302659), (3156, 0.027760068926696666), (3157, 0.08164854820999365), (3158, 0.032021155628922285), (3159, 0.042548380807761826), (3160, 0.02597620462029214), (3161, 0.04559680136044386), (3162, 0.035676565928769687), (3163, 0.031660189678736524), (3164, 0.07314261639614265), (3165, 0.04314765926767647), (3166, 0.060109025596862375), (3167, 0.031910878640011776), (3168, 0.05220859638218302), (3169, 0.03637189935951402), (3170, 0.05083273704346028), (3171, 0.028810583199562145), (3172, 0.03995621441320464), (3173, 0.030875394766442004), (3174, 0.032425591481292246), (3175, 0.09176599661039916), (3176, 0.062160472250636326), (3177, 0.09568600788417506), (3178, 0.06514252261593399), (3179, 0.03090057463240128), (3180, 0.0403644697155197), (3181, 0.037246052272066954), (3182, 0.11420892511712766), (3183, 0.05107909441511067), (3184, 0.08186412677359825), (3185, 0.0405499621526544), (3186, 0.03667028727008714), (3187, 0.03757413292918183), (3188, 0.04625421654598716), (3189, 0.04309959562401559), (3190, 0.03900895606462946), (3191, 0.031038404772842063), (3192, 0.04281862151535928), (3193, 0.03135200422179266), (3194, 0.0461759601914882), (3195, 0.030435070460284458), (3196, 0.035619538874639554), (3197, 0.03541674083890742), (3198, 0.04928649821538924), (3199, 0.02778886705193856), (3200, 0.03543141923278726), (3201, 0.027402967556546243), (3202, 0.042756661365589914), (3203, 0.037616415227954995), (3204, 0.04575166156888638), (3205, 0.06870155985996518), (3206, 0.08694094026888552), (3207, 0.03733448261008416), (3208, 0.031706485911810155), (3209, 0.03345382531843884), (3210, 0.03229902140776247), (3211, 0.02896304915523714), (3212, 0.028526403022695532), (3213, 0.06940882006591564), (3214, 0.04332382166490669), (3215, 0.02735122637566704), (3216, 0.033452356979452126), (3217, 0.09162540290609406), (3218, 0.060465968459014724), (3219, 0.04323052378321546), (3220, 0.10088226467552946), (3221, 0.04284622663042293), (3222, 0.02592268421713042), (3223, 0.06309862845983415), (3224, 0.069085463038848), (3225, 0.034196257323161075), (3226, 0.06489829056307914), (3227, 0.042503364234462854), (3228, 0.08716218658271616), (3229, 0.04639210144141814), (3230, 0.0369011389985244), (3231, 0.029049291127146833), (3232, 0.03520632109926532), (3233, 0.033656322723856), (3234, 0.09524884652164806), (3235, 0.045140763179950395), (3236, 0.0389288038266687), (3237, 0.042865572464099985), (3238, 0.07373163822275104), (3239, 0.0890406474353566), (3240, 0.036342297088699), (3241, 0.046814184905989056), (3242, 0.07641378210556138), (3243, 0.03151567670271792), (3244, 0.032996863743865845), (3245, 0.031439651407609834), (3246, 0.04615880846053393), (3247, 0.0413370073989118), (3248, 0.04178719574670188), (3249, 0.1240426423070544), (3250, 0.03235238488538128), (3251, 0.07348964655738968), (3252, 0.03582772686953801), (3253, 0.05526847031088385), (3254, 0.034833878153973014), (3255, 0.03432775216278256), (3256, 0.0451934510372316), (3257, 0.08951132798602121), (3258, 0.08105448947238907), (3259, 0.03602719460898551), (3260, 0.038475694148293695), (3261, 0.05248250916167023), (3262, 0.03864897821833452), (3263, 0.029485386953776067), (3264, 0.07698042416679796), (3265, 0.03593389563766518), (3266, 0.08754682118207922), (3267, 0.04440729989460816), (3268, 0.03603199235370599), (3269, 0.07681535011930332), (3270, 0.03257787670931633), (3271, 0.0509475449303692), (3272, 0.03144866961939947), (3273, 0.04495652943413195), (3274, 0.04237591515335358), (3275, 0.04219816186448701), (3276, 0.056064517596956014), (3277, 0.039826862585550946), (3278, 0.030050493237608354), (3279, 0.02713424374605973), (3280, 0.0268013511824582), (3281, 0.033462931251973825), (3282, 0.10642154033102871), (3283, 0.08681553825480699), (3284, 0.04261758842272731), (3285, 0.026443899165778224), (3286, 0.03153995800695919), (3287, 0.035436707094222926), (3288, 0.040420488114481845), (3289, 0.08015474498518263), (3290, 0.039448653047365674), (3291, 0.08777870900719092), (3292, 0.03909448628763903), (3293, 0.030776667503819823), (3294, 0.03235413913867354), (3295, 0.038430920890106635), (3296, 0.042763521536088894), (3297, 0.04884890241475571), (3298, 0.04221156994480245), (3299, 0.03828317752422688), (3300, 0.038080351466816195), (3301, 0.023816033893874176), (3302, 0.05443268277680736), (3303, 0.05305795712796081), (3304, 0.039529133730619816), (3305, 0.029563697165402202), (3306, 0.035442493651608814), (3307, 0.034915383756665655), (3308, 0.05472796099844265), (3309, 0.033761987320810545), (3310, 0.034985479212469806), (3311, 0.03534201424882293), (3312, 0.03483108693381925), (3313, 0.03373308701897398), (3314, 0.04664012972391522), (3315, 0.04868377567874338), (3316, 0.03611606741590368), (3317, 0.026147963180725882), (3318, 0.039680823005341787), (3319, 0.059586886273051205), (3320, 0.030471010116283337), (3321, 0.03662452665312768), (3322, 0.03867333749899537), (3323, 0.1356218888458655), (3324, 0.07514348910033875), (3325, 0.23029744845718012), (3326, 0.04185616118087884), (3327, 0.03750920684410295), (3328, 0.03198931536147354), (3329, 0.07398258496107671), (3330, 0.033591402985071635), (3331, 0.03107331435841827), (3332, 0.03524485895119568), (3333, 0.02657866384337994), (3334, 0.029720815613018377), (3335, 0.04113549042889056), (3336, 0.034900363992523525), (3337, 0.03907728262574253), (3338, 0.0268766569871002), (3339, 0.07530612687638528), (3340, 0.02679826425909815), (3341, 0.03470237582975456), (3342, 0.03136589238723598), (3343, 0.063036303329713), (3344, 0.06307932599701419), (3345, 0.07082273460769778), (3346, 0.03335167338314137), (3347, 0.027671595800271537), (3348, 0.07409249103777357), (3349, 0.03577783386891499), (3350, 0.035493270196604115), (3351, 0.04669839045861554), (3352, 0.0456252918315866), (3353, 0.03693097096250927), (3354, 0.07890936063161101), (3355, 0.03467017723046724), (3356, 0.030107777911822793), (3357, 0.15434557432611318), (3358, 0.03619475502039641), (3359, 0.08172425150175423), (3360, 0.049336553716190654), (3361, 0.027366291587370216), (3362, 0.028302749745112408), (3363, 0.05011070010539964), (3364, 0.05831898872484146), (3365, 0.024386684712440543), (3366, 0.05701525627901474), (3367, 0.03148781646286591), (3368, 0.02755751300503641), (3369, 0.03257109486946481), (3370, 0.07803884055311627), (3371, 0.07915269530791155), (3372, 0.06595743306707448), (3373, 0.04103458958771142), (3374, 0.034335013414071094), (3375, 0.07107470620648988), (3376, 0.06561231275006832), (3377, 0.03707288649216862), (3378, 0.03472641026080032), (3379, 0.03085675621769042), (3380, 0.04203658006162218), (3381, 0.06547716678054252), (3382, 0.04334628370669037), (3383, 0.03543502835771492), (3384, 0.03521307331731142), (3385, 0.03328367070789338), (3386, 0.03853286313338412), (3387, 0.03231753359805977), (3388, 0.0873702268354772), (3389, 0.053948226089891305), (3390, 0.03465413573197871), (3391, 0.045019792456428634), (3392, 0.026219874800042165), (3393, 0.03731535039617027), (3394, 0.025469409427435977), (3395, 0.03587912646731586), (3396, 0.034790292331190645), (3397, 0.030593916270000448), (3398, 0.030326209953046444), (3399, 0.03198645774056526), (3400, 0.0417157961487882), (3401, 0.030544737560096735), (3402, 0.037055286862320846), (3403, 0.038098349009162355), (3404, 0.0296923300562596), (3405, 0.02682241610135408), (3406, 0.04393298116239037), (3407, 0.03955251888207107), (3408, 0.09674162556356201), (3409, 0.028848818492850422), (3410, 0.07700103972193215), (3411, 0.02989359917811568), (3412, 0.03500987572604548), (3413, 0.049965193536332476), (3414, 0.08229192010807199), (3415, 0.08346138828276915), (3416, 0.051540973859662706), (3417, 0.04090996102425863), (3418, 0.03432452995520781), (3419, 0.07217711536008634), (3420, 0.1264926781790234), (3421, 0.03402659468986266), (3422, 0.09485686485245723), (3423, 0.034312574611446676), (3424, 0.04854864331597821), (3425, 0.08954915878703804), (3426, 0.02804749906295582), (3427, 0.05854026388574013), (3428, 0.04379831570187053), (3429, 0.02048434706134777), (3430, 0.05920249109265127), (3431, 0.050810831972825064), (3432, 0.02809523905749946), (3433, 0.031416335157089206), (3434, 0.03986384105694948), (3435, 0.0340599292553637), (3436, 0.0334187290770998), (3437, 0.033243376561391286), (3438, 0.031061986927659567), (3439, 0.04038735528937464), (3440, 0.03303323390733403), (3441, 0.02998369190713696), (3442, 0.03549001101223201), (3443, 0.03516670994406708), (3444, 0.04170726752744173), (3445, 0.033301143072913715), (3446, 0.030502755853528532), (3447, 0.0490807578534201), (3448, 0.035847634883145206), (3449, 0.05141100686383734), (3450, 0.0369367497619847), (3451, 0.03025407997859915), (3452, 0.02887782914908873), (3453, 0.03194479338541623), (3454, 0.03110447493056736), (3455, 0.027771933392757936), (3456, 0.028844914740500306), (3457, 0.0317437067764569), (3458, 0.06790392248588584), (3459, 0.05952208883437761), (3460, 0.033395263784077166), (3461, 0.03622742720313771), (3462, 0.034419096482187404), (3463, 0.03035505953476682), (3464, 0.0364489779036199), (3465, 0.026561951063972522), (3466, 0.02844410919365129), (3467, 0.03070075751496862), (3468, 0.030601424478741836), (3469, 0.03492826794350149), (3470, 0.031448215808902905), (3471, 0.025528649789659654), (3472, 0.034099603137322916), (3473, 0.030700988353355215), (3474, 0.03270796545189289), (3475, 0.05004027668743615), (3476, 0.028746887697554766), (3477, 0.13572336630533732), (3478, 0.09088465558874757), (3479, 0.0986664494034327), (3480, 0.02683935009834991), (3481, 0.026356557630329226), (3482, 0.029245677255845114), (3483, 0.03585376965939645), (3484, 0.02670604884634007), (3485, 0.030514696913173576), (3486, 0.029719449444439903), (3487, 0.03290673327566257), (3488, 0.02823707009902217), (3489, 0.04673346206652623), (3490, 0.07710571848420439), (3491, 0.03225237634262991), (3492, 0.07430659050898503), (3493, 0.04634374792419719), (3494, 0.034516610490421255), (3495, 0.02724808967378529), (3496, 0.04752766600196419), (3497, 0.03619621125349091), (3498, 0.032840013648314945), (3499, 0.03386890762514675), (3500, 0.04037838758024236), (3501, 0.0638028433053667), (3502, 0.035786352046239374), (3503, 0.06773635613995461), (3504, 0.050290770124529496), (3505, 0.03242772555444882), (3506, 0.10986446597881765), (3507, 0.030436381686112637), (3508, 0.03468478755796508), (3509, 0.03446266590204705), (3510, 0.08103097509683829), (3511, 0.04275498023300034), (3512, 0.0845769686064732), (3513, 0.04064902394326386), (3514, 0.0412981227575687), (3515, 0.035556906636976644), (3516, 0.03675175264626583), (3517, 0.03899779161123636), (3518, 0.03601612025450317), (3519, 0.03703472374494151), (3520, 0.028889672623016185), (3521, 0.07688889460958084), (3522, 0.029385112762623462), (3523, 0.04270523283815214), (3524, 0.045904580837685546), (3525, 0.024341322157824957), (3526, 0.07048793538879576), (3527, 0.03127489654335443), (3528, 0.027866311115842556), (3529, 0.04661016948481395), (3530, 0.027685186780398767), (3531, 0.04244960280767783), (3532, 0.03280486158914001), (3533, 0.029047245780463745), (3534, 0.031196956061188684), (3535, 0.03167697843176282), (3536, 0.03379416442179592), (3537, 0.1073293726654631), (3538, 0.06256599891260664), (3539, 0.07798520503646747), (3540, 0.07277769924614966), (3541, 0.04446677579192724), (3542, 0.030334671519903066), (3543, 0.03213605559527866), (3544, 0.12256076697560367), (3545, 0.03290554831947947), (3546, 0.03213133874162731), (3547, 0.06916556506362449), (3548, 0.02662524741912867), (3549, 0.04168238368635431), (3550, 0.02617293857493888), (3551, 0.04263057212571722), (3552, 0.11924710157331761), (3553, 0.07175116747654169), (3554, 0.037433678985118415), (3555, 0.031330062598903995), (3556, 0.034931935973989185), (3557, 0.031000148221275173), (3558, 0.03732606657606909), (3559, 0.046650991293421484), (3560, 0.04511977383408551), (3561, 0.09283204595683882), (3562, 0.05656375652805838), (3563, 0.12533263152297638), (3564, 0.03499888883100289), (3565, 0.046041972844116166), (3566, 0.03203326408985028), (3567, 0.02761632746304958), (3568, 0.02775303304560703), (3569, 0.033550093582537216), (3570, 0.03176564282919714), (3571, 0.04796275565796282), (3572, 0.041518129205309076), (3573, 0.031519193204886255), (3574, 0.030116557215310695), (3575, 0.038139101344186174), (3576, 0.02742887230690511), (3577, 0.06468884727486447), (3578, 0.03924551713173805), (3579, 0.045143006049190276), (3580, 0.03562955938421161), (3581, 0.07777497739485756), (3582, 0.03259075605414069), (3583, 0.02893364787118127), (3584, 0.044691779405628795), (3585, 0.03976283480293119), (3586, 0.031050320637876612), (3587, 0.036251301248156634), (3588, 0.03615968266916061), (3589, 0.03954273762528472), (3590, 0.03208466616461468), (3591, 0.03660313622128332), (3592, 0.04783897846583952), (3593, 0.034446813446172626), (3594, 0.041364294476889704), (3595, 0.03307472046116995), (3596, 0.06668771007285965), (3597, 0.029390078026480564), (3598, 0.03709099789820186), (3599, 0.04579475108270897), (3600, 0.03037530357017723), (3601, 0.18963428612749855), (3602, 0.058885215367071905), (3603, 0.0434269976312832), (3604, 0.033926891768538074), (3605, 0.031786289737300716), (3606, 0.03667671922597214), (3607, 0.03559500077452745), (3608, 0.020642853917627), (3609, 0.027013930776474706), (3610, 0.04118378387360915), (3611, 0.03801610597512105), (3612, 0.03667488756240529), (3613, 0.03709326112032386), (3614, 0.03950736108752312), (3615, 0.02853025667485421), (3616, 0.051584709581988804), (3617, 0.03127024440529472), (3618, 0.03439594473799476), (3619, 0.026189227135181018), (3620, 0.03661723687060253), (3621, 0.04014490299781375), (3622, 0.1789694666253538), (3623, 0.033641516188510245), (3624, 0.033346248990754404), (3625, 0.02645884410897305), (3626, 0.11037170113689951), (3627, 0.02790969853796781), (3628, 0.036114473543158464), (3629, 0.02576089965663571), (3630, 0.033682460440189216), (3631, 0.031742853303334255), (3632, 0.03408869200377752), (3633, 0.03249956780006671), (3634, 0.027877162999512223), (3635, 0.04051116421384696), (3636, 0.03114083141150657), (3637, 0.03168077297331306), (3638, 0.04590593486558297), (3639, 0.08174525775581173), (3640, 0.03466876497113538), (3641, 0.03607429965114755), (3642, 0.03353611968007254), (3643, 0.0343379706592506), (3644, 0.04048553062466497), (3645, 0.028680869252478057), (3646, 0.07651228889854148), (3647, 0.0714156089416407), (3648, 0.04556539019800875), (3649, 0.040938149093247264), (3650, 0.03457676736887358), (3651, 0.037963395690643255), (3652, 0.03460794718518949), (3653, 0.0335342563993929), (3654, 0.04366548388832192), (3655, 0.043719160455298056), (3656, 0.03493235219350527), (3657, 0.027954811297219266), (3658, 0.03306436945863556), (3659, 0.03255150416424931), (3660, 0.06612830989007604), (3661, 0.033063382668331476), (3662, 0.03527909633192205), (3663, 0.061851687357785234), (3664, 0.027644576584948587), (3665, 0.038981251690356086), (3666, 0.03347507050684748), (3667, 0.05028981691972593), (3668, 0.029984548536821698), (3669, 0.03718377953441379), (3670, 0.03594147381441741), (3671, 0.04279479139531837), (3672, 0.1963163638118725), (3673, 0.03738471711030215), (3674, 0.028032884320718), (3675, 0.03591964865448933), (3676, 0.03172701010545067), (3677, 0.03670850873456975), (3678, 0.09587306980878285), (3679, 0.05478190185771744), (3680, 0.034058601493893774), (3681, 0.046803885791744826), (3682, 0.029504419399698514), (3683, 0.038800009150163524), (3684, 0.032436366375332606), (3685, 0.034115990521593045), (3686, 0.045862240196661026), (3687, 0.07818121713509106), (3688, 0.037305845269413204), (3689, 0.06851076491198244), (3690, 0.030957208656181096), (3691, 0.030822993777716457), (3692, 0.03489252835490316), (3693, 0.026251222593835815), (3694, 0.033677266792049486), (3695, 0.03307134802718085), (3696, 0.03275853022480899), (3697, 0.03188264934568855), (3698, 0.027782918920911504), (3699, 0.036587117752290864), (3700, 0.026359081953664484), (3701, 0.07807750637989425), (3702, 0.03535240747561944), (3703, 0.03944595804549771), (3704, 0.03224591285185532), (3705, 0.03258931149825124), (3706, 0.03280300644608583), (3707, 0.030784391761300087), (3708, 0.03407495396714503), (3709, 0.029689367546323796), (3710, 0.056257927269816564), (3711, 0.029700369245368435), (3712, 0.033868334300008796), (3713, 0.022977232047312807), (3714, 0.06802671230821976), (3715, 0.040179824079454626), (3716, 0.038412718925909244), (3717, 0.03855276690088878), (3718, 0.02983782762718887), (3719, 0.029563458237378368), (3720, 0.056735208950973254), (3721, 0.045408479395660235), (3722, 0.0352981383981382), (3723, 0.027175977437786502), (3724, 0.03035019939314966), (3725, 0.02918632725187309), (3726, 0.024453654776412745), (3727, 0.029935452208999864), (3728, 0.03965530087130546), (3729, 0.03481103569296168), (3730, 0.04400753660055661), (3731, 0.028580932436268885), (3732, 0.0287403857489917), (3733, 0.03924588515484077), (3734, 0.030008113263140245), (3735, 0.03614304141823555), (3736, 0.064164138329731), (3737, 0.03643056396250665), (3738, 0.05766472531098316), (3739, 0.08064430399556914), (3740, 0.0748871860251862), (3741, 0.03572608547555766), (3742, 0.03114898171037969), (3743, 0.03074758549441574), (3744, 0.032617840853562154), (3745, 0.0431786649842147), (3746, 0.0278242482273029), (3747, 0.03839298456097691), (3748, 0.04285554125745239), (3749, 0.032895638491344664), (3750, 0.022790975090268322), (3751, 0.03366846147743528), (3752, 0.030076826557531078), (3753, 0.041266837607332664), (3754, 0.04664788319602215), (3755, 0.030508811634073655), (3756, 0.03345863806552668), (3757, 0.03601183485293704), (3758, 0.050109951117119654), (3759, 0.03959527647036433), (3760, 0.04708899697991132), (3761, 0.038580172602338036), (3762, 0.039126893125332296), (3763, 0.047781187605618385), (3764, 0.05640108950977812), (3765, 0.06535815085309298), (3766, 0.03989580538744896), (3767, 0.0752040543132747), (3768, 0.02906552754388631), (3769, 0.031441102188246146), (3770, 0.03482489913056127), (3771, 0.03590846061535559), (3772, 0.042218506095745935), (3773, 0.029334564769578818), (3774, 0.03239001014682454), (3775, 0.03269931415968451), (3776, 0.025015680188407795), (3777, 0.0357413282487118), (3778, 0.03716663557207608), (3779, 0.036274496535653004), (3780, 0.03592816275638685), (3781, 0.08943863238526306), (3782, 0.029426445540906405), (3783, 0.029685644169160842), (3784, 0.03239556982175748), (3785, 0.027409205992159357), (3786, 0.028083550437786067), (3787, 0.031621237969120336), (3788, 0.026537123980022434), (3789, 0.0410005796654366), (3790, 0.0374401777271986), (3791, 0.037522091106158055), (3792, 0.048274280445290904), (3793, 0.05348729753039466), (3794, 0.030103368713503942), (3795, 0.03611285183973956), (3796, 0.0429388235642008), (3797, 0.036281971130138806), (3798, 0.038800945661281755), (3799, 0.02871322484230219), (3800, 0.0927311439103334), (3801, 0.029319490211897472), (3802, 0.03255530470054533), (3803, 0.030628233887890342), (3804, 0.04931749898380877), (3805, 0.03126830279040204), (3806, 0.024217146434503532), (3807, 0.03296168151144743), (3808, 0.042874688159914714), (3809, 0.03845497464522449), (3810, 0.03249669589226337), (3811, 0.03822806596815087), (3812, 0.03541641178724646), (3813, 0.0369904185536017), (3814, 0.028543582580542234), (3815, 0.03143202539942287), (3816, 0.03207615945846787), (3817, 0.07804194585713958), (3818, 0.03372893105713292), (3819, 0.03029236811498617), (3820, 0.03538653864560424), (3821, 0.029668115803629734), (3822, 0.044155795116308634), (3823, 0.0291041433993926), (3824, 0.032489363299661726), (3825, 0.026755940623659158), (3826, 0.04406888779115899), (3827, 0.029711052168425567), (3828, 0.03785820665382954), (3829, 0.07944799223354618), (3830, 0.026087196778526126), (3831, 0.033881409003542605), (3832, 0.0422721956906616), (3833, 0.029756693392657785), (3834, 0.039693080935745466), (3835, 0.025065227575395463), (3836, 0.030119479197715154), (3837, 0.036009005634413754), (3838, 0.030074481386692702), (3839, 0.0952013240025816), (3840, 0.028555342684152142), (3841, 0.030052605003370078), (3842, 0.03141045373696702), (3843, 0.034422028613006035), (3844, 0.04223536803504659), (3845, 0.04722231051634417), (3846, 0.032292647349118686), (3847, 0.02913744760241039), (3848, 0.07942674488483997), (3849, 0.03137655935750097), (3850, 0.030273495399800572), (3851, 0.044238024852198604), (3852, 0.026140073220112022), (3853, 0.028118675906996293), (3854, 0.05737026539933887), (3855, 0.03708537148968658), (3856, 0.04084569101703178), (3857, 0.037775526987630974), (3858, 0.03736390671780398), (3859, 0.04797889284410463), (3860, 0.027974690921999), (3861, 0.08370431264731762), (3862, 0.04006862111089053), (3863, 0.0292155147403633), (3864, 0.035778738569899604), (3865, 0.033177715696199844), (3866, 0.05272500558580093), (3867, 0.04530552509224049), (3868, 0.048459313496299894), (3869, 0.033505101414134465), (3870, 0.03441437509987661), (3871, 0.030285566023374566), (3872, 0.028038224382719894), (3873, 0.03420262654171139), (3874, 0.036733263617556876), (3875, 0.0681473034950337), (3876, 0.029952554640480956), (3877, 0.03625867858590741), (3878, 0.04290376561720461), (3879, 0.04132660387805846), (3880, 0.028814919487341616), (3881, 0.028098452169669056), (3882, 0.044753931907247566), (3883, 0.038169089014668985), (3884, 0.03732170170767402), (3885, 0.0920206141359715), (3886, 0.034975008596211596), (3887, 0.048584321839363176), (3888, 0.03914547975165833), (3889, 0.04878203735128199), (3890, 0.046889158095715956), (3891, 0.034118874475219614), (3892, 0.04431786501192726), (3893, 0.04317006940554608), (3894, 0.027154524540930355), (3895, 0.03429253678872233), (3896, 0.03352339974501376), (3897, 0.03093116352576666), (3898, 0.05705352203210262), (3899, 0.0610628770715973), (3900, 0.0913465509745563), (3901, 0.0806442397895352), (3902, 0.0312852617796448), (3903, 0.03850824985302823), (3904, 0.04023070870942639), (3905, 0.06732866662445733), (3906, 0.0370221170810133), (3907, 0.030298076523234508), (3908, 0.029357591269316138), (3909, 0.05233748711448465), (3910, 0.04496176943775936), (3911, 0.06855577726725143), (3912, 0.03829933096170241), (3913, 0.04378813088165426), (3914, 0.036455149253353775), (3915, 0.04451811922988597), (3916, 0.03037412048358993), (3917, 0.030412041358476888), (3918, 0.06376342252031995), (3919, 0.04530270991449875), (3920, 0.03256928668508509), (3921, 0.043160967436410506), (3922, 0.042361627429369254), (3923, 0.030798186847458303), (3924, 0.036177194811568086), (3925, 0.055295295491200415), (3926, 0.03520395123936347), (3927, 0.0272078082446768), (3928, 0.024369917051482493), (3929, 0.027994678918720643), (3930, 0.04275746905115351), (3931, 0.03646349777387051), (3932, 0.04231547446875064), (3933, 0.052133308562392476), (3934, 0.03485325700241316), (3935, 0.035519196595434496), (3936, 0.04844188271255416), (3937, 0.02883684002953657), (3938, 0.031566471186964686), (3939, 0.03996330131148355), (3940, 0.02801785831463563), (3941, 0.035284686848974726), (3942, 0.03616337507015694), (3943, 0.03439094972749843), (3944, 0.02261335970044423), (3945, 0.08001837648462645), (3946, 0.024830409909069588), (3947, 0.09122993521352897), (3948, 0.0256918754667585), (3949, 0.042686694590642144), (3950, 0.0824816455418207), (3951, 0.0385392175150987), (3952, 0.08534184780737579), (3953, 0.029375711238776678), (3954, 0.03702848469295954), (3955, 0.03145530940693605), (3956, 0.03365494539347155), (3957, 0.029747117584291063), (3958, 0.025546176819565503), (3959, 0.03386717659539818), (3960, 0.03821252235820162), (3961, 0.08600641174590125), (3962, 0.043391012462633355), (3963, 0.030281815098224273), (3964, 0.051129907957771455), (3965, 0.03597597531377974), (3966, 0.026047838416218095), (3967, 0.042174513083074926), (3968, 0.029813294685564498), (3969, 0.042437986760982295), (3970, 0.055701414326062196), (3971, 0.03433400255730108), (3972, 0.06825590042172319), (3973, 0.06623392284872666), (3974, 0.031005539430986637), (3975, 0.03792567321761256), (3976, 0.03301479727841988), (3977, 0.032769613499748676), (3978, 0.031851566763776165), (3979, 0.03005472568087468), (3980, 0.031595099439192795), (3981, 0.1264926781790234), (3982, 0.029556001632987914), (3983, 0.028285624078664844), (3984, 0.04137952051622266), (3985, 0.028949391070228887), (3986, 0.029701099152043168), (3987, 0.032116120146443314), (3988, 0.03924709531714837), (3989, 0.027846979436051987), (3990, 0.04130548200202902), (3991, 0.027381917647798418), (3992, 0.07225737460992764), (3993, 0.028775168193344542), (3994, 0.028934388527405635), (3995, 0.033398622944472496), (3996, 0.03850313339488064), (3997, 0.03158918297650772), (3998, 0.03525589903670627), (3999, 0.04552947161084254), (4000, 0.03162550127727241), (4001, 0.03571633795384932), (4002, 0.03696491360630482), (4003, 0.050950027761962946), (4004, 0.0327965177948789), (4005, 0.034730209551082115), (4006, 0.030207299109958927), (4007, 0.052037227535687056), (4008, 0.035384070856005825), (4009, 0.029107302186996958), (4010, 0.06772315223285524), (4011, 0.04130606958105339), (4012, 0.04152828506871262), (4013, 0.060596019640286686), (4014, 0.030610350721938472), (4015, 0.02986265267409098), (4016, 0.03771912206260559), (4017, 0.040544003080328274), (4018, 0.03526416475129815), (4019, 0.03894063481996489), (4020, 0.03491473202389239), (4021, 0.03747763191524015), (4022, 0.03538542618452971), (4023, 0.04827110871614765), (4024, 0.037459995814715666), (4025, 0.04764540133122182), (4026, 0.1482758719037432), (4027, 0.04525717260584157), (4028, 0.035751371562933905), (4029, 0.03267284482091213), (4030, 0.03529466091691894), (4031, 0.07655754581944897), (4032, 0.04545373528989345), (4033, 0.039542325466542905), (4034, 0.032952107143037146), (4035, 0.028996067575777676), (4036, 0.03746755422703127), (4037, 0.0338014316270715), (4038, 0.03628603053614114), (4039, 0.033190443937786245), (4040, 0.04019849850731333), (4041, 0.029810772898211435), (4042, 0.05771705481732454), (4043, 0.030116922003520365), (4044, 0.026315012981971614), (4045, 0.03354241212219445), (4046, 0.03623290998371862), (4047, 0.035790701892964925), (4048, 0.03299021199704608), (4049, 0.0390150478955049), (4050, 0.04153642623514806), (4051, 0.054039832089451484), (4052, 0.03528280212975449), (4053, 0.053459562596596344), (4054, 0.07015489020530757), (4055, 0.030585570186780257), (4056, 0.0400405392092427), (4057, 0.02757286107957489), (4058, 0.04071679356302367), (4059, 0.030868106133089282), (4060, 0.039783491445525385), (4061, 0.05076951190074751), (4062, 0.04213396970854403), (4063, 0.027380357818806256), (4064, 0.05658029246122618), (4065, 0.07372440866739118), (4066, 0.03377966361517743), (4067, 0.08506336029815535), (4068, 0.03613024907408694), (4069, 0.06519499919817126), (4070, 0.030787876220741212), (4071, 0.031891034939402006), (4072, 0.02466921582584044), (4073, 0.09128232506257485), (4074, 0.03283279556202177), (4075, 0.03450780945335821), (4076, 0.033292573758803935), (4077, 0.032162417817092184), (4078, 0.03158435007230734), (4079, 0.038287666368289834), (4080, 0.0362236868006321), (4081, 0.03541411728276095), (4082, 0.0592865290404093), (4083, 0.03266776891123771), (4084, 0.04955725245757085), (4085, 0.03309264099566456), (4086, 0.03668628532066764), (4087, 0.03557874565069309), (4088, 0.031222757533253886), (4089, 0.03621427033261607), (4090, 0.03184864959550535), (4091, 0.031687697197749574), (4092, 0.0364059406474751), (4093, 0.08709919026229647), (4094, 0.04180926243879984), (4095, 0.027616610091880857), (4096, 0.030678773758636355), (4097, 0.03694379441113253), (4098, 0.03220901641736564), (4099, 0.03346786456068501), (4100, 0.0543262129033775), (4101, 0.04910413353026179), (4102, 0.043353716588313905), (4103, 0.03280175835591693), (4104, 0.08323648387345059), (4105, 0.035869937448037306), (4106, 0.028196167836913057), (4107, 0.04497734890169118), (4108, 0.03720174963138196), (4109, 0.0679978949753739), (4110, 0.030217066817688893), (4111, 0.053607335776654046), (4112, 0.035376545458252494), (4113, 0.04501837076676717), (4114, 0.029415337958656286), (4115, 0.04188660553995432), (4116, 0.03645934311771731), (4117, 0.05035765300202391), (4118, 0.037232162258998294), (4119, 0.0336231533020492), (4120, 0.031317085578628535), (4121, 0.03804889357529835), (4122, 0.039052666844377644), (4123, 0.03433864552365364), (4124, 0.030384081401573438), (4125, 0.03826177991781424), (4126, 0.0350608829267667), (4127, 0.0411149473581886), (4128, 0.030033308805486963), (4129, 0.02930135853593066), (4130, 0.03662003368923306), (4131, 0.033550825495267035), (4132, 0.040105862537484986), (4133, 0.032642476968305995), (4134, 0.03660827355590649), (4135, 0.06438214414405301), (4136, 0.04173712330089971), (4137, 0.0333263097132866), (4138, 0.04153141258368881), (4139, 0.043420184275605726), (4140, 0.04051831449750051), (4141, 0.035651237026432935), (4142, 0.04017097688784836), (4143, 0.052126903219938674), (4144, 0.030850646083690557), (4145, 0.04380532581697481), (4146, 0.05359058305647327), (4147, 0.041244994753948536), (4148, 0.06330251174125977), (4149, 0.04181855476912604), (4150, 0.033521807803479076), (4151, 0.0315172061491593), (4152, 0.034916700009739524), (4153, 0.02880499953608598), (4154, 0.0311817021928929), (4155, 0.031816686019785836), (4156, 0.041440596169666874), (4157, 0.03200521268607066), (4158, 0.030773568431930267), (4159, 0.028825377959185935), (4160, 0.033831863139732715), (4161, 0.032412977273140305), (4162, 0.030973039460280113), (4163, 0.03497151672853111), (4164, 0.031061721037663425), (4165, 0.02694662618012389), (4166, 0.04951478209225124), (4167, 0.032372410199718184), (4168, 0.03000044187581829), (4169, 0.03881427573956323), (4170, 0.03399716955980588), (4171, 0.03002631706877754), (4172, 0.03965291921452316), (4173, 0.03774963672018681), (4174, 0.03847061220228491), (4175, 0.07546606177496124), (4176, 0.0553543784608551), (4177, 0.02938570806164524), (4178, 0.03527995387632107), (4179, 0.031417336474009544), (4180, 0.03261108812282711), (4181, 0.031049746958502707), (4182, 0.034133158008848655), (4183, 0.041836628992023124), (4184, 0.07831086690036546), (4185, 0.03306027125360041), (4186, 0.03082498037332765), (4187, 0.03813240380268888), (4188, 0.029762648776446687), (4189, 0.03476586124494509), (4190, 0.0371449611623271), (4191, 0.032029998444998514), (4192, 0.046143398226441784), (4193, 0.02616351735970033), (4194, 0.06562170259721889), (4195, 0.034667672452308444), (4196, 0.03461046048159679), (4197, 0.04395808794813308), (4198, 0.05042284969919492), (4199, 0.04226028170530462), (4200, 0.03939624276987777), (4201, 0.07840782522557045), (4202, 0.04186424850869432), (4203, 0.044107530443688425), (4204, 0.04308794392742135), (4205, 0.03042747441528957), (4206, 0.04047329295738824), (4207, 0.03760282238337261), (4208, 0.03369981262025845), (4209, 0.08309126198485342), (4210, 0.03657339510972675), (4211, 0.032490806822322915), (4212, 0.06513304431232164), (4213, 0.03278386539558499), (4214, 0.0740945973377795), (4215, 0.0318224965526898), (4216, 0.030474137554372418), (4217, 0.03591070620564437), (4218, 0.03418403855656383), (4219, 0.034569407280864585), (4220, 0.02976432907776231), (4221, 0.040098832128047095), (4222, 0.05572019125629028), (4223, 0.056621341616201), (4224, 0.029593957737771952), (4225, 0.036104002644449025), (4226, 0.03755089245537378), (4227, 0.029724780449646257), (4228, 0.02988811265034439), (4229, 0.03344441072854908), (4230, 0.03850875849886662), (4231, 0.03225671155685861), (4232, 0.03105244884428739), (4233, 0.04187458152858787), (4234, 0.031902767138671066), (4235, 0.02625919029003692), (4236, 0.02612456596602689), (4237, 0.03560582616850374), (4238, 0.03132679318418558), (4239, 0.04287978397596355), (4240, 0.03258693378180453), (4241, 0.030762392877805488), (4242, 0.040558849760457), (4243, 0.042788489745954505), (4244, 0.03437664598512683), (4245, 0.0320918608980682), (4246, 0.03958114346474606), (4247, 0.031069227479359692), (4248, 0.029337016845946192), (4249, 0.031132710966308923), (4250, 0.02827709139565114), (4251, 0.029997437637240873), (4252, 0.10000926193242721), (4253, 0.028205633317461076), (4254, 0.0329806189507216), (4255, 0.032865296373738466), (4256, 0.0370031998278017), (4257, 0.06915785998230428), (4258, 0.036949019635485886), (4259, 0.04177170307789055), (4260, 0.03232454213541764), (4261, 0.025387741376898545), (4262, 0.06503907208946681), (4263, 0.05918071007466109), (4264, 0.028283461687404286), (4265, 0.030908657611367678), (4266, 0.032364034524166016), (4267, 0.04312068484185955), (4268, 0.03294326503939511), (4269, 0.03580992312622194), (4270, 0.028395157287497853), (4271, 0.040332736451830616), (4272, 0.0326405338617291), (4273, 0.03293631456457201), (4274, 0.06776415201400399), (4275, 0.06532941398460378), (4276, 0.03132284187222289), (4277, 0.06637054504242053), (4278, 0.02853934147168564), (4279, 0.027755949772596523), (4280, 0.03917108516421741), (4281, 0.03453356555537503), (4282, 0.032574808068949884), (4283, 0.03699410718603444), (4284, 0.03536879206966245), (4285, 0.03663488412162315), (4286, 0.04043891427114264), (4287, 0.04798284847219911), (4288, 0.03777900155660099), (4289, 0.03141062182965593), (4290, 0.02758256156286192), (4291, 0.04214879350161287), (4292, 0.026242639571282533), (4293, 0.04326859986303708), (4294, 0.029671259309649672), (4295, 0.09304194806776056), (4296, 0.026450529564727293), (4297, 0.031004191798614064), (4298, 0.03649825583212662), (4299, 0.03322615567594695), (4300, 0.03376912282199886), (4301, 0.022547396796441743), (4302, 0.03388067395073529), (4303, 0.03500119091531817), (4304, 0.033744126659502834), (4305, 0.03075100692941892), (4306, 0.08637698584380984), (4307, 0.035107704641312944), (4308, 0.07493655571642546), (4309, 0.03870354763800627), (4310, 0.028001450939849175), (4311, 0.03420647325082587), (4312, 0.030146995243717774), (4313, 0.04588870197132084), (4314, 0.03239089815730688), (4315, 0.04126710686244248), (4316, 0.03129322697575003), (4317, 0.03549069269213763), (4318, 0.03187702272087744), (4319, 0.056211144840518576), (4320, 0.039716182102617285), (4321, 0.08030075593093695), (4322, 0.03454833266051963), (4323, 0.061451954942613865), (4324, 0.03806765716729658), (4325, 0.03362450119405775), (4326, 0.027819239729903557), (4327, 0.045182225944097154), (4328, 0.027167210974165953), (4329, 0.06427291621602604), (4330, 0.03291295757763745), (4331, 0.03273570332367285), (4332, 0.045029548797057554), (4333, 0.05661837920304401), (4334, 0.0338463489542115), (4335, 0.06650136361695956), (4336, 0.03122478018931939), (4337, 0.03214462668542021), (4338, 0.03158931411106802), (4339, 0.02771681811372452), (4340, 0.03540503032779298), (4341, 0.04044459585620041), (4342, 0.04811146010434213), (4343, 0.028480294593508097), (4344, 0.029502788367794946), (4345, 0.03212081577247303), (4346, 0.03887613519613221), (4347, 0.06613163669990117), (4348, 0.030484316433049916), (4349, 0.032885954890208645), (4350, 0.039006548350830214), (4351, 0.04024883340439614), (4352, 0.029960819637849568), (4353, 0.030020301425454067), (4354, 0.031155830828538456), (4355, 0.0353503864549813), (4356, 0.06817751806494501), (4357, 0.043411202647231466), (4358, 0.03392157542131324), (4359, 0.06934622648793243), (4360, 0.029733016985384365), (4361, 0.03398012286609233), (4362, 0.031371450645119384), (4363, 0.032538904574195955), (4364, 0.029412581709308938), (4365, 0.02990932093060032), (4366, 0.027788336875731543), (4367, 0.12532113592717692), (4368, 0.10448905614329695), (4369, 0.047014738221747066), (4370, 0.03982426509150998), (4371, 0.04012303663675688), (4372, 0.03349736339432966), (4373, 0.02540579034984561), (4374, 0.06933731909140861), (4375, 0.06106247023768606), (4376, 0.02979280348439075), (4377, 0.03135633740406644), (4378, 0.030419334738695444), (4379, 0.03412269640702924), (4380, 0.029560072852957354), (4381, 0.04086664604205851), (4382, 0.03814569565501868), (4383, 0.062289163172174034), (4384, 0.0536660254722796), (4385, 0.02564469217588511), (4386, 0.02620915767590819), (4387, 0.0563963158560852), (4388, 0.037912886676584615), (4389, 0.032142458293790276), (4390, 0.027845601892897948), (4391, 0.06286027482827404), (4392, 0.030680176884598308), (4393, 0.030536619596493106), (4394, 0.0383750700164817), (4395, 0.03818838890818671), (4396, 0.06337542091093039), (4397, 0.033283552205023374), (4398, 0.037800814356690596), (4399, 0.03227455291679354), (4400, 0.0382896554334104), (4401, 0.03583636243137123), (4402, 0.09993498138258215), (4403, 0.04338640775665673), (4404, 0.07141728887083662), (4405, 0.026366414737716296), (4406, 0.03060610894423539), (4407, 0.04819738959479771), (4408, 0.08549204351334544), (4409, 0.030892923991853914), (4410, 0.03083897635582545), (4411, 0.03459492989001158), (4412, 0.03515261901344875), (4413, 0.033982258353736666), (4414, 0.022947692557491024), (4415, 0.023463074783608925), (4416, 0.03536506486843497), (4417, 0.03159034300628787), (4418, 0.05879254014747695), (4419, 0.03135078970468161), (4420, 0.038315242112940136), (4421, 0.03483708857807081), (4422, 0.0432844062840282), (4423, 0.038854429219441315), (4424, 0.0314582078941868), (4425, 0.07075345071316434), (4426, 0.02845259918203541), (4427, 0.03285274234169244), (4428, 0.03170371207213306), (4429, 0.026295057775457233), (4430, 0.031386613124875125), (4431, 0.03517993926473699), (4432, 0.05021466448533919), (4433, 0.03561377819706822), (4434, 0.0374682482539282), (4435, 0.0323926802140867), (4436, 0.05635698408969173), (4437, 0.09371750316809771), (4438, 0.03403653788185631), (4439, 0.024793008180928236), (4440, 0.04321231290485741), (4441, 0.0270702658348), (4442, 0.0446441643250126), (4443, 0.04086729204466657), (4444, 0.04382402810150193), (4445, 0.026296624766714027), (4446, 0.04322416553042128), (4447, 0.0322234668606126), (4448, 0.037456671145879764), (4449, 0.033716467659391715), (4450, 0.026370687549476073), (4451, 0.04108549945213623), (4452, 0.038916808711465786), (4453, 0.036716852948872336), (4454, 0.03875627441387805), (4455, 0.03245900306797852), (4456, 0.02907481239443439), (4457, 0.07152367990141106), (4458, 0.04476593448972015), (4459, 0.03162820073491547), (4460, 0.04493630661149858), (4461, 0.029176655340795672), (4462, 0.031610139036775696), (4463, 0.04527457947384121), (4464, 0.07502527928885123), (4465, 0.03739079307718925), (4466, 0.03031145835707895), (4467, 0.030062258721189988), (4468, 0.026838974398521818), (4469, 0.03756083592744642), (4470, 0.03351073914224821), (4471, 0.06342264751362978), (4472, 0.032771744417348585), (4473, 0.03140262232258752), (4474, 0.03643229624323362), (4475, 0.027105937824587326), (4476, 0.029640887425951196), (4477, 0.0380127116647925), (4478, 0.03065207699715467), (4479, 0.0417667406819342), (4480, 0.051071133267104725), (4481, 0.03127731092931694), (4482, 0.0532965961939764), (4483, 0.050625545967466844), (4484, 0.07318166095198826), (4485, 0.02745945909022994), (4486, 0.03499964445601038), (4487, 0.03241281103251009), (4488, 0.030315457627314163), (4489, 0.04045968791970064), (4490, 0.039627531875414845), (4491, 0.029287462963217912), (4492, 0.0395431637384037), (4493, 0.03160910838938295), (4494, 0.07735275939288935), (4495, 0.03547818554114595), (4496, 0.06400749505199092), (4497, 0.03432338521880334), (4498, 0.04044269262056439), (4499, 0.03666472522814927), (4500, 0.03555376385625377), (4501, 0.03171971279879946), (4502, 0.03189216217434467), (4503, 0.0347287117619301), (4504, 0.060974855772194074), (4505, 0.034804657634783354), (4506, 0.040166302753149634), (4507, 0.038688674956789036), (4508, 0.03128949131253971), (4509, 0.027710980442089892), (4510, 0.03143179328071083), (4511, 0.03051296101429976), (4512, 0.030009639337025842), (4513, 0.026308693227679206), (4514, 0.046726316766036426), (4515, 0.06271066529726382), (4516, 0.05891261750300801), (4517, 0.03211105060452708), (4518, 0.035333932803120895), (4519, 0.02727387882149589), (4520, 0.029812587726772664), (4521, 0.03708820305675373), (4522, 0.03755094118354929), (4523, 0.032259964530426566), (4524, 0.0352230633172882), (4525, 0.026793618117349455), (4526, 0.03073820615597258), (4527, 0.031109247529721832), (4528, 0.03278345665754823), (4529, 0.04015979728891214), (4530, 0.03353223497073984), (4531, 0.035905177492361384), (4532, 0.02536553973599313), (4533, 0.031247366302300666), (4534, 0.030391167562721044), (4535, 0.03618727697436887), (4536, 0.038401581588623154), (4537, 0.040502357273360934), (4538, 0.03377526128244434), (4539, 0.03185063633869416), (4540, 0.032486947208808764), (4541, 0.08160092012353894), (4542, 0.03401894789935622), (4543, 0.027182543213120025), (4544, 0.037485893556189774), (4545, 0.035445364580738), (4546, 0.03854627612634459), (4547, 0.03092562556212723), (4548, 0.030137596652710957), (4549, 0.032436701777597964), (4550, 0.03354540443043886), (4551, 0.0812511214277076), (4552, 0.07053931668773245), (4553, 0.028490122619816562), (4554, 0.04172497586783756), (4555, 0.09554579944061936), (4556, 0.04085365697260065), (4557, 0.037732219025422245), (4558, 0.03083913475406941), (4559, 0.0280987386771443), (4560, 0.09283371357133136), (4561, 0.06409218634538599), (4562, 0.06507034892164422), (4563, 0.032590210150082524), (4564, 0.033214446494627924), (4565, 0.04249544318479855), (4566, 0.04124588345494291), (4567, 0.034926954677887256), (4568, 0.028808194461047168), (4569, 0.027929305420849152), (4570, 0.037239827798426134), (4571, 0.05386912628460004), (4572, 0.03689913382449797), (4573, 0.029387651889362088), (4574, 0.036686945148570474), (4575, 0.0413675780624744), (4576, 0.03641854841245848), (4577, 0.030242067143890376), (4578, 0.13379775482009), (4579, 0.03253524864284328), (4580, 0.04724403389345143), (4581, 0.028389533223065453), (4582, 0.02805489575169462), (4583, 0.029487456272943836), (4584, 0.040067107952875006), (4585, 0.02727162182000545), (4586, 0.028162612022501553), (4587, 0.029909432432809222), (4588, 0.02740453925745219), (4589, 0.0414397481081685), (4590, 0.03272263535286616), (4591, 0.03068533377632609), (4592, 0.03410822251456148), (4593, 0.03595285562539562), (4594, 0.046893344747780195), (4595, 0.03170014595136152), (4596, 0.033152023670568666), (4597, 0.031260493035954254), (4598, 0.054468452894634964), (4599, 0.1112682334049239), (4600, 0.03338583405733905), (4601, 0.0364229852761307), (4602, 0.03471068087135158), (4603, 0.03198405155321964), (4604, 0.03284101547727627), (4605, 0.04549528048044973), (4606, 0.04018407655302416), (4607, 0.05212186863654864), (4608, 0.02692917943150127), (4609, 0.033987866075421966), (4610, 0.0329455694907642), (4611, 0.0399898765558344), (4612, 0.04196680002667368), (4613, 0.03363848330021508), (4614, 0.03163301109009797), (4615, 0.028843903942537514), (4616, 0.02800120770082334), (4617, 0.04095765260410758), (4618, 0.037436025598500525), (4619, 0.03659727101932853), (4620, 0.029984469931526845), (4621, 0.05478868252743854), (4622, 0.03327709157092489), (4623, 0.029366883059101276), (4624, 0.03733616944527317), (4625, 0.0390987961182025), (4626, 0.026558436154469425), (4627, 0.04092730997847623), (4628, 0.054310325464924245), (4629, 0.06661881707315044), (4630, 0.03256715860852834), (4631, 0.03791884476273234), (4632, 0.04426369496939524), (4633, 0.04228003314493902), (4634, 0.032483615876085246), (4635, 0.046159234426815736), (4636, 0.03204615881128978), (4637, 0.03575693605477965), (4638, 0.029277193265666236), (4639, 0.03167236602137692), (4640, 0.03307097403382457), (4641, 0.06258422721649758), (4642, 0.031612825078668416), (4643, 0.037881941083327195), (4644, 0.06909129557288575), (4645, 0.03202087753368598), (4646, 0.03584086167780725), (4647, 0.03057338619837855), (4648, 0.07833368221472867), (4649, 0.03314397964194176), (4650, 0.04533336135714817), (4651, 0.021005584035655098), (4652, 0.05978119668777672), (4653, 0.035681821765796824), (4654, 0.04031766902482378), (4655, 0.03480708793940303), (4656, 0.03363319735471983), (4657, 0.04023830224616997), (4658, 0.0363074154766138), (4659, 0.03342970167229803), (4660, 0.04048632300328465), (4661, 0.02891301187250717), (4662, 0.03166783404931196), (4663, 0.03071481728107392), (4664, 0.02830862202479245), (4665, 0.030033092003595822), (4666, 0.03639430128745821), (4667, 0.02991287154739009), (4668, 0.029750182373296505), (4669, 0.07228640824430568), (4670, 0.030967262952490904), (4671, 0.04100377360546961), (4672, 0.02774985047031904), (4673, 0.033001849849069634), (4674, 0.02705333883342006), (4675, 0.03690631475723537), (4676, 0.029352376864733812), (4677, 0.034386345229082224), (4678, 0.03118587946923652), (4679, 0.028026095721074968), (4680, 0.06921057662555608), (4681, 0.05690815595975895), (4682, 0.03123331443407944), (4683, 0.06438483917487223), (4684, 0.0319389018987956), (4685, 0.0327033554169615), (4686, 0.033450652387538075), (4687, 0.03309452926045745), (4688, 0.04462910396621673), (4689, 0.028037729230373745), (4690, 0.11813953233426039), (4691, 0.03635619616010242), (4692, 0.039560469018710576), (4693, 0.029445712530510072), (4694, 0.03534070951841721), (4695, 0.027331228208475385), (4696, 0.03911882658613339), (4697, 0.03244408985702073), (4698, 0.032585001150027784), (4699, 0.038272136715121925), (4700, 0.041603737769102055), (4701, 0.041288581652654074), (4702, 0.06830548025382384), (4703, 0.0336993091981773), (4704, 0.040945856400102836), (4705, 0.04275996803191639), (4706, 0.038256881032287714), (4707, 0.03483386392018615), (4708, 0.0294348860210306), (4709, 0.036440109379711434), (4710, 0.03799966569153368), (4711, 0.03688059185031208), (4712, 0.09728941474618151), (4713, 0.04343131592866662), (4714, 0.03084983357363272), (4715, 0.03299092710389791), (4716, 0.028001191636583232), (4717, 0.040502235587178734), (4718, 0.042171325847043625), (4719, 0.21453544758755527), (4720, 0.037900599711616134), (4721, 0.045124484994900335), (4722, 0.03250777368574764), (4723, 0.036727302345830964), (4724, 0.03710033180185587), (4725, 0.07028791887869221), (4726, 0.023914163962342357), (4727, 0.028610525478362517), (4728, 0.03225728958061094), (4729, 0.029112268280929124), (4730, 0.03217576881014501), (4731, 0.03749465214694679), (4732, 0.0389606370276506), (4733, 0.030174361866992544), (4734, 0.037230419276545364), (4735, 0.03839440257166282), (4736, 0.03167118220855444), (4737, 0.03879633885447292), (4738, 0.03962071618915194), (4739, 0.14913796422395098), (4740, 0.034910941397993105), (4741, 0.041411858631945866), (4742, 0.02920046517222427), (4743, 0.0892957902596373), (4744, 0.04577453808856787), (4745, 0.023654175111833042), (4746, 0.03549848020064171), (4747, 0.033837320878626044), (4748, 0.028836858434127876), (4749, 0.04024561681569909), (4750, 0.031226773948699618), (4751, 0.02603871980948577), (4752, 0.0236583950416765), (4753, 0.03441386139664897), (4754, 0.03295815631714385), (4755, 0.0735981557821411), (4756, 0.04129450327534812), (4757, 0.12077480282062437), (4758, 0.1479740750429509), (4759, 0.03240059633962447)]\n"
          ]
        }
      ]
    },
    {
      "cell_type": "code",
      "source": [
        "len(Reccomendation_Score)"
      ],
      "metadata": {
        "colab": {
          "base_uri": "https://localhost:8080/"
        },
        "id": "m3rt4A3WT-6m",
        "outputId": "71753f86-ba3c-4a73-c0c9-1278a91cf0da"
      },
      "execution_count": 37,
      "outputs": [
        {
          "output_type": "execute_result",
          "data": {
            "text/plain": [
              "4760"
            ]
          },
          "metadata": {},
          "execution_count": 37
        }
      ]
    },
    {
      "cell_type": "markdown",
      "source": [
        "# **Getting All Movies Based on Recommendation Score wrt Favorite Movie**"
      ],
      "metadata": {
        "id": "Drqa6R6OUJ4K"
      }
    },
    {
      "cell_type": "code",
      "source": [
        "Sorted_Similar_Movies = sorted(Reccomendation_Score, key = lambda x:x[1], reverse = True)\n",
        "print(Sorted_Similar_Movies)"
      ],
      "metadata": {
        "colab": {
          "base_uri": "https://localhost:8080/"
        },
        "id": "0dh4-NGiUY1N",
        "outputId": "5270bb05-020f-4cad-b75e-4bb10c18a8d8"
      },
      "execution_count": 38,
      "outputs": [
        {
          "output_type": "stream",
          "name": "stdout",
          "text": [
            "[(2945, 1.0), (3325, 0.23029744845718012), (4719, 0.21453544758755527), (1371, 0.19924745035069763), (3672, 0.1963163638118725), (2211, 0.19054331326075352), (3601, 0.18963428612749855), (3622, 0.1789694666253538), (2983, 0.17850583744188933), (2702, 0.17807229866139057), (851, 0.17351570168361496), (1503, 0.16864329358839616), (1815, 0.16634973177328963), (2490, 0.15971535070515686), (1096, 0.1595307138647967), (2669, 0.1591731331741577), (1338, 0.1572626088327908), (3357, 0.15434557432611318), (1939, 0.1533674002194791), (1757, 0.1514325438081276), (4739, 0.14913796422395098), (2978, 0.1487599068916582), (4026, 0.1482758719037432), (4758, 0.1479740750429509), (2768, 0.14762341638480306), (1227, 0.13847727477117355), (3147, 0.13659612817313752), (3003, 0.13634774218070575), (3477, 0.13572336630533732), (3323, 0.1356218888458655), (4578, 0.13379775482009), (1741, 0.13324447984597562), (1391, 0.13020473778870467), (3420, 0.1264926781790234), (3981, 0.1264926781790234), (3563, 0.12533263152297638), (4367, 0.12532113592717692), (1318, 0.1250684691934307), (3249, 0.1240426423070544), (2006, 0.12362080692558704), (3544, 0.12256076697560367), (2225, 0.12226274137939754), (2431, 0.12182203361408678), (1636, 0.12099197322385238), (4757, 0.12077480282062437), (1986, 0.1204729541991594), (3552, 0.11924710157331761), (1893, 0.11874181874791404), (2334, 0.11865438364404166), (4690, 0.11813953233426039), (2958, 0.11676562470049945), (512, 0.11648924493724663), (121, 0.1163084251448895), (49, 0.11605112571813625), (3182, 0.11420892511712766), (2904, 0.11411958008273271), (2658, 0.11278193810717155), (4599, 0.1112682334049239), (2486, 0.11124548079882825), (2230, 0.11123257176780386), (3626, 0.11037170113689951), (668, 0.11008952701368488), (3506, 0.10986446597881765), (1818, 0.10975498086746847), (1779, 0.10928022597678787), (508, 0.10788269363668723), (2299, 0.10780042728888134), (3537, 0.1073293726654631), (2999, 0.10669401402238733), (3282, 0.10642154033102871), (2857, 0.10597925957408802), (2616, 0.1055159398529861), (1519, 0.10524076344452238), (2794, 0.10497308409258699), (4368, 0.10448905614329695), (146, 0.1044230900281544), (1169, 0.10417823003324525), (2320, 0.10374041887724475), (3146, 0.10362810292283645), (1032, 0.10261174804369605), (455, 0.10089852570149728), (3220, 0.10088226467552946), (2390, 0.10009490832012738), (1694, 0.10006668458141216), (4252, 0.10000926193242721), (4402, 0.09993498138258215), (1355, 0.09924249875858737), (2434, 0.0991992011228215), (983, 0.09890763765779663), (3479, 0.0986664494034327), (2469, 0.09810424634289389), (2769, 0.09787890395721495), (4712, 0.09728941474618151), (2396, 0.09726859762285309), (2519, 0.09683458306772136), (3408, 0.09674162556356201), (2349, 0.09660486640995197), (2317, 0.09626356641504097), (2417, 0.09625029859733078), (3678, 0.09587306980878285), (3177, 0.09568600788417506), (2900, 0.09556113287819823), (4555, 0.09554579944061936), (2817, 0.09545335661366608), (3234, 0.09524884652164806), (3839, 0.0952013240025816), (3422, 0.09485686485245723), (2775, 0.09445706743117399), (2696, 0.0944156749806459), (2316, 0.09437234294338884), (1084, 0.09434862520943446), (3088, 0.09412679982216773), (4437, 0.09371750316809771), (847, 0.09358504691732421), (835, 0.09313533368029789), (4295, 0.09304194806776056), (2368, 0.09291854381139752), (4560, 0.09283371357133136), (3561, 0.09283204595683882), (3800, 0.0927311439103334), (2636, 0.09255147687275543), (3047, 0.09227611356858934), (3885, 0.0920206141359715), (606, 0.09196524095634209), (3175, 0.09176599661039916), (3217, 0.09162540290609406), (679, 0.09152000448698437), (3900, 0.0913465509745563), (4073, 0.09128232506257485), (3947, 0.09122993521352897), (2659, 0.09122446866908154), (1742, 0.0910802750444003), (3478, 0.09088465558874757), (2537, 0.09051505049317048), (1890, 0.09049467633026725), (1145, 0.09028227916229906), (2882, 0.09020819543262039), (2163, 0.09013256215482393), (3042, 0.09009478944567406), (1786, 0.08986988590896024), (3425, 0.08954915878703804), (3257, 0.08951132798602121), (3781, 0.08943863238526306), (4743, 0.0892957902596373), (3239, 0.0890406474353566), (2893, 0.08901176907302072), (2388, 0.0889835724861559), (711, 0.0887951562039005), (2465, 0.0883850503313931), (2459, 0.08837772565391301), (3015, 0.08822464478488598), (3291, 0.08777870900719092), (3266, 0.08754682118207922), (3054, 0.08743239498144179), (3388, 0.0873702268354772), (939, 0.08734009412673306), (90, 0.0872921972484123), (3101, 0.08726499427147365), (3228, 0.08716218658271616), (4093, 0.08709919026229647), (3013, 0.08705082879853387), (3206, 0.08694094026888552), (1187, 0.08691477850849), (3283, 0.08681553825480699), (760, 0.08674319977167505), (4306, 0.08637698584380984), (3961, 0.08600641174590125), (4408, 0.08549204351334544), (2585, 0.08543817677837086), (3952, 0.08534184780737579), (2966, 0.08529299863010209), (4067, 0.08506336029815535), (3512, 0.0845769686064732), (2340, 0.0843253540749937), (2951, 0.08417764964241795), (708, 0.08406430640008736), (442, 0.08385611968159178), (3861, 0.08370431264731762), (2397, 0.0835636481626299), (3415, 0.08346138828276915), (4104, 0.08323648387345059), (2535, 0.08320320456979788), (4209, 0.08309126198485342), (2096, 0.08288045784009299), (2606, 0.08285404351057384), (1518, 0.08258838205605204), (1935, 0.0825343065725647), (3950, 0.0824816455418207), (2845, 0.08235967131559599), (579, 0.08229773661283647), (3414, 0.08229192010807199), (2385, 0.08215465701446521), (2147, 0.0820276886482778), (2503, 0.08199538080522528), (2941, 0.08186744403285158), (3184, 0.08186412677359825), (2628, 0.08181649843784303), (3639, 0.08174525775581173), (3359, 0.08172425150175423), (3157, 0.08164854820999365), (4541, 0.08160092012353894), (1955, 0.08140096792733291), (182, 0.08138442528740777), (119, 0.08132397630589688), (4551, 0.0812511214277076), (1442, 0.08113983712194778), (3258, 0.08105448947238907), (3510, 0.08103097509683829), (2407, 0.08103092896738617), (3115, 0.08100577247860202), (2108, 0.08099539446530586), (2186, 0.08085369833240268), (473, 0.0807117563577357), (1591, 0.08066293458017125), (3739, 0.08064430399556914), (3901, 0.0806442397895352), (3020, 0.08052428608038964), (3108, 0.08051325865820577), (2629, 0.08050019509776188), (2763, 0.08041394817461933), (4321, 0.08030075593093695), (665, 0.08028890490973865), (1486, 0.08027710493518728), (2244, 0.08020557957491772), (489, 0.0802024148828521), (3289, 0.08015474498518263), (3945, 0.08001837648462645), (2286, 0.08001536072780026), (2816, 0.08000586872370122), (2805, 0.07989135738886549), (777, 0.0798555720179762), (2855, 0.07979986928097309), (2720, 0.07972668247943199), (1243, 0.07960951352446455), (2821, 0.0795250291326535), (3829, 0.07944799223354618), (3848, 0.07942674488483997), (1507, 0.07930630810881006), (2512, 0.07929428664234707), (2939, 0.07925125229893777), (531, 0.07916037645167279), (3371, 0.07915269530791155), (246, 0.07902366033928929), (3110, 0.07895664191123057), (1112, 0.07892667480566215), (3354, 0.07890936063161101), (1419, 0.07883250831081032), (373, 0.0788040455107124), (2195, 0.07868027305114403), (1441, 0.07864639156673447), (2128, 0.07860164235764533), (2375, 0.07846552411587038), (957, 0.07846147103609719), (4201, 0.07840782522557045), (4648, 0.07833368221472867), (2996, 0.07831298791274396), (4184, 0.07831086690036546), (278, 0.07821025478291867), (3687, 0.07818121713509106), (3701, 0.07807750637989425), (2799, 0.07805083417022496), (3817, 0.07804194585713958), (2645, 0.0780389392483497), (3370, 0.07803884055311627), (3539, 0.07798520503646747), (2254, 0.07793637996772959), (3581, 0.07777497739485756), (1479, 0.07776519941298397), (2387, 0.07770496240758258), (2890, 0.07767386982523021), (896, 0.07765305423601473), (1947, 0.07754021297721725), (1765, 0.07749735452669251), (1337, 0.07748081893323594), (1618, 0.0773655821305093), (883, 0.07735557950933844), (4494, 0.07735275939288935), (1473, 0.07730793926969522), (1450, 0.07729765399088849), (2144, 0.07710982579367821), (3490, 0.07710571848420439), (1344, 0.07708745779051106), (1100, 0.07704909941845793), (3410, 0.07700103972193215), (3264, 0.07698042416679796), (1770, 0.07697104052965892), (3521, 0.07688889460958084), (2577, 0.07688581146282038), (462, 0.07687296720553677), (3269, 0.07681535011930332), (2727, 0.07676557128945236), (2207, 0.0766973387291519), (1963, 0.0766925456685067), (4031, 0.07655754581944897), (642, 0.07652249034075541), (2478, 0.07651251389344291), (3646, 0.07651228889854148), (1409, 0.07647529292348829), (238, 0.07645157803651723), (1322, 0.07644233728267671), (3242, 0.07641378210556138), (3123, 0.07638512481070373), (113, 0.07615959768399058), (3031, 0.07606200201204241), (141, 0.07603481285078081), (249, 0.07597492583071538), (475, 0.07591915863694765), (2734, 0.07585031703392109), (2588, 0.07582380470477913), (1629, 0.07578674010605638), (1887, 0.07566176388311224), (4175, 0.07546606177496124), (1454, 0.07532331343188461), (3339, 0.07530612687638528), (969, 0.07529195341883682), (2833, 0.07525128567781621), (3767, 0.0752040543132747), (2973, 0.07519674388675328), (2925, 0.07515906474010625), (3324, 0.07514348910033875), (2227, 0.0751408303922475), (2249, 0.07506697484268349), (4464, 0.07502527928885123), (1335, 0.07499711580971491), (4308, 0.07493655571642546), (2311, 0.07492786943485122), (3740, 0.0748871860251862), (3067, 0.0748728015908045), (788, 0.07469658394187259), (2552, 0.0745334256828512), (1902, 0.07449297176879141), (754, 0.07448749287121426), (793, 0.07447613801024569), (3492, 0.07430659050898503), (3148, 0.07414868026210916), (709, 0.07413568355863209), (4214, 0.0740945973377795), (3348, 0.07409249103777357), (2613, 0.07399400613536983), (3329, 0.07398258496107671), (1984, 0.07394899354791099), (1398, 0.07394741521834919), (2869, 0.07384667817552845), (2813, 0.07379287525605943), (1339, 0.0737917422506155), (2258, 0.07376415974395718), (3238, 0.07373163822275104), (4065, 0.07372440866739118), (1797, 0.07372016780969606), (1588, 0.07365171304508616), (2190, 0.07360024297304003), (4755, 0.0735981557821411), (1325, 0.07351022690264404), (3251, 0.07348964655738968), (3149, 0.07333986204441725), (1456, 0.07319297349878245), (4484, 0.07318166095198826), (3164, 0.07314261639614265), (2305, 0.07313894626329441), (2594, 0.07313554719982485), (1928, 0.0731192225876984), (1858, 0.07303071867734898), (740, 0.07302527000401698), (944, 0.07293768727886232), (1438, 0.0729087965941341), (499, 0.07289950526327615), (350, 0.07285966489841121), (1919, 0.07283695745626438), (1656, 0.07281739307494717), (3540, 0.07277769924614966), (2848, 0.07269718865538316), (2441, 0.07253660048675344), (2977, 0.07243136621761005), (1555, 0.07241744714758196), (2964, 0.07237209565539007), (4669, 0.07228640824430568), (2209, 0.0722761840105495), (3992, 0.07225737460992764), (3419, 0.07217711536008634), (1822, 0.07210504721777491), (2402, 0.07207238564355614), (3012, 0.07187850994447197), (2029, 0.071821826276451), (987, 0.07179932503624435), (2912, 0.07176216822535623), (3553, 0.07175116747654169), (2970, 0.07167774521886872), (1447, 0.07165191527502782), (961, 0.07158023936632937), (2272, 0.07156147347154093), (758, 0.07155507240579279), (4457, 0.07152367990141106), (677, 0.0714567114005527), (4404, 0.07141728887083662), (3647, 0.0714156089416407), (1061, 0.07133203239490403), (850, 0.07132982166566787), (2787, 0.07131442429157779), (1821, 0.07129826678460471), (1663, 0.07127634021482587), (587, 0.07125967943194329), (2507, 0.07125295222815707), (2509, 0.0711149500327673), (3375, 0.07107470620648988), (2292, 0.07104946753034068), (1866, 0.07104396356197973), (1497, 0.07100670538505442), (1929, 0.07093203486056773), (1360, 0.07088899584642439), (3345, 0.07082273460769778), (4425, 0.07075345071316434), (1029, 0.07072992159633032), (2149, 0.07071076755973252), (660, 0.07060629209109417), (4552, 0.07053931668773245), (2860, 0.0705329389882719), (3526, 0.07048793538879576), (1836, 0.07046180871370375), (1499, 0.07045850553162376), (1531, 0.07045810008878582), (2448, 0.070439625377801), (2446, 0.07043874803711873), (1036, 0.07037460794471945), (959, 0.07031850445084858), (1617, 0.07030197990110132), (4725, 0.07028791887869221), (1053, 0.0702390671914152), (4054, 0.07015489020530757), (1167, 0.07008343683494005), (2926, 0.07005867796405692), (792, 0.0700455764875355), (3052, 0.07003096744389364), (2954, 0.07001950650986591), (797, 0.06999899708388702), (1463, 0.06995306944692119), (1668, 0.06993185926470027), (918, 0.06987697690282946), (1543, 0.06985312188082819), (2726, 0.06978305501826873), (699, 0.06978186543400189), (3073, 0.06977450383246325), (2687, 0.06972847438788873), (2698, 0.06972021521220652), (2812, 0.0695853697754131), (2694, 0.0694622155194795), (3213, 0.06940882006591564), (2171, 0.06940141011880373), (1224, 0.06937850267749068), (4359, 0.06934622648793243), (4374, 0.06933731909140861), (2354, 0.06933216052427307), (675, 0.06933060449616317), (1509, 0.06932921349842427), (4680, 0.06921057662555608), (3547, 0.06916556506362449), (4257, 0.06915785998230428), (2631, 0.06909562707017133), (2781, 0.06909332897320467), (4644, 0.06909129557288575), (3224, 0.069085463038848), (1847, 0.06905886907987738), (663, 0.06902386651728776), (759, 0.06902017718549004), (2076, 0.06874014638520314), (2401, 0.0687131992636323), (3205, 0.06870155985996518), (180, 0.06855670617279314), (3911, 0.06855577726725143), (1219, 0.06853481938583897), (3689, 0.06851076491198244), (2607, 0.06837745950378255), (1020, 0.06834100242471994), (4702, 0.06830548025382384), (3972, 0.06825590042172319), (4356, 0.06817751806494501), (3122, 0.06816090388965243), (2521, 0.068160075430035), (3875, 0.0681473034950337), (1233, 0.06810420781104375), (21, 0.06807753547039223), (2527, 0.06804851064839836), (3714, 0.06802671230821976), (4109, 0.0679978949753739), (111, 0.06797636932798047), (3458, 0.06790392248588584), (2142, 0.06784218785857674), (2037, 0.06784037508242306), (4274, 0.06776415201400399), (3503, 0.06773635613995461), (4010, 0.06772315223285524), (2287, 0.06748426885634874), (2792, 0.06746277734766128), (2181, 0.06745952910142432), (842, 0.06736935404441523), (1807, 0.06736849383633822), (2533, 0.06733349131538051), (3905, 0.06732866662445733), (2348, 0.06732407791560607), (1027, 0.06730620669653777), (2175, 0.06728645955406026), (1483, 0.06716794714907026), (1956, 0.0670790224010534), (826, 0.06704756846292473), (2016, 0.06703389187436115), (356, 0.06702922994778023), (2678, 0.06672337346633349), (1934, 0.06668894367136562), (3596, 0.06668771007285965), (1954, 0.06667955298163952), (4629, 0.06661881707315044), (667, 0.06653333499634322), (4335, 0.06650136361695956), (3057, 0.06644535081187028), (2749, 0.0664065455051832), (1273, 0.0663837092742871), (4277, 0.06637054504242053), (2255, 0.0663232159112135), (1113, 0.06623700838213877), (3973, 0.06623392284872666), (2274, 0.066218341632818), (2739, 0.06621188323308119), (2097, 0.06616766921297221), (2216, 0.06614202114808157), (1573, 0.06613406959483828), (4347, 0.06613163669990117), (3660, 0.06612830989007604), (166, 0.06609392863351773), (1106, 0.06602599936055101), (3372, 0.06595743306707448), (2374, 0.06592696189884015), (466, 0.06592629595932853), (1644, 0.06589368628550049), (158, 0.06587308786123734), (2514, 0.0658587057972296), (609, 0.06581802666850689), (2711, 0.06572534980486198), (2204, 0.06567074651095808), (4194, 0.06562170259721889), (3376, 0.06561231275006832), (1914, 0.06558455320907261), (201, 0.06558306533627523), (2262, 0.06553193333702026), (3381, 0.06547716678054252), (3765, 0.06535815085309298), (4275, 0.06532941398460378), (212, 0.06532186446148519), (596, 0.06528824094599114), (83, 0.06528281756205404), (1319, 0.0652728845192424), (434, 0.06526402663461363), (2141, 0.06524110643912866), (4069, 0.06519499919817126), (2219, 0.06519121406036783), (2301, 0.0651660743864386), (3178, 0.06514252261593399), (4212, 0.06513304431232164), (4562, 0.06507034892164422), (4262, 0.06503907208946681), (551, 0.06503216771589013), (2541, 0.06496612459918816), (1174, 0.06493960151695757), (3226, 0.06489829056307914), (912, 0.06477654457413741), (1920, 0.06473831315365039), (2466, 0.06472466670410176), (1760, 0.06469979666900025), (3577, 0.06468884727486447), (1613, 0.06467595463585706), (2835, 0.06466363006872244), (2123, 0.06443657019976975), (1392, 0.06438798171771523), (4683, 0.06438483917487223), (4135, 0.06438214414405301), (4329, 0.06427291621602604), (1536, 0.0642522707827589), (3736, 0.064164138329731), (4561, 0.06409218634538599), (4496, 0.06400749505199092), (2685, 0.0640061964239464), (235, 0.06395988708734526), (2539, 0.06395461073102485), (520, 0.06389750339285445), (1805, 0.06385244005584925), (3501, 0.0638028433053667), (1918, 0.06376925993334828), (3918, 0.06376342252031995), (1267, 0.06370510689861564), (877, 0.06356710058206545), (2433, 0.06355688152154126), (894, 0.06353347329613748), (2876, 0.06349777343480484), (2737, 0.06349601780488068), (1107, 0.0634515391778941), (4471, 0.06342264751362978), (4396, 0.06337542091093039), (112, 0.06335451824652247), (4148, 0.06330251174125977), (2828, 0.06328376100765729), (1999, 0.06313565701436077), (3142, 0.06310721551607851), (3223, 0.06309862845983415), (3344, 0.06307932599701419), (60, 0.06305272144284486), (653, 0.06304641093216723), (1670, 0.06304392268832323), (412, 0.06304340396403577), (3343, 0.063036303329713), (1429, 0.06302007836869994), (1640, 0.06301030173627838), (2721, 0.06294526774321292), (761, 0.06289375527076733), (4391, 0.06286027482827404), (3029, 0.06281482666520824), (617, 0.0628085074977027), (2129, 0.06272874490590534), (907, 0.06272273048274729), (4515, 0.06271066529726382), (274, 0.06267940825795826), (1966, 0.06260811648802511), (4641, 0.06258422721649758), (3538, 0.06256599891260664), (1295, 0.062465672415467854), (1793, 0.062352958212234556), (2460, 0.06231922200979602), (1448, 0.06231626873243616), (975, 0.06229051532892875), (4383, 0.062289163172174034), (3176, 0.062160472250636326), (2173, 0.062154176292712984), (3137, 0.06197328575427286), (2906, 0.06194834875326204), (2838, 0.061885445309997456), (2554, 0.06188289785896031), (3663, 0.061851687357785234), (1292, 0.061814637388634866), (2853, 0.06178258859767663), (1469, 0.061685475162635464), (840, 0.06160724247568759), (2701, 0.061562447183152076), (1004, 0.061517606801138505), (3021, 0.06147134604812994), (4323, 0.061451954942613865), (1142, 0.06141528663295051), (1710, 0.06139374897931352), (2534, 0.06132401370393915), (2114, 0.06119414357159193), (1230, 0.06118247889271516), (84, 0.06116839886018165), (3899, 0.0610628770715973), (4375, 0.06106247023768606), (1648, 0.06101956680752031), (444, 0.06101291907919821), (1466, 0.06099982200558032), (4504, 0.060974855772194074), (2482, 0.06081587613873671), (2653, 0.060800602282881276), (974, 0.060717811852912876), (1011, 0.06069127708398158), (4013, 0.060596019640286686), (861, 0.060594757498945294), (187, 0.060570108127310465), (2834, 0.060553749141832015), (2580, 0.06053767241268914), (2523, 0.06046603079641398), (3218, 0.060465968459014724), (2953, 0.060437350698187946), (1303, 0.06038915973525959), (1200, 0.06038137576515668), (3000, 0.06037402623093959), (3048, 0.06037338928015341), (2303, 0.060274266768551174), (1155, 0.06026262616541491), (577, 0.06025313432573933), (942, 0.06022644119754778), (2488, 0.06015568184058965), (696, 0.06013299921512166), (3166, 0.060109025596862375), (2529, 0.06004151572923989), (706, 0.05994784054847355), (2572, 0.059895808183085805), (2309, 0.059839096914166154), (4652, 0.05978119668777672), (2730, 0.05977732098059845), (3143, 0.05964339072911792), (1166, 0.05959655324469867), (3319, 0.059586886273051205), (914, 0.05956760700928378), (3459, 0.05952208883437761), (478, 0.05938228504670314), (2526, 0.05935828253628279), (228, 0.05935179164090851), (1336, 0.05932038207997503), (1626, 0.059312746134265605), (4082, 0.0592865290404093), (3430, 0.05920249109265127), (4263, 0.05918071007466109), (1564, 0.059161393703977), (2041, 0.059124533179756744), (1089, 0.05910652747787297), (215, 0.05905734151272622), (2764, 0.05896294015494034), (2437, 0.05896089879819263), (2111, 0.05895723102410089), (1399, 0.058926218733633774), (4516, 0.05891261750300801), (3602, 0.058885215367071905), (3032, 0.05886534407309544), (4418, 0.05879254014747695), (1556, 0.05857369735847495), (105, 0.05855021001217125), (3427, 0.05854026388574013), (2744, 0.05841016920797207), (3364, 0.05831898872484146), (2671, 0.05821139556707467), (2252, 0.05819155164844692), (1213, 0.05810486819081946), (2118, 0.058073175665898785), (173, 0.05803827611547051), (1238, 0.05781875491464128), (3092, 0.05781069840617487), (804, 0.05778105935664182), (4042, 0.05771705481732454), (3738, 0.05766472531098316), (456, 0.05753344960069375), (429, 0.057478294750886186), (1877, 0.057448662579914454), (2735, 0.05741813302144784), (2621, 0.05739269853448832), (3854, 0.05737026539933887), (895, 0.05722989898937196), (2492, 0.05715561343906476), (1125, 0.0571463242882144), (1672, 0.057080530779185026), (3898, 0.05705352203210262), (3366, 0.05701525627901474), (3140, 0.05692955511529684), (4681, 0.05690815595975895), (3720, 0.056735208950973254), (735, 0.056716114498559594), (2153, 0.05664399465086342), (4223, 0.056621341616201), (4333, 0.05661837920304401), (4064, 0.05658029246122618), (3562, 0.05656375652805838), (1277, 0.0565491218093636), (2248, 0.056495838781219145), (669, 0.05640472165042899), (3764, 0.05640108950977812), (4387, 0.0563963158560852), (143, 0.05637199083408371), (4436, 0.05635698408969173), (3710, 0.056257927269816564), (1511, 0.05623793541649061), (4319, 0.056211144840518576), (636, 0.056188765165806565), (1109, 0.05615179668399331), (837, 0.05613888488977381), (258, 0.056114261958696315), (3276, 0.056064517596956014), (125, 0.05594941472675401), (764, 0.05589617114551736), (1208, 0.05579323585569486), (4222, 0.05572019125629028), (3970, 0.055701414326062196), (2136, 0.05563548694803908), (1978, 0.05557849126463989), (1567, 0.05548801825054564), (783, 0.0554796329562396), (1621, 0.05535521409116792), (4176, 0.0553543784608551), (2015, 0.05535342237376767), (66, 0.05532612968745265), (633, 0.055319888945998305), (2410, 0.055298601972490924), (3925, 0.055295295491200415), (3253, 0.05526847031088385), (1813, 0.05516112525750011), (2494, 0.05513796632439512), (144, 0.0550587165158507), (948, 0.05484624939059518), (4621, 0.05478868252743854), (1130, 0.05478683890132806), (3679, 0.05478190185771744), (3308, 0.05472796099844265), (2067, 0.05470320491028868), (2550, 0.054687129783081614), (2832, 0.054599913246597395), (2570, 0.05448967843465906), (4598, 0.054468452894634964), (3302, 0.05443268277680736), (2732, 0.05442085855624689), (427, 0.054391953804759016), (3070, 0.054326373029818104), (4100, 0.0543262129033775), (558, 0.0543200608324913), (4628, 0.054310325464924245), (2891, 0.054288257482983965), (2259, 0.05414044772254902), (2560, 0.05408889100588179), (4051, 0.054039832089451484), (3389, 0.053948226089891305), (2071, 0.05391674616050407), (4571, 0.05386912628460004), (292, 0.05382302527349925), (3009, 0.05376383943702301), (1594, 0.05368712487946378), (4384, 0.0536660254722796), (4111, 0.053607335776654046), (4146, 0.05359058305647327), (3793, 0.05348729753039466), (4053, 0.053459562596596344), (1489, 0.053437131748846844), (2269, 0.05334054515877347), (4482, 0.0532965961939764), (2500, 0.053286094310557364), (1769, 0.05326723859013731), (17, 0.053231411350150054), (985, 0.05313721555318782), (2543, 0.053097831806655), (1411, 0.05308914046593751), (3303, 0.05305795712796081), (2610, 0.0529513652618494), (2179, 0.052936295224915705), (3866, 0.05272500558580093), (1533, 0.0526531637220757), (3116, 0.052644495653713354), (2266, 0.05258965321389965), (3152, 0.05251567445976503), (2619, 0.05250873037271187), (3261, 0.05248250916167023), (2005, 0.0524370454371766), (1980, 0.05240238438597875), (3909, 0.05233748711448465), (3168, 0.05220859638218302), (3933, 0.052133308562392476), (4143, 0.052126903219938674), (4607, 0.05212186863654864), (4007, 0.052037227535687056), (2633, 0.051997583196917295), (834, 0.0519847543363241), (790, 0.05188978505549718), (225, 0.05173302678437476), (467, 0.05172835462608154), (3616, 0.051584709581988804), (556, 0.05156509163849915), (3416, 0.051540973859662706), (2234, 0.05142543888777509), (3449, 0.05141100686383734), (2531, 0.05139177458504386), (582, 0.05137689720445999), (718, 0.051346226765456575), (736, 0.05129847720821733), (2032, 0.05113621969173825), (3964, 0.051129907957771455), (3183, 0.05107909441511067), (4480, 0.051071133267104725), (2187, 0.05105449771133294), (1201, 0.05105255387206837), (1781, 0.05101900829836206), (1895, 0.05101190469583748), (2080, 0.05099019009783119), (4003, 0.050950027761962946), (3271, 0.0509475449303692), (1010, 0.05090293670581035), (3170, 0.05083273704346028), (3431, 0.050810831972825064), (2797, 0.05080209862508323), (4061, 0.05076951190074751), (2597, 0.050750269706714785), (1329, 0.05073686657544813), (879, 0.05069888535957476), (4483, 0.050625545967466844), (3030, 0.050598781366122), (2115, 0.05054845973396001), (2870, 0.050533442802331664), (4198, 0.05042284969919492), (2892, 0.05041225367638445), (2883, 0.05039987106631243), (795, 0.05038840177940498), (4117, 0.05035765300202391), (3504, 0.050290770124529496), (3667, 0.05028981691972593), (2740, 0.05024282032866607), (4432, 0.05021466448533919), (2924, 0.05021397329170027), (746, 0.0501790032301422), (3363, 0.05011070010539964), (3758, 0.050109951117119654), (982, 0.05010527436530626), (2193, 0.05010379181073901), (3475, 0.05004027668743615), (2333, 0.050007206428319934), (1345, 0.049973695909152946), (3413, 0.049965193536332476), (2391, 0.04981410724700741), (1286, 0.049804999475657585), (46, 0.04975209526905709), (1634, 0.04973807552579575), (737, 0.04973782280391623), (2928, 0.04972306989668523), (605, 0.04970787329279906), (1023, 0.049603485183630044), (2755, 0.049601864058882054), (2484, 0.04958010314086413), (2582, 0.04956501542576025), (4084, 0.04955725245757085), (4166, 0.04951478209225124), (3078, 0.04945991390699046), (3039, 0.04943536600365827), (2986, 0.04937822205340386), (2642, 0.04937406920476933), (3360, 0.049336553716190654), (3804, 0.04931749898380877), (1806, 0.049293343306525676), (3198, 0.04928649821538924), (3004, 0.04923631672110303), (2818, 0.04917134321174607), (2776, 0.04915976049634334), (2559, 0.04915055459577004), (431, 0.049147403880184445), (2046, 0.04912078627022244), (4101, 0.04910413353026179), (3447, 0.0490807578534201), (459, 0.04907740326927052), (741, 0.049072190912273383), (1049, 0.04894888002306125), (3007, 0.04891320159123559), (3297, 0.04884890241475571), (3889, 0.04878203735128199), (1719, 0.04875057175619439), (1363, 0.048721474615800744), (3315, 0.04868377567874338), (2075, 0.04865982145705357), (3887, 0.048584321839363176), (3424, 0.04854864331597821), (1488, 0.048541865190329776), (1382, 0.048510383355552814), (1816, 0.04849883577340235), (2981, 0.04849432149722693), (279, 0.048469925150634204), (3868, 0.048459313496299894), (3936, 0.04844188271255416), (2379, 0.04839100807789206), (2858, 0.04835124592049238), (2137, 0.04834072305248432), (2643, 0.04833619079383072), (1272, 0.048325753283584724), (3139, 0.048282801190119906), (3792, 0.048274280445290904), (612, 0.04827369571822809), (4023, 0.04827110871614765), (2106, 0.04825893480624487), (4407, 0.04819738959479771), (589, 0.04815140819858603), (1666, 0.04814645090461651), (2872, 0.048130036800152154), (4342, 0.04811146010434213), (583, 0.04810571631152943), (2420, 0.04809823408528046), (1871, 0.0480340705483226), (3109, 0.047993138511043955), (318, 0.04798425134320699), (4287, 0.04798284847219911), (3859, 0.04797889284410463), (3571, 0.04796275565796282), (2511, 0.04795298873929579), (2722, 0.04790196804523579), (193, 0.04786201585232564), (3592, 0.04783897846583952), (1039, 0.04782439778623341), (3763, 0.047781187605618385), (161, 0.04772416549724671), (2308, 0.04771951565995035), (3040, 0.04766084915211592), (773, 0.047646732736745724), (4025, 0.04764540133122182), (1803, 0.04759242912859965), (1170, 0.04756035402677451), (3496, 0.04752766600196419), (1851, 0.047496247671239014), (2746, 0.0474688778938068), (2026, 0.047443569240782184), (1878, 0.04736179304913752), (946, 0.047338493304341714), (2302, 0.047312559847402735), (830, 0.0472990104289651), (973, 0.04728442025592129), (114, 0.04725844747804691), (844, 0.04725392956358732), (3, 0.047253850545499326), (4580, 0.04724403389345143), (3845, 0.04722231051634417), (2467, 0.04717250962407281), (999, 0.04716902603604971), (3760, 0.04708899697991132), (1216, 0.04703865447088851), (867, 0.04701949311389066), (4369, 0.047014738221747066), (3098, 0.04701365421662938), (1261, 0.046956435452949044), (1410, 0.046941258812486064), (448, 0.04692997198762577), (2122, 0.04692783508921523), (2802, 0.04691877974756051), (2422, 0.046893561692251166), (4594, 0.046893344747780195), (3890, 0.046889158095715956), (2353, 0.04684261991899541), (3241, 0.046814184905989056), (3681, 0.046803885791744826), (831, 0.046734359696297786), (998, 0.04673433965887945), (3489, 0.04673346206652623), (4514, 0.046726316766036426), (2878, 0.04671726072029544), (3351, 0.04669839045861554), (3559, 0.046650991293421484), (3754, 0.04664788319602215), (3314, 0.04664012972391522), (813, 0.04663238648727034), (2807, 0.04662270931527112), (3529, 0.04661016948481395), (1506, 0.04660567251865385), (2101, 0.04659534987656108), (1951, 0.046566869418866064), (1657, 0.046555760459050674), (81, 0.04649694249395429), (2569, 0.046490136063333694), (2404, 0.04644389934495837), (1476, 0.04643878125347607), (2982, 0.04643712374324052), (1616, 0.046424444108467675), (2782, 0.046395169365254424), (1888, 0.04639285813220038), (3229, 0.04639210144141814), (1094, 0.04636510344354896), (3493, 0.04634374792419719), (930, 0.046263799144651604), (3188, 0.04625421654598716), (3194, 0.0461759601914882), (3083, 0.046162596725937304), (859, 0.04616195207281964), (4635, 0.046159234426815736), (3246, 0.04615880846053393), (4192, 0.046143398226441784), (3018, 0.04612741788214576), (1445, 0.04604465137330602), (3565, 0.046041972844116166), (1782, 0.046018651388746924), (623, 0.046016311275096894), (890, 0.045976917583026584), (2703, 0.04592515723910572), (3638, 0.04590593486558297), (3524, 0.045904580837685546), (2731, 0.04589299571172511), (4313, 0.04588870197132084), (1880, 0.04587172281191137), (3686, 0.045862240196661026), (2131, 0.04586040004226524), (385, 0.04584842191305663), (2884, 0.04581060716896012), (490, 0.04580388849971762), (3599, 0.04579475108270897), (3017, 0.0457931488272935), (4744, 0.04577453808856787), (3204, 0.04575166156888638), (2242, 0.045740299546954084), (1262, 0.0457320703579831), (1002, 0.04570994007579052), (326, 0.04570612110707023), (1364, 0.045698611091486874), (2614, 0.04569008230250632), (2049, 0.045676519546117816), (3352, 0.0456252918315866), (2757, 0.045599836998716864), (2830, 0.045596924293072355), (3161, 0.04559680136044386), (1722, 0.04559227323494902), (774, 0.04556670561494641), (3648, 0.04556539019800875), (2748, 0.04554739620968483), (3999, 0.04552947161084254), (2538, 0.045507497430214205), (4605, 0.04549528048044973), (4032, 0.04545373528989345), (529, 0.04544801062950587), (1827, 0.04544739233846681), (3721, 0.045408479395660235), (938, 0.04535647356394203), (62, 0.045348054260762084), (1539, 0.045342826422044465), (4650, 0.04533336135714817), (2809, 0.04532669883358777), (1905, 0.04531666105896871), (3867, 0.04530552509224049), (3919, 0.04530270991449875), (885, 0.045297067712984744), (2877, 0.045278966471759434), (2319, 0.04527585338802021), (4463, 0.04527457947384121), (1472, 0.04526558132209674), (4027, 0.04525717260584157), (2001, 0.045201221369469816), (3256, 0.0451934510372316), (2415, 0.045190675081399206), (4327, 0.045182225944097154), (3579, 0.045143006049190276), (3235, 0.045140763179950395), (4721, 0.045124484994900335), (2553, 0.04512140113425969), (3560, 0.04511977383408551), (2566, 0.04510834497625436), (211, 0.04510040249748659), (2652, 0.04508996030568843), (2852, 0.04503041550015832), (4332, 0.045029548797057554), (3391, 0.045019792456428634), (4113, 0.04501837076676717), (2367, 0.044989029589827), (4107, 0.04497734890169118), (86, 0.04497196620284162), (3910, 0.04496176943775936), (768, 0.04495739743690451), (3273, 0.04495652943413195), (4460, 0.04493630661149858), (2657, 0.04487696028581681), (2684, 0.04487382762639778), (4458, 0.04476593448972015), (2601, 0.04476543969183617), (3882, 0.044753931907247566), (2060, 0.04474211466944921), (504, 0.04473359506272713), (2998, 0.04472473483393398), (3584, 0.044691779405628795), (169, 0.0446878640403616), (2436, 0.04466418870607784), (2747, 0.04465487323888994), (4442, 0.0446441643250126), (2873, 0.04464054021386072), (1403, 0.04462911613211272), (4688, 0.04462910396621673), (1313, 0.04460691495819748), (865, 0.044598423834928354), (2453, 0.0445891677998604), (3077, 0.04457639996951125), (3071, 0.04456801947702485), (1199, 0.04456138315282064), (2281, 0.04452742098031896), (1655, 0.04452248279239321), (3915, 0.04451811922988597), (1366, 0.04451323922761366), (2009, 0.044498721047516086), (2495, 0.04449725895787571), (1175, 0.044481218947881984), (3541, 0.04446677579192724), (2975, 0.044464666943788464), (1184, 0.04442848997471446), (2199, 0.044419681707090465), (3267, 0.04440729989460816), (697, 0.044398142442605905), (1860, 0.04438691307298216), (255, 0.04435824875968916), (2911, 0.04435680330156002), (3076, 0.044352850559495026), (2738, 0.044349501712559664), (2116, 0.04434163201761253), (2156, 0.04434083639228726), (1394, 0.044339851903891905), (2897, 0.04432692123588034), (3892, 0.04431786501192726), (218, 0.04430032196155823), (678, 0.04430001884464099), (2312, 0.044294608393881676), (1302, 0.044268472455444026), (4632, 0.04426369496939524), (2168, 0.04426005161917993), (3851, 0.044238024852198604), (388, 0.04423241959699292), (2528, 0.04421390401742241), (1359, 0.04420818682113298), (971, 0.04417158746584253), (3822, 0.044155795116308634), (1424, 0.044141927436414506), (2650, 0.04412498703880853), (4203, 0.044107530443688425), (3826, 0.04406888779115899), (1569, 0.044024786879050884), (3730, 0.04400753660055661), (1157, 0.044006166159736015), (1881, 0.044002287992627405), (2637, 0.043993684446258764), (2236, 0.04399208607324587), (1248, 0.04396846617762287), (1885, 0.04396788315280982), (857, 0.04396417406983615), (1372, 0.043960350897252365), (4197, 0.04395808794813308), (2068, 0.04394704982809946), (2201, 0.04394218014104497), (3406, 0.04393298116239037), (2399, 0.04391391245428269), (3061, 0.04390629497685217), (15, 0.043904274678710754), (1088, 0.04387882346290181), (4444, 0.04382402810150193), (2591, 0.04381674152939498), (4145, 0.04380532581697481), (3428, 0.04379831570187053), (1718, 0.04379390938589529), (3913, 0.04378813088165426), (996, 0.043783163512320096), (710, 0.043775794289701825), (198, 0.043722798819892106), (3655, 0.043719160455298056), (1405, 0.04370482802786889), (880, 0.04370430709425717), (1946, 0.043673681991807684), (3072, 0.04366743246227093), (2677, 0.04366736066658454), (3654, 0.04366548388832192), (1247, 0.043664983969003916), (1256, 0.04365223103089714), (2894, 0.04361906648031948), (325, 0.04360039600310248), (2836, 0.043593111520812626), (1126, 0.04358266642901854), (2086, 0.04356881018395586), (2609, 0.04356751183111154), (1501, 0.04355797006746308), (405, 0.04355261484819431), (1408, 0.043547995834610345), (110, 0.04354387974844834), (3094, 0.0435342006851355), (2261, 0.04352000789422622), (2756, 0.04350970661378473), (2502, 0.04348662222900793), (474, 0.04348242188475868), (703, 0.04347057890556116), (2561, 0.04346685147048582), (4713, 0.04343131592866662), (1362, 0.04343053534718158), (3603, 0.0434269976312832), (4139, 0.043420184275605726), (4357, 0.043411202647231466), (3962, 0.043391012462633355), (671, 0.043390930611313085), (4403, 0.04338640775665673), (2661, 0.04336946812270169), (4102, 0.043353716588313905), (3382, 0.04334628370669037), (3214, 0.04332382166490669), (1682, 0.04329839193341671), (4422, 0.0432844062840282), (4293, 0.04326859986303708), (690, 0.04325434013923713), (2844, 0.04324963347590999), (1707, 0.04324406984481281), (3219, 0.04323052378321546), (2461, 0.04322669069419785), (4446, 0.04322416553042128), (1589, 0.04322270530908548), (4440, 0.04321231290485741), (1731, 0.04321113059907842), (1903, 0.043188955120857485), (2423, 0.04318585613340703), (3745, 0.0431786649842147), (3060, 0.043177938484125204), (3893, 0.04317006940554608), (3921, 0.043160967436410506), (2313, 0.04314997506370677), (3165, 0.04314765926767647), (1317, 0.043138855348898095), (2003, 0.04313773198282928), (820, 0.04313648496126957), (2166, 0.04313425425733251), (4267, 0.04312068484185955), (1693, 0.043113964764625576), (873, 0.04310991435916496), (3189, 0.04309959562401559), (1637, 0.04309753947609612), (4204, 0.04308794392742135), (1798, 0.04305475578899991), (1619, 0.043042845431157266), (1768, 0.04304257433554397), (192, 0.043035418041523596), (687, 0.04302450996438774), (493, 0.04300008840169184), (1220, 0.04299703017257654), (1883, 0.04298845482222009), (2472, 0.04298655596233748), (2395, 0.04295700846394483), (2160, 0.04294677005940005), (3796, 0.0429388235642008), (3878, 0.04290376561720461), (700, 0.042896579284686084), (4239, 0.04287978397596355), (3808, 0.042874688159914714), (3237, 0.042865572464099985), (3748, 0.04285554125745239), (3221, 0.04284622663042293), (2937, 0.04284049303227381), (3192, 0.04281862151535928), (1122, 0.042817074798860905), (2592, 0.04281259874550237), (3671, 0.04279479139531837), (4243, 0.042788489745954505), (355, 0.04278061179284917), (1251, 0.04277644822942586), (3296, 0.042763521536088894), (4705, 0.04275996803191639), (3930, 0.04275746905115351), (3202, 0.042756661365589914), (3511, 0.04275498023300034), (2430, 0.042745104161212896), (2324, 0.042719587702249595), (3523, 0.04270523283815214), (3949, 0.042686694590642144), (178, 0.04266205861337635), (3051, 0.04265336074087098), (1437, 0.04265272313850791), (1771, 0.042647979910166514), (3551, 0.04263057212571722), (51, 0.04261897139203955), (950, 0.0426183455489794), (3284, 0.04261758842272731), (2663, 0.04259704365064754), (2155, 0.042575567914653), (2810, 0.042575480897309725), (510, 0.04256818999411059), (3159, 0.042548380807761826), (1585, 0.042538618333550396), (2795, 0.04252100237969135), (3227, 0.042503364234462854), (846, 0.042498890685511485), (4565, 0.04249544318479855), (2518, 0.042483577167181256), (967, 0.042459725495819875), (471, 0.042457150434278994), (2854, 0.042456529535520225), (3531, 0.04244960280767783), (2449, 0.04244183766289043), (1217, 0.04244179408073817), (3969, 0.042437986760982295), (129, 0.04242092899190202), (2745, 0.042389675970564505), (3274, 0.04237591515335358), (398, 0.04237210134386639), (1284, 0.04236373625253314), (3922, 0.042361627429369254), (638, 0.04235569344245825), (2667, 0.04233811556596223), (3932, 0.04231547446875064), (2922, 0.042286820460400935), (2662, 0.042285100747233476), (4633, 0.04228003314493902), (1778, 0.04227501467038948), (3832, 0.0422721956906616), (2212, 0.042267123798254994), (4199, 0.04226028170530462), (2798, 0.0422453706092479), (751, 0.042238626027047), (3844, 0.04223536803504659), (576, 0.04222622148861718), (3772, 0.042218506095745935), (1038, 0.042217255147228225), (2640, 0.04221580312924409), (3298, 0.04221156994480245), (3275, 0.04219816186448701), (2328, 0.0421911867261109), (2409, 0.042177440353467155), (3967, 0.042174513083074926), (4718, 0.042171325847043625), (2974, 0.04216761909942558), (2581, 0.04215158153924466), (4291, 0.04214879350161287), (4062, 0.04213396970854403), (1677, 0.042122592772730505), (2105, 0.04212041589231208), (3074, 0.04210340465465295), (1848, 0.04209677580198712), (670, 0.04205382338739595), (3380, 0.04203658006162218), (2189, 0.04201318080784043), (2237, 0.042006560046835645), (4612, 0.04196680002667368), (2170, 0.04195165161847985), (705, 0.04193923536990525), (2603, 0.041937226021012464), (1690, 0.041934478729362054), (2840, 0.04192942364821967), (1565, 0.04192166393120985), (940, 0.041910287678158076), (1026, 0.04190610048753851), (2452, 0.041894752747050505), (1733, 0.04189138779459523), (4115, 0.04188660553995432), (4233, 0.04187458152858787), (4202, 0.04186424850869432), (2729, 0.04185738882934798), (3326, 0.04185616118087884), (4183, 0.041836628992023124), (4149, 0.04181855476912604), (4094, 0.04180926243879984), (1909, 0.041808759629516544), (2427, 0.0418056459606231), (1324, 0.04180469105555962), (2990, 0.04180439442122845), (2957, 0.04180041572972858), (2604, 0.0417972409960436), (2007, 0.04179372314256217), (3248, 0.04178719574670188), (2673, 0.04178178446002043), (4259, 0.04177170307789055), (3089, 0.04177080497632964), (23, 0.04176887875359858), (4479, 0.0417667406819342), (2880, 0.041766348769784856), (4136, 0.04173712330089971), (2867, 0.0417368547990806), (2649, 0.041730800374912204), (4554, 0.04172497586783756), (2989, 0.04172460935704324), (3400, 0.0417157961487882), (1867, 0.041712008876755684), (3444, 0.04170726752744173), (1744, 0.04169614828840385), (2681, 0.04168805120070945), (3549, 0.04168238368635431), (3097, 0.04166784630067159), (952, 0.041633868865677014), (2251, 0.041618012915754565), (275, 0.04160996409931949), (2335, 0.041606904826948066), (4700, 0.041603737769102055), (2656, 0.0416025848942551), (312, 0.04157499719066035), (2863, 0.04153696234782599), (4050, 0.04153642623514806), (204, 0.0415319454211674), (4138, 0.04153141258368881), (4012, 0.04152828506871262), (1052, 0.04152421726633024), (2339, 0.04152333607590188), (3572, 0.041518129205309076), (698, 0.04149679243294298), (2167, 0.041489867068397156), (2440, 0.041487710196033055), (2712, 0.041486651158377484), (2322, 0.04144935450208538), (2907, 0.0414486946605871), (4156, 0.041440596169666874), (4589, 0.0414397481081685), (71, 0.04143185412844626), (1475, 0.0414315372420303), (1453, 0.04142593277269902), (4741, 0.041411858631945866), (3103, 0.04140394751273216), (839, 0.04138713273822667), (3984, 0.04137952051622266), (649, 0.04137489421659367), (4575, 0.0413675780624744), (3594, 0.041364294476889704), (2051, 0.041363836243133396), (3111, 0.04136370620330124), (2766, 0.041345140291438154), (3247, 0.0413370073989118), (3879, 0.04132660387805846), (897, 0.0413253601606219), (2995, 0.04131080558472462), (4011, 0.04130606958105339), (3990, 0.04130548200202902), (3514, 0.0412981227575687), (4756, 0.04129450327534812), (4701, 0.041288581652654074), (472, 0.041286189080785324), (4315, 0.04126710686244248), (3753, 0.041266837607332664), (2530, 0.041265820247997416), (2044, 0.04125876988547864), (1897, 0.04125377933223964), (4566, 0.04124588345494291), (4147, 0.041244994753948536), (2889, 0.04123822809177379), (174, 0.04121098236613076), (153, 0.04120068545022229), (2499, 0.04119140832037591), (926, 0.04118957164887702), (2699, 0.04118380899293095), (3610, 0.04118378387360915), (588, 0.04117639433831315), (1305, 0.041136590035252274), (3335, 0.04113549042889056), (1942, 0.0411186154692277), (4127, 0.0411149473581886), (2693, 0.04110317883438049), (4451, 0.04108549945213623), (1237, 0.041057484400002384), (3373, 0.04103458958771142), (2483, 0.04102250756999735), (4671, 0.04100377360546961), (3789, 0.0410005796654366), (2148, 0.04100027109566372), (2992, 0.04097298878513293), (570, 0.04096908994513842), (1787, 0.04096035549438567), (4617, 0.04095765260410758), (2384, 0.040949618656042276), (4704, 0.040945856400102836), (3649, 0.040938149093247264), (4627, 0.04092730997847623), (2253, 0.040926117144154735), (2036, 0.04092276002304092), (156, 0.040914371269645006), (3417, 0.04090996102425863), (2102, 0.04088789316596046), (1060, 0.040883853796310626), (1601, 0.04087786287537251), (4443, 0.04086729204466657), (4381, 0.04086664604205851), (1007, 0.040860291509789405), (3119, 0.04085564592045457), (4556, 0.04085365697260065), (1804, 0.040845904773039315), (3856, 0.04084569101703178), (2159, 0.04083667819341588), (2715, 0.040823249469404445), (1378, 0.04080648832145896), (1974, 0.040771461673397305), (2705, 0.04076515146057506), (407, 0.04075529174765751), (195, 0.040747210475311366), (2931, 0.04074317433694856), (1923, 0.04072134759176302), (4058, 0.04071679356302367), (3055, 0.04069654469088705), (3043, 0.04066735294584963), (2536, 0.04065932600495765), (3513, 0.04064902394326386), (2004, 0.04064282101202092), (871, 0.04060787675258681), (2241, 0.04059403304277284), (2416, 0.04056096855625155), (4242, 0.040558849760457), (1549, 0.0405586563620477), (2948, 0.040550028909336816), (3185, 0.0405499621526544), (4017, 0.040544003080328274), (3127, 0.04053589525208148), (4140, 0.04051831449750051), (3635, 0.04051116421384696), (2188, 0.04050511464144525), (2475, 0.040502473589907315), (4537, 0.040502357273360934), (4717, 0.040502235587178734), (1245, 0.04049827024521495), (2000, 0.040489417022863815), (4660, 0.04048632300328465), (3644, 0.04048553062466497), (4206, 0.04047329295738824), (221, 0.040466700539957386), (2406, 0.04046475022611067), (4489, 0.04045968791970064), (1075, 0.04045013108428708), (4341, 0.04044459585620041), (4498, 0.04044269262056439), (4286, 0.04043891427114264), (3154, 0.040428724649235484), (358, 0.04042582579589592), (3288, 0.040420488114481845), (1168, 0.04040832101963892), (1321, 0.04040733266957668), (8, 0.040405979392635995), (2218, 0.040396792669722154), (947, 0.04039217819475555), (3439, 0.04038735528937464), (3500, 0.04037838758024236), (684, 0.04037461602899228), (3180, 0.0403644697155197), (4271, 0.040332736451830616), (4654, 0.04031766902482378), (302, 0.04031378308193019), (655, 0.04030573950302832), (2940, 0.04028493753883311), (1080, 0.04027583929028653), (2035, 0.04025896178908707), (4351, 0.04024883340439614), (1365, 0.04024704052527971), (4749, 0.04024561681569909), (4657, 0.04023830224616997), (2169, 0.040232401796728566), (3904, 0.04023070870942639), (85, 0.040214839870521255), (2228, 0.04020446901435281), (2295, 0.04020444421263147), (4040, 0.04019849850731333), (905, 0.04018933976061976), (4606, 0.04018407655302416), (3715, 0.040179824079454626), (2489, 0.04017870045096265), (4142, 0.04017097688784836), (4506, 0.040166302753149634), (4529, 0.04015979728891214), (1746, 0.04015357312274252), (3621, 0.04014490299781375), (1612, 0.040136917555059465), (4371, 0.04012303663675688), (2846, 0.04011589034811934), (2310, 0.04010827914130642), (4132, 0.040105862537484986), (4221, 0.040098832128047095), (202, 0.04008887839671912), (2923, 0.04007756562226483), (3862, 0.04006862111089053), (4584, 0.040067107952875006), (2555, 0.04006668997945), (2779, 0.04005992526240963), (2107, 0.04005376665617167), (2468, 0.040048387914436726), (4056, 0.0400405392092427), (1592, 0.04003903301799095), (2282, 0.04002994530282368), (2504, 0.04002388454812695), (1494, 0.040011180703817845), (4611, 0.0399898765558344), (3939, 0.03996330131148355), (2664, 0.039960592335735255), (3172, 0.03995621441320464), (2284, 0.039948677767664836), (132, 0.039948242284835934), (1660, 0.0399371737697074), (1758, 0.039918103153789006), (3766, 0.03989580538744896), (1792, 0.03989358009698706), (784, 0.039878625359239965), (3434, 0.03986384105694948), (2011, 0.03985339770542215), (1869, 0.03982729104419608), (3277, 0.039826862585550946), (4370, 0.03982426509150998), (343, 0.039786302024061075), (4060, 0.039783491445525385), (2079, 0.03978251540111543), (1204, 0.03978022016420595), (2861, 0.03977761397736537), (2655, 0.03977232663727907), (3585, 0.03976283480293119), (2151, 0.03975779426463937), (3014, 0.03974485599389039), (781, 0.039728809477747505), (4320, 0.039716182102617285), (3834, 0.039693080935745466), (955, 0.03968330358598172), (3318, 0.039680823005341787), (2012, 0.03967845554409386), (29, 0.03965805959290418), (3728, 0.03965530087130546), (4172, 0.03965291921452316), (1482, 0.03965171262821868), (2932, 0.03964662902744019), (401, 0.03964572376583571), (2271, 0.03964037178002245), (2351, 0.039639629980956236), (1234, 0.03963820050141727), (2706, 0.03963746515772107), (4490, 0.039627531875414845), (1833, 0.039622199418814), (4738, 0.03962071618915194), (2915, 0.039617691574687926), (3759, 0.03959527647036433), (1178, 0.03958545738177303), (4246, 0.03958114346474606), (1180, 0.039576919394320335), (2625, 0.0395696667019771), (4692, 0.039560469018710576), (925, 0.03955488597459127), (3407, 0.03955251888207107), (1977, 0.039548172622551635), (791, 0.03954529326695671), (4492, 0.0395431637384037), (3589, 0.03954273762528472), (4033, 0.039542325466542905), (3016, 0.039535001568049795), (197, 0.03953240545595038), (3304, 0.039529133730619816), (786, 0.039518718603296116), (3614, 0.03950736108752312), (852, 0.039497599360218516), (1597, 0.03949453458588778), (1073, 0.03948355120841984), (1639, 0.0394790819409189), (1688, 0.03947814831519016), (785, 0.039476944472204685), (2456, 0.0394740413984799), (2412, 0.039463461974516764), (3290, 0.039448653047365674), (3703, 0.03944595804549771), (2866, 0.039441541018078244), (458, 0.039424128560532366), (1968, 0.03941210659118819), (4200, 0.03939624276987777), (2158, 0.039373131259802865), (410, 0.039369395063178936), (2875, 0.03935434371191287), (3087, 0.03933549975604795), (1685, 0.039331121911826764), (2600, 0.039316373519648486), (564, 0.03930985816269558), (1421, 0.03930972828566583), (2405, 0.039308363578552066), (872, 0.03929100002523163), (1423, 0.039252979107912526), (391, 0.039250227697333696), (3988, 0.03924709531714837), (3733, 0.03924588515484077), (3578, 0.03924551713173805), (2675, 0.039240579088656975), (2796, 0.039231886584427084), (1762, 0.039199279822574415), (464, 0.03919916297193758), (1743, 0.0391925767527488), (2510, 0.03917504598998333), (4280, 0.03917108516421741), (3888, 0.03914547975165833), (2403, 0.039140823636532), (227, 0.039135123836600234), (2290, 0.039133484082143524), (2392, 0.039131828481180166), (3762, 0.039126893125332296), (4696, 0.03911882658613339), (4625, 0.0390987961182025), (3292, 0.03909448628763903), (3337, 0.03907728262574253), (1537, 0.039066806214711904), (2624, 0.03905487253656085), (4122, 0.039052666844377644), (481, 0.039038005355996726), (3056, 0.03903685655370656), (1190, 0.039035018564816656), (1907, 0.039026120725911335), (4049, 0.0390150478955049), (2099, 0.039011734814410025), (3190, 0.03900895606462946), (4350, 0.039006548350830214), (1304, 0.03900189302626536), (3517, 0.03899779161123636), (627, 0.03898701328330992), (3665, 0.038981251690356086), (4732, 0.0389606370276506), (843, 0.0389491448435713), (1457, 0.038942255878710016), (4019, 0.03894063481996489), (1034, 0.038934809565575206), (2859, 0.03893302328245345), (2425, 0.03893011230902986), (3236, 0.0389288038266687), (757, 0.03892837442923139), (1819, 0.03891881852443273), (4452, 0.038916808711465786), (524, 0.03891667716266296), (1071, 0.03889926236031808), (4346, 0.03887613519613221), (253, 0.038866112029719735), (2914, 0.038856346415327925), (4423, 0.038854429219441315), (1845, 0.038852404852262865), (1124, 0.03885168072613405), (2223, 0.038848780949626335), (2546, 0.03884779219561395), (845, 0.038823275355825526), (1047, 0.03881674993717627), (4169, 0.03881427573956323), (3798, 0.038800945661281755), (3683, 0.038800009150163524), (4737, 0.03879633885447292), (2250, 0.03877555304543728), (2346, 0.0387669318964034), (4454, 0.03875627441387805), (1523, 0.03875173821195331), (2564, 0.03874649963936111), (1311, 0.03874467675622278), (4309, 0.03870354763800627), (4507, 0.038688674956789036), (3322, 0.03867333749899537), (2338, 0.0386705209877232), (1767, 0.03865229945591734), (2257, 0.03864962131154735), (3262, 0.03864897821833452), (2455, 0.038632576445687614), (351, 0.038623919122257266), (2672, 0.03861020419295047), (2048, 0.03858920264250999), (2357, 0.038588449608043064), (3761, 0.038580172602338036), (2901, 0.038570956499409365), (2760, 0.038563123313811225), (3717, 0.03855276690088878), (4546, 0.03854627612634459), (2968, 0.038541819218459325), (3951, 0.0385392175150987), (3386, 0.03853286313338412), (408, 0.03853275045495737), (2358, 0.03852238888524528), (1602, 0.03851258114418596), (4230, 0.03850875849886662), (3903, 0.03850824985302823), (3996, 0.03850313339488064), (2851, 0.03849161101973966), (2967, 0.03848332887618209), (3034, 0.03848321254412481), (659, 0.03847922831961996), (3260, 0.038475694148293695), (4174, 0.03847061220228491), (1516, 0.03845594735718653), (3809, 0.03845497464522449), (966, 0.03844995356141768), (1477, 0.03844709635498916), (643, 0.038443850805298635), (2949, 0.03843905159042453), (2350, 0.038436844567894424), (443, 0.03843653886234702), (2381, 0.03843210793630066), (3295, 0.038430920890106635), (904, 0.0384220408201176), (3716, 0.038412718925909244), (4536, 0.038401581588623154), (4735, 0.03839440257166282), (2515, 0.038394052100934745), (3747, 0.03839298456097691), (1542, 0.03838819409779475), (4394, 0.0383750700164817), (1615, 0.0383735308197447), (1582, 0.03837051770548115), (1764, 0.03836597477341146), (2386, 0.03836391970731405), (733, 0.03836097774864413), (115, 0.038355527407282895), (2202, 0.03834844370436142), (990, 0.0383262848897548), (2868, 0.03832427325102421), (2758, 0.038322503362222045), (4420, 0.038315242112940136), (3912, 0.03829933096170241), (484, 0.038296599368401234), (368, 0.03829050351400295), (4400, 0.0382896554334104), (4079, 0.038287666368289834), (3299, 0.03828317752422688), (465, 0.03828004552826432), (4699, 0.038272136715121925), (4125, 0.03826177991781424), (4706, 0.038256881032287714), (436, 0.03824317755844414), (3811, 0.03822806596815087), (2411, 0.03822642699667098), (2933, 0.03822103920083926), (1541, 0.03822035193009282), (3960, 0.03821252235820162), (1727, 0.03820121387237561), (347, 0.0382011075311487), (538, 0.03819927132440612), (1875, 0.03819214970498295), (4395, 0.03818838890818671), (2400, 0.038185947979859323), (2161, 0.03818314715349839), (406, 0.038182971513925835), (3062, 0.03817245954686354), (3883, 0.038169089014668985), (563, 0.038150379802098955), (4382, 0.03814569565501868), (889, 0.03814539216468859), (3575, 0.038139101344186174), (4187, 0.03813240380268888), (614, 0.038132358986572926), (1624, 0.038127538075827076), (2140, 0.03812653179852477), (1610, 0.03811707476261102), (1232, 0.03810373888985139), (3403, 0.038098349009162355), (2363, 0.038088147952897514), (3300, 0.038080351466816195), (2493, 0.03807060135512439), (984, 0.03806920448995412), (4324, 0.03806765716729658), (608, 0.038058469659379486), (4121, 0.03804889357529835), (3050, 0.038031224850008774), (2185, 0.038030614758089575), (2709, 0.038028348183215835), (1387, 0.03802829936232969), (841, 0.03802584041846044), (3611, 0.03801610597512105), (4477, 0.0380127116647925), (4710, 0.03799966569153368), (2196, 0.03799878520547805), (2021, 0.037997804294056796), (911, 0.03798375922259606), (2240, 0.03798205818714342), (2806, 0.03797779890997115), (1298, 0.037976591189932365), (2226, 0.037967442655895314), (3651, 0.037963395690643255), (1983, 0.03795022809952438), (33, 0.03793744084058372), (3975, 0.03792567321761256), (2638, 0.037925667377504725), (2077, 0.03792244671456698), (4631, 0.03791884476273234), (4388, 0.037912886676584615), (581, 0.03791189251272646), (729, 0.03790289646769329), (4720, 0.037900599711616134), (4643, 0.037881941083327195), (3075, 0.03786712971558291), (921, 0.037860783261630004), (3828, 0.03785820665382954), (3026, 0.03783459561388497), (2154, 0.0378149628235194), (1236, 0.03781067634678183), (2344, 0.037805233017039905), (2903, 0.03780145598531399), (4398, 0.037800814356690596), (806, 0.03780061391280658), (4288, 0.03777900155660099), (3857, 0.037775526987630974), (245, 0.03777051886371194), (418, 0.03775985431010113), (1876, 0.03775963099985036), (884, 0.0377503994470743), (4173, 0.03774963672018681), (1702, 0.03774614299697299), (1658, 0.03774476469854504), (2208, 0.03773873605652051), (1566, 0.037734845239944484), (1015, 0.03773305489229213), (4557, 0.037732219025422245), (1165, 0.03772099888160253), (731, 0.037719720780345654), (4016, 0.03771912206260559), (1196, 0.037698902434176465), (622, 0.03769240338087294), (1788, 0.03766058827818412), (38, 0.03765954419021898), (1950, 0.037643339929845025), (526, 0.03762967484189678), (3010, 0.037627275240748825), (3128, 0.037618006569106584), (3203, 0.037616415227954995), (1138, 0.037612066386106556), (1689, 0.037605626094991344), (4207, 0.03760282238337261), (607, 0.03758709962390472), (3145, 0.03758318202006686), (3187, 0.03757413292918183), (346, 0.03756749868286376), (2464, 0.03756212024919456), (4469, 0.03756083592744642), (377, 0.03755544966470698), (4522, 0.03755094118354929), (4226, 0.03755089245537378), (1389, 0.03754689715294883), (2972, 0.03753973553187802), (1700, 0.03752843551252882), (819, 0.037527268088874376), (3791, 0.037522091106158055), (2874, 0.037518289337175235), (1229, 0.03751407206556116), (1711, 0.037513907128555325), (3327, 0.03750920684410295), (1077, 0.03750029936712772), (2112, 0.037494960383632904), (4731, 0.03749465214694679), (4544, 0.037485893556189774), (771, 0.03747814159815156), (4021, 0.03747763191524015), (928, 0.03747465929784348), (4434, 0.0374682482539282), (4036, 0.03746755422703127), (923, 0.03746504001543115), (4024, 0.037459995814715666), (2668, 0.03745755862514763), (4448, 0.037456671145879764), (2547, 0.03744377625125221), (3790, 0.0374401777271986), (4618, 0.037436025598500525), (3554, 0.037433678985118415), (2306, 0.03742043414407978), (1544, 0.03741908932186656), (1572, 0.0374112874464175), (1558, 0.03740596688889125), (1192, 0.03740021809125412), (2943, 0.03739663635835381), (4465, 0.03739079307718925), (365, 0.0373865716881633), (3673, 0.03738471711030215), (3044, 0.03738016179486198), (3858, 0.03736390671780398), (362, 0.03736384853456115), (4624, 0.03733616944527317), (3207, 0.03733448261008416), (3558, 0.03732606657606909), (2829, 0.03732582238292231), (3884, 0.03732170170767402), (3393, 0.03731535039617027), (2728, 0.03731067142090291), (3688, 0.037305845269413204), (363, 0.03728718390622708), (1997, 0.03727589781705876), (949, 0.03726879031652733), (2014, 0.03726738577623413), (3090, 0.03726016763144352), (3181, 0.037246052272066954), (116, 0.037242635294078154), (1390, 0.03724046382770941), (4570, 0.037239827798426134), (1777, 0.03723842879334873), (4118, 0.037232162258998294), (4734, 0.037230419276545364), (1159, 0.03722938905449996), (3036, 0.037217694927849695), (328, 0.03720632184733158), (683, 0.03720501208178524), (1844, 0.037203863572381604), (2362, 0.03720201321017837), (4108, 0.03720174963138196), (2293, 0.03719449093487002), (630, 0.03719447735489856), (1121, 0.03718977682383248), (3669, 0.03718377953441379), (1941, 0.037179829098226376), (2438, 0.037170690912356204), (3778, 0.03716663557207608), (2557, 0.0371488125600884), (3150, 0.037145480972504204), (4190, 0.0371449611623271), (2575, 0.03713712434862628), (1006, 0.03713691926813675), (1926, 0.03713395546144936), (1260, 0.037107214954830624), (2814, 0.037101324862864465), (361, 0.03710088191635973), (4724, 0.03710033180185587), (3613, 0.03709326112032386), (3598, 0.03709099789820186), (4521, 0.03708820305675373), (3855, 0.03708537148968658), (342, 0.037081989386981165), (1110, 0.03707710483075431), (367, 0.037073018681368725), (3377, 0.03707288649216862), (978, 0.037062812437090316), (3402, 0.037055286862320846), (1520, 0.03704526307833068), (3519, 0.03703472374494151), (3954, 0.03702848469295954), (728, 0.03702801534305952), (3906, 0.0370221170810133), (345, 0.03702129671245332), (103, 0.03700374521621311), (4256, 0.0370031998278017), (2082, 0.03700299250717337), (4283, 0.03699410718603444), (3813, 0.0369904185536017), (1043, 0.03698421929409097), (309, 0.0369814265723117), (175, 0.03697964888938469), (4002, 0.03696491360630482), (479, 0.03695867486425192), (1254, 0.03694952673371697), (4258, 0.036949019635485886), (869, 0.03694821491000966), (4097, 0.03694379441113253), (3450, 0.0369367497619847), (3353, 0.03693097096250927), (272, 0.036926102106422505), (673, 0.03691803193794282), (1191, 0.03691558072677339), (1599, 0.03691003292413523), (4675, 0.03690631475723537), (3230, 0.0369011389985244), (4572, 0.03689913382449797), (1517, 0.036898927266768744), (461, 0.03689759843363052), (1485, 0.03689006898914152), (494, 0.036885340025032555), (205, 0.036884101007885244), (4711, 0.03688059185031208), (586, 0.03686690182555832), (1583, 0.03686675110847836), (2132, 0.03686413730331449), (1021, 0.03685377503060029), (796, 0.03685051453750005), (485, 0.036850476091294264), (3102, 0.036846354139863695), (1548, 0.03684534350801589), (217, 0.036844851003915366), (676, 0.03683450153730148), (447, 0.036826046262127286), (1103, 0.03681907079980976), (1446, 0.03681704463621427), (2786, 0.03680601703028413), (716, 0.03680218169879863), (1889, 0.03680072366027377), (1496, 0.03678067279950809), (3155, 0.03678007111302659), (1427, 0.03677234227853276), (2192, 0.03676899006143391), (1117, 0.036762660216217775), (3516, 0.03675175264626583), (1868, 0.0367435586116738), (3874, 0.036733263617556876), (4723, 0.036727302345830964), (4453, 0.036716852948872336), (1911, 0.03671398161156972), (3677, 0.03670850873456975), (1802, 0.0367020718807437), (644, 0.036701302309253274), (1133, 0.0367007989051987), (4574, 0.036686945148570474), (4086, 0.03668628532066764), (2304, 0.03667763078591523), (3606, 0.03667671922597214), (822, 0.03667584840592645), (3612, 0.03667488756240529), (3027, 0.03667470165032756), (888, 0.036670904954332416), (3186, 0.03667028727008714), (1350, 0.036667710958432825), (4499, 0.03666472522814927), (2626, 0.03666431293137499), (454, 0.03665621705100926), (1961, 0.03664434849532417), (2457, 0.03663799595862384), (1790, 0.03663672791012328), (4285, 0.03663488412162315), (2879, 0.03662740006461305), (3321, 0.03662452665312768), (4130, 0.03662003368923306), (1498, 0.0366189209368545), (3620, 0.03661723687060253), (4134, 0.03660827355590649), (3591, 0.03660313622128332), (4619, 0.03659727101932853), (3699, 0.036587117752290864), (1614, 0.0365859644361004), (693, 0.036579683204004405), (1766, 0.03657466143074069), (4210, 0.03657339510972675), (1605, 0.03656465753916316), (1203, 0.036559480527304025), (2909, 0.03655899535307039), (371, 0.0365525530851894), (1959, 0.036550944892014645), (413, 0.03654991849068192), (2143, 0.03654768865381039), (1524, 0.03654439090624232), (1401, 0.03653056702719763), (45, 0.03650961247898011), (87, 0.03650308006289086), (2761, 0.036502431520164094), (2210, 0.03650112001598657), (4298, 0.03649825583212662), (1528, 0.03649220563976653), (98, 0.03648879276951816), (2325, 0.03647858032101131), (1924, 0.036474407601069174), (2590, 0.03646972056637431), (2047, 0.036464378280121244), (3931, 0.03646349777387051), (4116, 0.03645934311771731), (3914, 0.036455149253353775), (1099, 0.0364499381082854), (3464, 0.0364489779036199), (124, 0.036443728554998354), (1505, 0.03644245963187297), (4709, 0.036440109379711434), (107, 0.03643866605856288), (1577, 0.03643603565331703), (4474, 0.03643229624323362), (3737, 0.03643056396250665), (4601, 0.0364229852761307), (4576, 0.03641854841245848), (2296, 0.03640928398817052), (2229, 0.036408372597693764), (2778, 0.03640614322749364), (910, 0.036406130624450424), (4092, 0.0364059406474751), (3037, 0.03640489354251386), (1064, 0.03639824862225378), (4666, 0.03639430128745821), (3169, 0.03637189935951402), (1308, 0.03636956315076486), (1943, 0.03636928063770137), (2454, 0.03636750042012932), (547, 0.03636740466788491), (1679, 0.0363670370491804), (1346, 0.036366703713306504), (3084, 0.03636328911457504), (4691, 0.03635619616010242), (3240, 0.036342297088699), (2394, 0.03633695922436625), (2635, 0.036333347792173745), (1422, 0.03633214528902555), (2072, 0.03633198412222925), (2993, 0.036330555350880256), (1598, 0.03632781802124495), (532, 0.03631046554649259), (4658, 0.0363074154766138), (415, 0.03629890519620418), (1349, 0.036291249549671264), (4038, 0.03628603053614114), (3797, 0.036281971130138806), (1865, 0.03627747115766178), (2365, 0.036276060171142356), (3779, 0.036274496535653004), (50, 0.03626023094918704), (3877, 0.03625867858590741), (402, 0.036254305346582104), (3587, 0.036251301248156634), (1609, 0.03624882450904398), (1593, 0.036247452654905275), (488, 0.036234474638600515), (4046, 0.03623290998371862), (2194, 0.036231189234087545), (1759, 0.036228101955967276), (3461, 0.03622742720313771), (4080, 0.0362236868006321), (4089, 0.03621427033261607), (59, 0.03620529181068876), (1949, 0.03620404049042233), (3497, 0.03619621125349091), (3358, 0.03619475502039641), (432, 0.036190210062113704), (4535, 0.03618727697436887), (808, 0.03617871303730517), (3924, 0.036177194811568086), (2516, 0.03617292365449546), (2235, 0.036168095111742356), (2568, 0.03616630162496486), (702, 0.03616597110191508), (3942, 0.03616337507015694), (3588, 0.03615968266916061), (1530, 0.03615929899508461), (2260, 0.03615869861409496), (3735, 0.03614304141823555), (1222, 0.03614026609399269), (521, 0.03613833063673076), (1484, 0.03613820469281447), (4068, 0.03613024907408694), (271, 0.03612722111294581), (3316, 0.03611606741590368), (3628, 0.036114473543158464), (3795, 0.03611285183973956), (701, 0.03610842273968086), (2477, 0.03610445901352507), (4225, 0.036104002644449025), (1059, 0.03609934618620232), (2203, 0.036098937998872115), (123, 0.03608981850580457), (878, 0.03608758817190659), (1716, 0.03608149782858016), (3641, 0.03607429965114755), (2765, 0.03607026733469168), (1606, 0.03606448588485275), (1383, 0.03606112527619915), (1578, 0.036054775936513364), (53, 0.03604650840396728), (2689, 0.03604150543661272), (3268, 0.03603199235370599), (1596, 0.03603091463443976), (3259, 0.03602719460898551), (339, 0.036026670402812065), (1275, 0.03602551174568667), (1024, 0.03602066438081118), (3518, 0.03601612025450317), (3757, 0.03601183485293704), (1510, 0.03601136098598021), (3837, 0.036009005634413754), (1736, 0.03600141187643321), (2217, 0.03599518476981903), (1013, 0.03599402260960919), (3022, 0.03599274734462005), (1357, 0.035982553399015724), (3965, 0.03597597531377974), (2895, 0.03597542822384569), (2886, 0.03597265879589605), (2182, 0.035964392164591), (4593, 0.03595285562539562), (991, 0.03595277390230404), (3670, 0.03594147381441741), (1763, 0.03593945346474505), (2090, 0.035939265016105344), (3265, 0.03593389563766518), (3780, 0.03592816275638685), (772, 0.035925216094406735), (3675, 0.03591964865448933), (4217, 0.03591070620564437), (1326, 0.035910089817543005), (3771, 0.03590846061535559), (4531, 0.035905177492361384), (1255, 0.035899102403168376), (1683, 0.03589184096699049), (2053, 0.03588716264593646), (3395, 0.03587912646731586), (1333, 0.035877382796336704), (4105, 0.035869937448037306), (2221, 0.03586875554456138), (2061, 0.035868338027728194), (1379, 0.03586565593101257), (1334, 0.035860040771906354), (2126, 0.03585912345180407), (3483, 0.03585376965939645), (2321, 0.035852590695911034), (3448, 0.035847634883145206), (739, 0.03584657011060257), (3086, 0.03584374889407413), (4646, 0.03584086167780725), (4401, 0.03583636243137123), (849, 0.035829849370491114), (743, 0.03582979709894095), (3252, 0.03582772686953801), (1642, 0.03582244778049572), (2563, 0.0358205602828988), (1799, 0.03581780906475617), (1376, 0.03581558144629144), (2910, 0.035811559620016066), (4269, 0.03580992312622194), (2125, 0.03579661712665754), (1235, 0.03579340680379212), (1735, 0.035791675253780506), (4047, 0.035790701892964925), (1193, 0.03578722829217946), (3502, 0.035786352046239374), (2371, 0.035784374194615096), (3864, 0.035778738569899604), (3349, 0.03577783386891499), (91, 0.035772185766786514), (283, 0.035764867083438553), (4637, 0.03575693605477965), (2785, 0.035751880162419175), (4028, 0.035751371562933905), (1513, 0.035746035318827384), (3777, 0.0357413282487118), (688, 0.03574060368934768), (1563, 0.03573635905837229), (1906, 0.035733162991737615), (3741, 0.03572608547555766), (2676, 0.03572359438141452), (4001, 0.03571633795384932), (2360, 0.0357151940623617), (2428, 0.03570531605976826), (522, 0.035698377560186983), (214, 0.035692787078756186), (1734, 0.03569213092752295), (2275, 0.035688698646699525), (1264, 0.0356843124310174), (3141, 0.035682062281490796), (4653, 0.035681821765796824), (3162, 0.035676565928769687), (541, 0.03567328675462722), (1738, 0.03565955927559782), (1747, 0.035658336574051555), (1085, 0.035655993920584814), (544, 0.035652271793184316), (4141, 0.035651237026432935), (2040, 0.03564481169426189), (42, 0.035643188776220976), (956, 0.03563918799733896), (2522, 0.035638233273162984), (1525, 0.03563632951060066), (3580, 0.03562955938421161), (403, 0.035619882865797904), (3196, 0.035619538874639554), (1571, 0.03561609147709345), (4433, 0.03561377819706822), (887, 0.03560666455672797), (4237, 0.03560582616850374), (3607, 0.03559500077452745), (838, 0.03559448226689729), (2222, 0.03558848352741898), (4087, 0.03557874565069309), (1580, 0.035570293887856236), (732, 0.035567488187725656), (1079, 0.0355584274275081), (3515, 0.035556906636976644), (4500, 0.03555376385625377), (584, 0.03554897743748286), (1916, 0.03554439044656185), (3104, 0.03553416821716959), (502, 0.035533350054363894), (3935, 0.035519196595434496), (1140, 0.035518733752360684), (2772, 0.035502684924826916), (4746, 0.03549848020064171), (1478, 0.03549565863171095), (3350, 0.035493270196604115), (4317, 0.03549069269213763), (3442, 0.03549001101223201), (1965, 0.035484586035116235), (142, 0.03548290510633736), (727, 0.035479338495751314), (4495, 0.03547818554114595), (2393, 0.03546740450843498), (4545, 0.035445364580738), (3306, 0.035442493651608814), (1105, 0.03544118417240144), (3287, 0.035436707094222926), (1874, 0.035436692545001675), (2191, 0.03543571765982505), (1785, 0.035435701344991535), (3383, 0.03543502835771492), (450, 0.03543154275972155), (3200, 0.03543141923278726), (1420, 0.035420336591530224), (2831, 0.03541805745073464), (3197, 0.03541674083890742), (3812, 0.03541641178724646), (1278, 0.03541594053122723), (4081, 0.03541411728276095), (1849, 0.03541054109856803), (1416, 0.03540660918869658), (4340, 0.03540503032779298), (1751, 0.03539871797139123), (988, 0.0353918405643153), (3820, 0.03538653864560424), (4022, 0.03538542618452971), (2952, 0.03538447442833758), (4008, 0.035384070856005825), (2725, 0.03538337329545947), (1246, 0.03538250384804673), (4112, 0.035376545458252494), (74, 0.03537423645395275), (4284, 0.03536879206966245), (1791, 0.03536525521384475), (4416, 0.03536506486843497), (2690, 0.03535981208217424), (167, 0.035358920753524974), (2104, 0.03535620878993684), (924, 0.035354321532893286), (3702, 0.03535240747561944), (4355, 0.0353503864549813), (1258, 0.03534703204589863), (3311, 0.03534201424882293), (4694, 0.03534070951841721), (1432, 0.03533871071963289), (2587, 0.03533861356157683), (4518, 0.035333932803120895), (1141, 0.03533337187561175), (752, 0.03533241267657887), (2707, 0.03533076054101573), (2665, 0.03533034946672211), (2162, 0.03532818247519274), (2651, 0.0353246016529703), (2138, 0.03531335037190308), (203, 0.035308784863139264), (3722, 0.0352981383981382), (1074, 0.03529800368839215), (4030, 0.03529466091691894), (2264, 0.03528576072493795), (3941, 0.035284686848974726), (4052, 0.03528280212975449), (4178, 0.03527995387632107), (41, 0.03527930763686984), (3662, 0.03527909633192205), (1673, 0.035275076135023974), (216, 0.03527159476083169), (580, 0.03527084211838129), (1560, 0.0352679290913461), (4018, 0.03526416475129815), (945, 0.03526190580283692), (1205, 0.03525603086250172), (3998, 0.03525589903670627), (2476, 0.035254576020841484), (2487, 0.03525454082498344), (1828, 0.03525297246842657), (3081, 0.03525101845624081), (933, 0.035250501655090305), (626, 0.03524936117428064), (1714, 0.03524562872515215), (3332, 0.03524485895119568), (518, 0.03523705960628836), (1557, 0.035234679367670704), (1309, 0.035224393195790064), (4524, 0.0352230633172882), (1474, 0.035221168715936765), (3151, 0.03521865670113795), (3384, 0.03521307331731142), (1754, 0.03520906546265855), (1330, 0.03520898489952403), (1244, 0.03520803457974662), (2419, 0.03520685254256036), (3232, 0.03520632109926532), (3926, 0.03520395123936347), (2089, 0.03519364762486258), (780, 0.03519286391776414), (4431, 0.03517993926473699), (430, 0.03517880723357847), (3443, 0.03516670994406708), (222, 0.0351665995138995), (1367, 0.03515756753341528), (2081, 0.0351542900784616), (4412, 0.03515261901344875), (307, 0.03514464833911469), (422, 0.035144372469824436), (392, 0.035141138684295185), (2150, 0.03513873776307568), (1481, 0.03513543306006621), (2595, 0.035133451311786884), (2418, 0.0351334066902542), (1028, 0.03511922709217742), (2584, 0.035113502378235135), (916, 0.0351103170848602), (4307, 0.035107704641312944), (2273, 0.03510093750951939), (618, 0.03509833382081429), (1726, 0.03509076634009024), (2723, 0.03508841212472268), (2383, 0.035083366824633165), (3019, 0.03507232707671107), (814, 0.03507085997496813), (2988, 0.035064626549613974), (1913, 0.03506449766785831), (1257, 0.03506156892395945), (4126, 0.0350608829267667), (63, 0.035050394185940116), (886, 0.035049473709653944), (1132, 0.03503431960643187), (1547, 0.03503423392799221), (937, 0.03503384620517771), (3046, 0.0350283105528396), (965, 0.03502529185877971), (637, 0.035016873144583134), (3412, 0.03500987572604548), (2647, 0.035003268349148756), (68, 0.03500272814859379), (4303, 0.03500119091531817), (4486, 0.03499964445601038), (3564, 0.03499888883100289), (3310, 0.034985479212469806), (139, 0.034980149544059654), (194, 0.034979809848556545), (3886, 0.034975008596211596), (753, 0.03497261588944071), (4163, 0.03497151672853111), (832, 0.034960136279198716), (2479, 0.03495488666720979), (1748, 0.03494273732382425), (25, 0.03493654791663119), (2297, 0.034932980735209604), (48, 0.03493273361582602), (3656, 0.03493235219350527), (3556, 0.034931935973989185), (3469, 0.03492826794350149), (2565, 0.034927401284053555), (4567, 0.034926954677887256), (4152, 0.034916700009739524), (3307, 0.034915383756665655), (4020, 0.03491473202389239), (4740, 0.034910941397993105), (1650, 0.03490788816310341), (1490, 0.03490414995140209), (3336, 0.034900363992523525), (3692, 0.03489252835490316), (1301, 0.034878957872526296), (749, 0.03487568719953414), (2214, 0.034874820293237886), (395, 0.03487189425582475), (2716, 0.03486409999454299), (2058, 0.03486070409130287), (1425, 0.034856967846583854), (0, 0.03485398112864751), (3934, 0.03485325700241316), (2270, 0.03484711227019433), (981, 0.03484107755183302), (4421, 0.03483708857807081), (3254, 0.034833878153973014), (4707, 0.03483386392018615), (3312, 0.03483108693381925), (154, 0.03483003506079751), (875, 0.03482824873601346), (2710, 0.034825173116111906), (3770, 0.03482489913056127), (2825, 0.034824209996842194), (726, 0.03482120793010475), (2092, 0.03481692004913838), (3729, 0.03481103569296168), (1404, 0.03480900420990795), (4655, 0.03480708793940303), (4505, 0.034804657634783354), (22, 0.03480226832245301), (1776, 0.03479275819660392), (1879, 0.03479191579466742), (3396, 0.034790292331190645), (3095, 0.03478914796346039), (750, 0.034788735115618884), (247, 0.03477739089370087), (1697, 0.03477184937961364), (4189, 0.03476586124494509), (2298, 0.0347655488988814), (73, 0.03476371359876635), (1669, 0.03475447237998782), (3106, 0.03474553102797155), (500, 0.0347351564685908), (4005, 0.034730209551082115), (664, 0.034729140035653125), (4503, 0.0347287117619301), (3378, 0.03472641026080032), (1898, 0.03472207581514595), (1527, 0.034718502298952396), (4602, 0.03471068087135158), (2919, 0.034709581793249414), (1139, 0.034705522053757105), (2605, 0.03470496176658475), (3341, 0.03470237582975456), (536, 0.03469950291986621), (1638, 0.034687294537027666), (3033, 0.03468716722466023), (3508, 0.03468478755796508), (1102, 0.034684732621885234), (3041, 0.03467610132304166), (3355, 0.03467017723046724), (3640, 0.03466876497113538), (4195, 0.034667672452308444), (3125, 0.03466634853755406), (40, 0.034659936740599605), (2088, 0.0346541414107325), (3390, 0.03465413573197871), (543, 0.03465083930302614), (185, 0.03464273130146468), (353, 0.03463661082775424), (344, 0.03463359309343999), (2444, 0.0346324075654738), (755, 0.03463172849035137), (1231, 0.0346274573561163), (1225, 0.034623675724994626), (2172, 0.034618141563666084), (908, 0.03461184563508967), (4196, 0.03461046048159679), (1152, 0.03460806488054753), (3652, 0.03460794718518949), (2370, 0.03459810463909677), (4411, 0.03459492989001158), (1780, 0.03458740191136438), (1611, 0.034581276417721726), (513, 0.03458071996327203), (3650, 0.03457676736887358), (860, 0.03457577462003957), (1252, 0.03457213363081173), (4219, 0.034569407280864585), (2558, 0.03456170820546493), (349, 0.034558702572203864), (4322, 0.03454833266051963), (2435, 0.03453767880992917), (28, 0.03453559758826923), (4281, 0.03453356555537503), (1967, 0.03452980203234397), (509, 0.03452936920490541), (1500, 0.03452720769075465), (2332, 0.034526310446056856), (2908, 0.034525650182260045), (2263, 0.03452302708382896), (3494, 0.034516610490421255), (20, 0.034513673539871614), (4075, 0.03450780945335821), (2315, 0.034498752259954746), (3080, 0.034497185195380954), (1343, 0.03449302215118739), (2589, 0.03448791622646411), (2342, 0.034480795226582574), (2750, 0.03447617686914988), (778, 0.03447216452290106), (1808, 0.034467370951774864), (3509, 0.03446266590204705), (1065, 0.034462631138267655), (2485, 0.034452564797247905), (3593, 0.034446813446172626), (994, 0.03444341107620334), (2753, 0.03443646726121652), (1058, 0.03443287124924655), (3113, 0.034427693928671864), (270, 0.03442737169681757), (3843, 0.034422028613006035), (876, 0.03441953590893281), (3462, 0.034419096482187404), (3870, 0.03441437509987661), (4753, 0.03441386139664897), (18, 0.034411348340927364), (1870, 0.03441128955849821), (2608, 0.03440377345184519), (1495, 0.034402355770491416), (3618, 0.03439594473799476), (3943, 0.03439094972749843), (4677, 0.034386345229082224), (1087, 0.03437700184230144), (4244, 0.03437664598512683), (2648, 0.034374409013029704), (1017, 0.03437288124170977), (206, 0.0343675257620132), (715, 0.03436181414734185), (2180, 0.03435099706137384), (2378, 0.03434999270081638), (4123, 0.03433864552365364), (1340, 0.034338229471661735), (962, 0.03433817397620096), (3643, 0.0343379706592506), (3374, 0.034335013414071094), (3971, 0.03433400255730108), (126, 0.03433296894896139), (681, 0.03432793828494734), (3255, 0.03432775216278256), (3418, 0.03432452995520781), (4497, 0.03432338521880334), (483, 0.03431904228704917), (3423, 0.034312574611446676), (89, 0.03431210831002628), (1282, 0.03430576630032379), (1402, 0.03430527778249937), (2987, 0.03430347549659559), (934, 0.034300920095529895), (2793, 0.034298818630811106), (2164, 0.03429832459296471), (3895, 0.03429253678872233), (104, 0.034288563089973724), (823, 0.03428317329415823), (721, 0.03426945732197895), (43, 0.034268793802591756), (2109, 0.034267007280191705), (1179, 0.03426331202876514), (1508, 0.03425930564470156), (1608, 0.03425864777774634), (995, 0.03425815572143831), (1628, 0.03425527514206557), (2598, 0.03424775294870369), (2843, 0.03424747740358318), (782, 0.03424247579351586), (369, 0.03423575469843338), (2751, 0.034225897106486526), (2124, 0.03422494848007173), (82, 0.03422227229644851), (2447, 0.03421908049353243), (931, 0.03421680566055856), (4311, 0.03420647325082587), (3873, 0.03420262654171139), (590, 0.034197226651541825), (3225, 0.034196257323161075), (4218, 0.03418403855656383), (2956, 0.03418055389140883), (525, 0.03418012435091926), (1288, 0.03417728310255023), (515, 0.03416612573304261), (1540, 0.03416216282635282), (2771, 0.03415794038211432), (1291, 0.03415734798164264), (1737, 0.03414983689085661), (2803, 0.034144450805497904), (357, 0.034144090210896906), (1915, 0.03414374066585383), (2841, 0.03414163580270924), (4182, 0.034133158008848655), (2639, 0.03413224214833676), (209, 0.0341317218046288), (1811, 0.03412728668356842), (4379, 0.03412269640702924), (3891, 0.034118874475219614), (3685, 0.034115990521593045), (1855, 0.034113553960112425), (507, 0.034112484756873465), (4592, 0.03410822251456148), (1242, 0.03410665412822475), (3472, 0.034099603137322916), (3632, 0.03408869200377752), (470, 0.03408652821901839), (1131, 0.034078093401417826), (1148, 0.0340764782436081), (853, 0.034075244158777586), (2039, 0.034075095344969525), (3708, 0.03407495396714503), (370, 0.03406668909449992), (3435, 0.0340599292553637), (3680, 0.034058601493893774), (1327, 0.03404897872836037), (1837, 0.03404427655914878), (2045, 0.034038985709730046), (2491, 0.03403892041418724), (4438, 0.03403653788185631), (2936, 0.03403022698944508), (3421, 0.03402659468986266), (226, 0.03402282613114256), (4542, 0.03401894789935622), (2881, 0.03401796822144422), (1375, 0.034016796382670036), (2623, 0.034016142495717966), (1119, 0.03401143779560676), (868, 0.03400454913695543), (2033, 0.03400369468788511), (4170, 0.03399716955980588), (1740, 0.03398830335390246), (4609, 0.033987866075421966), (2445, 0.03398509621072792), (1940, 0.033983867486317175), (4413, 0.033982258353736666), (4361, 0.03398012286609233), (2979, 0.03397891703832403), (281, 0.03397814200919293), (236, 0.03397751913527763), (1829, 0.03397705176200753), (263, 0.033972578108841876), (1048, 0.03397005021821595), (2027, 0.03396941116818494), (1297, 0.033967775737441405), (533, 0.03395035563885808), (2443, 0.03394750492035435), (100, 0.03394711796448977), (2083, 0.03394510254264035), (1687, 0.03394182528485013), (1491, 0.03393575112135701), (1465, 0.03392754226937113), (3604, 0.033926891768538074), (1830, 0.03392571875480775), (4358, 0.03392157542131324), (1992, 0.03391878794671403), (79, 0.033914027694318054), (282, 0.033912062992999495), (3063, 0.03391175152969297), (3053, 0.033910057685092566), (2947, 0.03390300453006637), (1022, 0.03389586901556483), (3831, 0.033881409003542605), (4302, 0.03388067395073529), (1944, 0.03387809946274405), (2646, 0.03387399323349664), (1864, 0.0338725313140203), (374, 0.033871266298399885), (3499, 0.03386890762514675), (3712, 0.033868334300008796), (3959, 0.03386717659539818), (1188, 0.03386514231787007), (993, 0.03386332800806611), (1842, 0.03385467446899489), (4334, 0.0338463489542115), (4747, 0.033837320878626044), (4160, 0.033831863139732715), (2267, 0.03381582771742198), (1361, 0.033815060811613215), (2133, 0.033812922100773954), (2916, 0.033809468852031996), (1400, 0.03380674022451524), (4037, 0.0338014316270715), (631, 0.03380052499423766), (3536, 0.03379416442179592), (1206, 0.0337933288668646), (219, 0.03378738151178622), (585, 0.03378658358300694), (1460, 0.033786459741573786), (3153, 0.033782672224638405), (4066, 0.03377966361517743), (4538, 0.03377526128244434), (4300, 0.03376912282199886), (2896, 0.0337626304274942), (3309, 0.033761987320810545), (672, 0.033759618852789886), (2980, 0.03375552837127392), (1987, 0.0337534538897279), (2224, 0.03375299884742633), (1862, 0.03375203720708321), (848, 0.03375102285709813), (1294, 0.033748265061598656), (4304, 0.033744126659502834), (2770, 0.03374223232846982), (1532, 0.03373653611318806), (419, 0.0337360932082523), (3313, 0.03373308701897398), (3818, 0.03372893105713292), (1717, 0.03372781058164282), (1468, 0.03372503202261176), (4449, 0.033716467659391715), (308, 0.03370985838262026), (4208, 0.03369981262025845), (4703, 0.0336993091981773), (2087, 0.033692402490844625), (1985, 0.03369239481684109), (530, 0.033683290059077796), (3630, 0.033682460440189216), (1843, 0.033679901505949995), (3694, 0.033677266792049486), (3751, 0.03366846147743528), (425, 0.033667259174998646), (2508, 0.03366453784270034), (2451, 0.033664017625373015), (1108, 0.033660416320620286), (1643, 0.03365635340105875), (3233, 0.033656322723856), (399, 0.033655773105758444), (3956, 0.03365494539347155), (2856, 0.03364759089235526), (3623, 0.033641516188510245), (4613, 0.03363848330021508), (892, 0.03363367542391344), (4656, 0.03363319735471983), (1521, 0.033627636837639724), (3117, 0.03362718472629423), (1461, 0.033626548268017774), (4325, 0.03362450119405775), (4119, 0.0336231533020492), (2183, 0.033614239396080936), (2822, 0.033613190606612865), (1393, 0.03361006907599818), (870, 0.033602984825225904), (366, 0.03359859568302086), (1370, 0.033593743794413405), (2280, 0.033592942883032766), (3330, 0.033591402985071635), (2714, 0.033589180536852135), (1981, 0.03358635796697062), (2458, 0.03358443298038344), (331, 0.03358147152280798), (922, 0.03357690681373331), (1440, 0.03356708262137718), (1550, 0.03356629393660037), (1971, 0.03356465194677976), (807, 0.03356371900898394), (1351, 0.03355601364826249), (1439, 0.03355386467503879), (4131, 0.033550825495267035), (3569, 0.033550093582537216), (528, 0.03354940848201882), (1212, 0.03354689955749909), (4550, 0.03354540443043886), (12, 0.033545040306458024), (416, 0.033542502056058646), (4045, 0.03354241212219445), (457, 0.0335423772951101), (980, 0.033540561065904195), (3001, 0.03353769831527908), (3642, 0.03353611968007254), (3653, 0.0335342563993929), (4530, 0.03353223497073984), (1896, 0.033527742673134124), (1872, 0.033527038004977104), (1385, 0.033525242911294426), (2359, 0.033523403384277936), (3896, 0.03352339974501376), (4150, 0.033521807803479076), (1271, 0.033517734504646846), (594, 0.03351503575053805), (1931, 0.03351179906909555), (4470, 0.03351073914224821), (2069, 0.033507645641914684), (3869, 0.033505101414134465), (1732, 0.033501175585581265), (34, 0.0335009231981911), (286, 0.0335009138522369), (4372, 0.03349736339432966), (546, 0.03349567862669841), (3049, 0.03349143225081488), (404, 0.03348767735741721), (2091, 0.033480139439003055), (2579, 0.03347786961678827), (2811, 0.03347768061084268), (3666, 0.03347507050684748), (264, 0.033472836254911834), (4099, 0.03346786456068501), (266, 0.03346627459362585), (3281, 0.033462931251973825), (2073, 0.03346235605738131), (3756, 0.03345863806552668), (1587, 0.03345835702528559), (3209, 0.03345382531843884), (3216, 0.033452356979452126), (2356, 0.033451944629597274), (730, 0.033450667210396336), (4686, 0.033450652387538075), (4229, 0.03344441072854908), (691, 0.03343722929552172), (4659, 0.03342970167229803), (1001, 0.03342480384278203), (3436, 0.0334187290770998), (2695, 0.03341001281552522), (2930, 0.03340700304357583), (2134, 0.033403857776509886), (3995, 0.033398622944472496), (1678, 0.03339705763153437), (3460, 0.033395263784077166), (680, 0.03339496027024014), (2800, 0.033394191418599006), (4600, 0.03338583405733905), (2066, 0.03337781599517223), (96, 0.03335761716093837), (3346, 0.03335167338314137), (3624, 0.033346248990754404), (184, 0.03333876434674763), (162, 0.033335581116865215), (689, 0.0333348948584076), (523, 0.03332853444290513), (4137, 0.0333263097132866), (348, 0.0333172783376658), (1413, 0.03331358448293455), (3069, 0.03331034426036389), (1173, 0.033303378682368434), (3445, 0.033301143072913715), (2070, 0.03329301904159859), (4076, 0.033292573758803935), (2784, 0.03328837370787968), (1783, 0.03328646071818721), (2551, 0.03328561838294456), (2724, 0.0332855403145148), (3385, 0.03328367070789338), (4397, 0.033283552205023374), (4622, 0.03327709157092489), (2617, 0.03327359302544546), (560, 0.03327206139546545), (516, 0.03326882928660018), (2920, 0.03325489169383321), (2994, 0.03325294345280485), (3437, 0.033243376561391286), (2505, 0.033236207334148525), (1223, 0.03323620169903992), (3025, 0.03323074450032235), (4299, 0.03322615567594695), (2103, 0.03322462135166893), (776, 0.03321829776458495), (1436, 0.033216013975189675), (4564, 0.033214446494627924), (1856, 0.03321411916245025), (769, 0.033209024542983495), (550, 0.03320828066339821), (662, 0.03320609456100237), (1675, 0.0332057996305835), (207, 0.033203816291193504), (11, 0.03319647162215168), (682, 0.03319482654845709), (936, 0.033190750223390235), (4039, 0.033190443937786245), (3865, 0.033177715696199844), (1443, 0.03315809415429721), (3120, 0.03315315010532829), (4596, 0.033152023670568666), (4649, 0.03314397964194176), (744, 0.033142700281969584), (2043, 0.03314064533292688), (802, 0.03312304487509515), (1691, 0.03312078910621784), (2474, 0.03311750757829403), (2063, 0.0331051318710927), (891, 0.03310453874731598), (4687, 0.03309452926045745), (4085, 0.03309264099566456), (1526, 0.03308755105667272), (2540, 0.03308021024950448), (2571, 0.03307518602759442), (3595, 0.03307472046116995), (3695, 0.03307134802718085), (4640, 0.03307097403382457), (1750, 0.0330650687620433), (3658, 0.03306436945863556), (3082, 0.033064336117502764), (3661, 0.033063382668331476), (31, 0.03306235662320802), (4185, 0.03306027125360041), (383, 0.033058379676186155), (1433, 0.03305077001982629), (2050, 0.033050287976179364), (3440, 0.03303323390733403), (1310, 0.03302721501094946), (1969, 0.033023251699799576), (694, 0.03301915099118189), (4, 0.03301641992053034), (3976, 0.03301479727841988), (4673, 0.033001849849069634), (2327, 0.03300020726613073), (3244, 0.032996863743865845), (657, 0.03299644253667453), (4715, 0.03299092710389791), (1545, 0.03299066194214999), (4048, 0.03299021199704608), (4254, 0.0329806189507216), (1936, 0.032973095691198225), (3807, 0.03296168151144743), (1824, 0.03296069539659697), (4754, 0.03295815631714385), (2532, 0.03295409593140581), (2377, 0.032953523113229376), (4034, 0.032952107143037146), (5, 0.03295203442222972), (2513, 0.032947136148427515), (4610, 0.0329455694907642), (2470, 0.03294556910840582), (1709, 0.032944714506627996), (4268, 0.03294326503939511), (4273, 0.03293631456457201), (2497, 0.032926421512150396), (1051, 0.03292371876238278), (805, 0.03292152532396447), (1306, 0.032919045543939415), (208, 0.03291813849156513), (4330, 0.03291295757763745), (745, 0.03291096012834352), (1300, 0.03290992891384485), (424, 0.03290868766189687), (3487, 0.03290673327566257), (1299, 0.03290623474337808), (3545, 0.03290554831947947), (3749, 0.032895638491344664), (1353, 0.03289017839463403), (320, 0.032889527373111925), (2741, 0.03288948226777332), (2808, 0.03288889371056757), (1962, 0.0328885992341939), (4349, 0.032885954890208645), (858, 0.032881703395268275), (157, 0.03288077817158328), (2962, 0.032878827766811), (2620, 0.03287716035728688), (262, 0.032871535365651045), (2644, 0.03287060800376137), (3064, 0.03286605121414276), (4255, 0.032865296373738466), (2615, 0.03286475112166447), (1794, 0.03285626527673709), (4427, 0.03285274234169244), (476, 0.032851579621039385), (1715, 0.03285043239237232), (2754, 0.0328443477637801), (4604, 0.03284101547727627), (3498, 0.032840013648314945), (1176, 0.032836837135526466), (4074, 0.03283279556202177), (2525, 0.0328317065857284), (2002, 0.03282572240173832), (1312, 0.03281999564378374), (3038, 0.032817552579956194), (287, 0.032810952254363646), (2215, 0.03280945087775441), (825, 0.03280739697245328), (3532, 0.03280486158914001), (3706, 0.03280300644608583), (4103, 0.03280175835591693), (4004, 0.0327965177948789), (1097, 0.032793415537090274), (1703, 0.03278846329206468), (4213, 0.03278386539558499), (4528, 0.03278345665754823), (1388, 0.03277950685608051), (4472, 0.032771744417348585), (3977, 0.032769613499748676), (2337, 0.0327694816170381), (542, 0.0327681898611028), (3696, 0.03275853022480899), (1228, 0.03275276313718912), (2176, 0.03275102261717379), (2790, 0.032750578204474405), (569, 0.03274749256810149), (1960, 0.03273792459370393), (4331, 0.03273570332367285), (719, 0.03273475720009986), (1784, 0.032732817733358725), (864, 0.03272905570103763), (433, 0.032728797376326224), (652, 0.032725130633335237), (4590, 0.03272263535286616), (2042, 0.03271842718711444), (535, 0.032708213557373765), (3474, 0.03270796545189289), (4685, 0.0327033554169615), (3775, 0.03269931415968451), (738, 0.03269637461886012), (1646, 0.03268713112556436), (2094, 0.03268674897852097), (2336, 0.03268350013368651), (1925, 0.03267619970954274), (2380, 0.03267345137487126), (39, 0.03267305472341659), (824, 0.032672972988991474), (4029, 0.03267284482091213), (145, 0.03266824344949466), (498, 0.032667838024873344), (4083, 0.03266776891123771), (311, 0.03266765163122785), (324, 0.032662550550225336), (2056, 0.03264576888516767), (666, 0.032643972065876194), (4133, 0.032642476968305995), (2976, 0.03264232899215689), (4272, 0.0326405338617291), (2055, 0.03263611815692798), (2969, 0.03262361678000186), (3744, 0.032617840853562154), (4180, 0.03261108812282711), (798, 0.032609879614520144), (2586, 0.03260909551485574), (1850, 0.0325998249685441), (534, 0.03259566838315639), (1381, 0.03259259758372413), (3582, 0.03259075605414069), (4563, 0.032590210150082524), (3705, 0.03258931149825124), (4240, 0.03258693378180453), (254, 0.03258643828484217), (4698, 0.032585001150027784), (3270, 0.03257787670931633), (4282, 0.032574808068949884), (3369, 0.03257109486946481), (3920, 0.03256928668508509), (4630, 0.03256715860852834), (210, 0.03256481589990002), (506, 0.03256081614540176), (1040, 0.03255646203599974), (3802, 0.03255530470054533), (2963, 0.032553216529112784), (3659, 0.03255150416424931), (989, 0.03254155850862225), (4363, 0.032538904574195955), (4579, 0.03253524864284328), (137, 0.03251577232170059), (188, 0.03251532775408097), (2632, 0.03251202944789963), (4722, 0.03250777368574764), (3633, 0.03249956780006671), (1552, 0.03249743819737426), (3810, 0.03249669589226337), (2121, 0.03249193923580988), (4211, 0.032490806822322915), (3824, 0.032489363299661726), (2837, 0.032488667032533315), (4540, 0.032486947208808764), (4634, 0.032483615876085246), (3124, 0.03247930160347596), (1814, 0.032472887634041436), (2888, 0.032472266181718265), (1149, 0.032470036168702865), (717, 0.03246714028063037), (4455, 0.03245900306797852), (1957, 0.032458927526233215), (463, 0.03245575548874914), (1033, 0.032447657237043404), (4697, 0.03244408985702073), (1373, 0.03243850235888293), (4549, 0.032436701777597964), (3684, 0.032436366375332606), (3505, 0.03242772555444882), (899, 0.03242712949932859), (3174, 0.032425591481292246), (2634, 0.03242253108505495), (1044, 0.032413583674357156), (4161, 0.032412977273140305), (4487, 0.03241281103251009), (1069, 0.03240393636855454), (4759, 0.03240059633962447), (109, 0.0323968101522654), (941, 0.03239574529952489), (3784, 0.03239556982175748), (901, 0.032392705436785234), (4435, 0.0323926802140867), (4314, 0.03239089815730688), (3774, 0.03239001014682454), (1995, 0.03237427910670683), (2421, 0.032373235061926214), (4167, 0.032372410199718184), (747, 0.03236685260336497), (4266, 0.032364034524166016), (3294, 0.03235413913867354), (3250, 0.03235238488538128), (1901, 0.03235028436179262), (1654, 0.03234782234458278), (26, 0.032347189420775205), (658, 0.032347099894358446), (118, 0.03234510095695018), (164, 0.03234263718009576), (2921, 0.03233397073643238), (501, 0.0323314232886516), (972, 0.03233070081549131), (4260, 0.03232454213541764), (6, 0.03232198880734751), (3387, 0.03231753359805977), (1645, 0.03231421026765642), (1458, 0.03231061305371422), (1574, 0.03230863698517335), (1368, 0.032302645255449625), (903, 0.03230249139182364), (1706, 0.03230235783288862), (2965, 0.032300507240255814), (1143, 0.03229988516228506), (3210, 0.03229902140776247), (1435, 0.0322969081403104), (2019, 0.03229300270723533), (3846, 0.032292647349118686), (1093, 0.03229077113932012), (497, 0.03228936626637985), (393, 0.032284475394234034), (2899, 0.03228433902945705), (2008, 0.03228006489399752), (4399, 0.03227455291679354), (285, 0.032273292209801296), (1198, 0.032272473902731726), (2542, 0.03227054271512673), (14, 0.03226718770310995), (4523, 0.032259964530426566), (4728, 0.03225728958061094), (4231, 0.03225671155685861), (3491, 0.03225237634262991), (1729, 0.03225165879652693), (3704, 0.03224591285185532), (276, 0.032244591675248804), (855, 0.03224090690683502), (2463, 0.0322406040428194), (1681, 0.03223592926154816), (1279, 0.03223537934008588), (1912, 0.03223075011656924), (69, 0.032230582297767624), (1341, 0.03222781342430978), (958, 0.03222742543128243), (4447, 0.0322234668606126), (597, 0.03221719156828794), (2031, 0.03221648755257581), (1156, 0.032210277623376284), (4098, 0.03220901641736564), (2117, 0.03220047167591255), (2719, 0.03219432000825574), (1586, 0.03219023323954947), (269, 0.0321768099915822), (4730, 0.03217576881014501), (2300, 0.03217235696928333), (250, 0.0321634898376034), (4077, 0.032162417817092184), (426, 0.03216173894029261), (505, 0.0321606465383004), (2473, 0.03215831914277192), (4337, 0.03214462668542021), (2593, 0.03214297760664642), (4389, 0.032142458293790276), (1487, 0.032137778139213), (3543, 0.03213605559527866), (2804, 0.03213171270767032), (380, 0.03213159227119377), (3546, 0.03213133874162731), (1712, 0.032130483972860925), (2826, 0.03212887391733406), (1725, 0.032127033438094824), (2820, 0.032123898954323375), (4345, 0.03212081577247303), (3987, 0.032116120146443314), (360, 0.032116068499178835), (183, 0.032114145229901477), (4517, 0.03211105060452708), (1328, 0.03210806826345684), (2307, 0.032106681099175687), (2265, 0.032096095269291185), (578, 0.03209496884818483), (1917, 0.032094399495905424), (4245, 0.0320918608980682), (503, 0.03209141641122605), (1293, 0.03209023619339468), (3590, 0.03208466616461468), (304, 0.032081084501529564), (3816, 0.03207615945846787), (3112, 0.03207075832496839), (378, 0.0320678952935287), (651, 0.03206686264118906), (1290, 0.03205284680589462), (446, 0.03204826516209056), (836, 0.03204778474669776), (4636, 0.03204615881128978), (3566, 0.03203326408985028), (4191, 0.032029998444998514), (330, 0.03202958999759179), (1057, 0.032023497287097115), (3158, 0.032021155628922285), (4645, 0.03202087753368598), (787, 0.0320194770075193), (601, 0.032007080599896584), (4157, 0.03200521268607066), (2612, 0.0319966026546674), (2288, 0.03199216364161965), (712, 0.03199093662937691), (767, 0.03199058890949385), (635, 0.03199031865935103), (3328, 0.03198931536147354), (2130, 0.03198878916839408), (794, 0.03198807916525887), (3399, 0.03198645774056526), (2927, 0.03198552234638152), (4603, 0.03198405155321964), (196, 0.03197564984161145), (2849, 0.03197414579144846), (2145, 0.031970982685690874), (280, 0.03196655827291811), (1561, 0.03195909227832675), (1853, 0.031947202791493684), (3453, 0.03194479338541623), (1708, 0.0319404119853719), (2157, 0.03193949547709138), (2268, 0.03193923800912726), (1356, 0.031939176022486256), (4684, 0.0319389018987956), (2361, 0.03193472539485052), (1163, 0.03192726473010401), (1189, 0.031924340961748614), (338, 0.031923370821517846), (2752, 0.03192297214150826), (874, 0.03191849181935853), (748, 0.031916294988219955), (2567, 0.03191346126550766), (3167, 0.031910878640011776), (818, 0.03190492988022236), (602, 0.03190403942430417), (4234, 0.031902767138671066), (1620, 0.03190085467434317), (4502, 0.03189216217434467), (4071, 0.031891034939402006), (628, 0.03189013651402318), (1412, 0.03188543235631071), (2583, 0.031883917149756885), (3697, 0.03188264934568855), (4318, 0.03187702272087744), (2413, 0.031868112500525875), (1704, 0.031867848272183724), (1973, 0.031863595058934296), (1921, 0.03186174991956134), (1534, 0.031857223324332176), (128, 0.03185356821088597), (817, 0.031852655674267184), (3978, 0.031851566763776165), (4539, 0.03185063633869416), (4090, 0.03184864959550535), (2198, 0.03184398792705347), (1332, 0.03184348826115413), (384, 0.03184176086247197), (800, 0.0318283115365964), (1884, 0.031827141563381255), (4215, 0.0318224965526898), (4155, 0.031816686019785836), (61, 0.0318027843667185), (2783, 0.03180169040962484), (2064, 0.031791491830752854), (2364, 0.031790209067977235), (400, 0.03178946860466854), (3066, 0.03178857539000478), (3605, 0.031786289737300716), (915, 0.03178466721682686), (2085, 0.03178286791332756), (2247, 0.03177614670277221), (1873, 0.031774818545356374), (2862, 0.03176786795020803), (3570, 0.03176564282919714), (409, 0.031763448040706584), (707, 0.03176084841234835), (1721, 0.031759681803656264), (2023, 0.031753775160502706), (2683, 0.03174431745974349), (3457, 0.0317437067764569), (3631, 0.031742853303334255), (1653, 0.03174001788019201), (2245, 0.03172916934481121), (460, 0.03172904836859738), (3676, 0.03172701010545067), (537, 0.03172456156675142), (4501, 0.03171971279879946), (1600, 0.03171938485968626), (2376, 0.031707455402380014), (3208, 0.031706485911810155), (1014, 0.031704703337605125), (4428, 0.03170371207213306), (1214, 0.031700741728242735), (4595, 0.03170014595136152), (1964, 0.03169621123146086), (4091, 0.031687697197749574), (3637, 0.03168077297331306), (3535, 0.03167697843176282), (4639, 0.03167236602137692), (4736, 0.03167118220855444), (4662, 0.03166783404931196), (297, 0.03166282837643853), (620, 0.03166040750425343), (3163, 0.031660189678736524), (396, 0.031659057332306), (352, 0.03165896008815877), (134, 0.03165856485568627), (1114, 0.03165480376318245), (2670, 0.031646126387321935), (1041, 0.03164598741104165), (1739, 0.0316436264852565), (2611, 0.03164099985579245), (4614, 0.03163301109009797), (616, 0.031630787323397205), (1030, 0.031630149295588134), (4459, 0.03162820073491547), (1417, 0.03162602001851183), (4000, 0.03162550127727241), (799, 0.03162261323279468), (3787, 0.031621237969120336), (4642, 0.031612825078668416), (4462, 0.031610139036775696), (4493, 0.03160910838938295), (24, 0.03160489521262939), (571, 0.03160029599718382), (172, 0.03159709703383113), (3980, 0.031595099439192795), (1724, 0.03159396572420999), (4417, 0.03159034300628787), (4338, 0.03158931411106802), (3997, 0.03158918297650772), (1839, 0.03158609352675097), (1952, 0.03158602961127702), (4078, 0.03158435007230734), (1812, 0.031583327335095286), (2985, 0.03158209694333125), (1891, 0.031581488150647936), (2074, 0.03158106375628721), (3938, 0.031566471186964686), (3028, 0.03156445987054183), (148, 0.03155911751534084), (3286, 0.03153995800695919), (2865, 0.03152167436598231), (1841, 0.03151991559899205), (3573, 0.031519193204886255), (102, 0.0315174183598773), (4151, 0.0315172061491593), (854, 0.03151676555042049), (3243, 0.03151567670271792), (815, 0.03151354598120136), (127, 0.031507872041237214), (992, 0.03150774844235087), (1976, 0.03149799392637513), (1062, 0.03149616420305198), (1019, 0.031493815268028975), (3367, 0.03148781646286591), (1211, 0.03148310516431196), (1922, 0.03147586633897692), (482, 0.03146250144038074), (4424, 0.0314582078941868), (3955, 0.03145530940693605), (1859, 0.03145429503869159), (810, 0.03145380988799701), (3272, 0.03144866961939947), (3470, 0.031448215808902905), (3769, 0.031441102188246146), (3245, 0.031439651407609834), (833, 0.031434582581173265), (3815, 0.03143202539942287), (4510, 0.03143179328071083), (935, 0.031430534840852335), (4179, 0.031417336474009544), (3433, 0.031416335157089206), (233, 0.03141236820178644), (2331, 0.03141082155737139), (4289, 0.03141062182965593), (3842, 0.03141045373696702), (2200, 0.03140989686688951), (4473, 0.03140262232258752), (4430, 0.031386613124875125), (1285, 0.03138502211536958), (1570, 0.03138170642160536), (3849, 0.03137655935750097), (1680, 0.0313716695752901), (4362, 0.031371450645119384), (340, 0.031369317080966706), (496, 0.03136757979438735), (3342, 0.03136589238723598), (943, 0.0313625678370066), (4377, 0.03135633740406644), (3193, 0.03135200422179266), (4419, 0.03135078970468161), (1752, 0.031349747105250986), (329, 0.03134863897414466), (213, 0.03134167420406076), (1426, 0.031340604576904366), (1025, 0.03133818306072776), (1882, 0.03133253290256895), (3555, 0.031330062598903995), (4238, 0.03132679318418558), (4276, 0.03132284187222289), (2692, 0.031320895735306824), (131, 0.031320735959570085), (4120, 0.031317085578628535), (1154, 0.03131240558819849), (1101, 0.03131214665729834), (1263, 0.031297929386363325), (4316, 0.03129322697575003), (4508, 0.03128949131253971), (3902, 0.0312852617796448), (298, 0.03127994540991627), (4481, 0.03127731092931694), (3527, 0.03127489654335443), (1667, 0.03127100753337826), (3617, 0.03127024440529472), (3805, 0.03126830279040204), (3091, 0.031267908481276765), (2481, 0.0312676809203365), (4597, 0.031260493035954254), (1056, 0.03125590993309022), (2545, 0.031255234385878045), (574, 0.03125307917151645), (1584, 0.031247407917983545), (4533, 0.031247366302300666), (101, 0.031246972492515273), (686, 0.031236793506376773), (4682, 0.03123331443407944), (1723, 0.03122759548014184), (4750, 0.031226773948699618), (4336, 0.03122478018931939), (4088, 0.031222757533253886), (147, 0.031219781626652416), (420, 0.031207308932764372), (1380, 0.03120716737329969), (3534, 0.031196956061188684), (685, 0.031190448993568435), (2024, 0.031186716345389456), (953, 0.03118593471813205), (4678, 0.03118587946923652), (1150, 0.031185725313403908), (4154, 0.0311817021928929), (1464, 0.03118058038325343), (2942, 0.031179969025855254), (960, 0.031179464626598995), (1172, 0.031176914792936952), (591, 0.031172158872261047), (2382, 0.03116075536325488), (4354, 0.031155830828538456), (545, 0.031155740417229055), (1396, 0.03115240788189709), (2424, 0.031150560015870632), (3742, 0.03114898171037969), (70, 0.031147966546799515), (856, 0.031146080318171513), (3636, 0.03114083141150657), (1982, 0.03114034221402815), (1008, 0.03113596717363064), (4249, 0.031132710966308923), (1831, 0.031126806402737888), (3131, 0.031117786887520676), (2823, 0.03111346255360588), (2679, 0.031113121230750815), (629, 0.031111185211800896), (4527, 0.031109247529721832), (3454, 0.03110447493056736), (176, 0.031098498250549382), (2165, 0.031093730217794015), (2277, 0.03109330353545412), (1115, 0.031087891082973964), (2017, 0.031084370169269706), (491, 0.031082691021989697), (2213, 0.031081874914150293), (2276, 0.03108067996186923), (35, 0.031078411556762768), (3331, 0.03107331435841827), (364, 0.031072461926190068), (4247, 0.031069227479359692), (284, 0.03106892638371437), (734, 0.031066803057157342), (3438, 0.031061986927659567), (4164, 0.031061721037663425), (2688, 0.03105950532551207), (4232, 0.03105244884428739), (3586, 0.031050320637876612), (4181, 0.031049746958502707), (977, 0.03104758954638098), (2028, 0.031045084100717435), (1280, 0.031041002535119974), (3191, 0.031038404772842063), (2548, 0.031035431118576415), (301, 0.031035423870318164), (656, 0.031033448140288224), (1083, 0.03103082712477265), (1854, 0.031025887391696535), (1415, 0.031025560271732665), (341, 0.0310189286786767), (120, 0.031017958330027115), (3974, 0.031005539430986637), (4297, 0.031004191798614064), (1705, 0.03100109737572585), (3557, 0.031000148221275173), (1834, 0.030997551193821606), (2864, 0.030995656236804017), (1659, 0.030994723745373674), (632, 0.030988215901181417), (1444, 0.030984854123055083), (414, 0.030982716520668474), (2366, 0.03097739221320868), (603, 0.030973456650727472), (4162, 0.030973039460280113), (4670, 0.030967262952490904), (621, 0.030966208539177607), (1641, 0.030962127611552582), (319, 0.030960768167686323), (2704, 0.030960457458606296), (1662, 0.030959602504664365), (3690, 0.030957208656181096), (1250, 0.030951180957982702), (514, 0.030940453271772528), (951, 0.03093955195111189), (2666, 0.03093738849461698), (1296, 0.03093555017729721), (3897, 0.03093116352576666), (1900, 0.03092767169013885), (4547, 0.03092562556212723), (1671, 0.03092113244577322), (1553, 0.030920157905003836), (4265, 0.030908657611367678), (2084, 0.030905616369482934), (654, 0.03090272294418516), (3179, 0.03090057463240128), (1331, 0.03089570824437963), (1265, 0.03089481070137811), (4409, 0.030892923991853914), (229, 0.0308894846876134), (334, 0.030884809552954168), (1123, 0.030882651141296794), (2022, 0.03087623309606883), (3173, 0.030875394766442004), (2847, 0.030873306646595877), (1698, 0.03087277107867246), (4059, 0.030868106133089282), (1407, 0.030865787818815927), (2239, 0.030859125371009506), (3379, 0.03085675621769042), (4144, 0.030850646083690557), (1078, 0.03085036643164062), (4714, 0.03084983357363272), (2323, 0.030845051455678667), (4558, 0.03083913475406941), (4410, 0.03083897635582545), (562, 0.030825490202921253), (4186, 0.03082498037332765), (3691, 0.030822993777716457), (920, 0.030822168549309407), (1249, 0.030811460489378596), (1035, 0.03080083210116618), (1462, 0.030800433319285402), (3923, 0.030798186847458303), (95, 0.030795358682094494), (4070, 0.030787876220741212), (3707, 0.030784391761300087), (648, 0.030778553304916287), (3293, 0.030776667503819823), (305, 0.03077473161562102), (4158, 0.030773568431930267), (4241, 0.030762392877805488), (106, 0.030759115241902793), (1111, 0.030753158916431586), (4305, 0.03075100692941892), (553, 0.030750591622397523), (2347, 0.03074877635133142), (3743, 0.03074758549441574), (2177, 0.030746832606520683), (1134, 0.030746714450220036), (1162, 0.030744851162203313), (1575, 0.030739443256358093), (315, 0.030738819083157506), (4526, 0.03073820615597258), (1554, 0.03073673964905028), (593, 0.030732065303646666), (1031, 0.03072422580891995), (257, 0.030724167239131794), (624, 0.030720921676437654), (4663, 0.03071481728107392), (1091, 0.03071253732870122), (372, 0.030702821004333972), (3473, 0.030700988353355215), (3467, 0.03070075751496862), (2680, 0.030694733160018046), (932, 0.03069212696863468), (2902, 0.030691107725976153), (1104, 0.03068647048082475), (4591, 0.03068533377632609), (4392, 0.030680176884598308), (1701, 0.03067955528715171), (4096, 0.030678773758636355), (898, 0.030658240784258956), (1090, 0.030652607723248227), (4478, 0.03065207699715467), (2174, 0.030647164454839802), (821, 0.03064537095201613), (1492, 0.03063652777532368), (449, 0.030629084525299003), (3803, 0.030628233887890342), (3005, 0.030624092879648124), (1480, 0.030616977676722317), (1452, 0.030611727569407682), (4014, 0.030610350721938472), (3085, 0.03060821965737513), (4406, 0.03060610894423539), (3130, 0.030605363876095422), (495, 0.03060501808526973), (3468, 0.030601424478741836), (2819, 0.030594853500591927), (3397, 0.030593916270000448), (4055, 0.030585570186780257), (2815, 0.03058340490572613), (4647, 0.03057338619837855), (2233, 0.03057264983791859), (2887, 0.030559906054543385), (1054, 0.030558482781892563), (2576, 0.030551288394368464), (572, 0.030551286341679754), (3401, 0.030544737560096735), (224, 0.030543048198390252), (251, 0.030539201977871758), (4393, 0.030536619596493106), (277, 0.030527435698988855), (303, 0.030526925418292265), (1996, 0.030515390254176274), (3485, 0.030514696913173576), (770, 0.03051405429420726), (1991, 0.030513342107863554), (4511, 0.03051296101429976), (540, 0.030511214996306754), (1182, 0.030509471649616045), (3755, 0.030508811634073655), (1, 0.03050394801810992), (3446, 0.030502755853528532), (313, 0.030502217080855085), (52, 0.030498863553616615), (332, 0.03049256092934503), (97, 0.030487707308011598), (4348, 0.030484316433049916), (1253, 0.03048281736011462), (976, 0.03047853052767401), (1127, 0.03047502617650455), (4216, 0.030474137554372418), (2498, 0.030473874182381656), (3320, 0.030471010116283337), (230, 0.03046932349698758), (2691, 0.030462079262232444), (2520, 0.03046154578492515), (592, 0.030460159119028333), (1268, 0.030455069542916574), (2065, 0.03045061880846827), (1348, 0.030449007748449164), (1431, 0.03044177900986878), (1562, 0.030440123428736702), (1186, 0.03043814028406215), (3507, 0.030436381686112637), (3195, 0.030435070460284458), (1998, 0.03043418021364149), (2682, 0.030431955972766114), (2291, 0.03042839314504195), (4205, 0.03042747441528957), (1861, 0.030424679127743604), (919, 0.030422817236618434), (4378, 0.030419334738695444), (1899, 0.03041448250382516), (200, 0.030413763311086903), (3917, 0.030412041358476888), (1515, 0.0304097375507084), (2700, 0.030407402661517983), (1840, 0.030403778314299683), (900, 0.03040284864448504), (428, 0.03039678382944574), (913, 0.030396759313177663), (2285, 0.030393873688914143), (4534, 0.030391167562721044), (4124, 0.030384081401573438), (1314, 0.030378000591579402), (239, 0.030377772388664334), (3600, 0.03037530357017723), (3916, 0.03037412048358993), (150, 0.030365599734546434), (1713, 0.030358692265755854), (1118, 0.030356018546506762), (3463, 0.03035505953476682), (866, 0.030351643832545093), (3724, 0.03035019939314966), (881, 0.030347973019897112), (122, 0.030345606684917897), (199, 0.030338111905030062), (742, 0.030335218321141867), (3542, 0.030334671519903066), (3398, 0.030326209953046444), (4488, 0.030315457627314163), (2944, 0.030314820496553336), (4466, 0.03031145835707895), (1676, 0.03030729569872763), (3907, 0.030298076523234508), (1386, 0.03029714596447857), (552, 0.030295252097424976), (1195, 0.030294231060150646), (3819, 0.03029236811498617), (2934, 0.030292092468771844), (3871, 0.030285566023374566), (3963, 0.030281815098224273), (1504, 0.030278617549115504), (1183, 0.03027790750105144), (970, 0.030275212122134826), (3850, 0.030273495399800572), (1269, 0.030269250104938653), (1665, 0.03026429194580774), (1459, 0.030259709073664102), (3451, 0.03025407997859915), (27, 0.030254003562397748), (1603, 0.030251221450138678), (4577, 0.030242067143890376), (440, 0.030238903698374602), (2959, 0.0302366806622116), (30, 0.030233711097421304), (10, 0.03023152812475894), (56, 0.03021980919970858), (4110, 0.030217066817688893), (1158, 0.030212558296437014), (389, 0.030212377809722326), (2788, 0.030211198532990993), (4006, 0.030207299109958927), (765, 0.03020133154774307), (1374, 0.030194975966685987), (517, 0.030194765962039648), (1910, 0.030191760838470562), (44, 0.030187708188508838), (619, 0.03017708071839651), (4733, 0.030174361866992544), (720, 0.030169078984617154), (986, 0.030166689006818386), (268, 0.030162125076553283), (54, 0.0301599396218984), (2780, 0.03015730516620385), (354, 0.030156458977795744), (4312, 0.030146995243717774), (4548, 0.030137596652710957), (417, 0.030134128676675195), (1595, 0.030133052792651983), (1730, 0.03012959352767545), (2777, 0.030126052133096676), (1796, 0.03012079503934822), (3836, 0.030119479197715154), (4043, 0.030116922003520365), (3574, 0.030116557215310695), (3356, 0.030107777911822793), (3794, 0.030103368713503942), (1994, 0.03009186222906425), (634, 0.03008771524780863), (2030, 0.030084388518564653), (2289, 0.030083440804526414), (3752, 0.030076826557531078), (3838, 0.030074481386692702), (3132, 0.030068915409163736), (232, 0.030062353610434307), (4467, 0.030062258721189988), (3008, 0.030058391381048856), (3979, 0.03005472568087468), (3841, 0.030052605003370078), (3278, 0.030050493237608354), (3011, 0.030046732280309334), (237, 0.030045013812619363), (561, 0.030042011297946144), (1136, 0.030037711960346658), (1185, 0.03003577714075721), (4128, 0.030033308805486963), (4665, 0.030033092003595822), (1016, 0.03003125249657904), (2178, 0.030029657973665507), (4171, 0.03002631706877754), (1076, 0.030020752297919617), (4353, 0.030020301425454067), (4512, 0.030009639337025842), (3734, 0.030008113263140245), (1590, 0.030005590518542086), (2480, 0.030004519624486616), (3121, 0.030003122738304293), (2496, 0.030001366716038126), (4168, 0.03000044187581829), (566, 0.03000005431869745), (2439, 0.029999859118644827), (1975, 0.029997834282215828), (4251, 0.029997437637240873), (2733, 0.029997424583370628), (2330, 0.029991958621030337), (1684, 0.029991493267137743), (92, 0.029990125917646417), (1930, 0.029985370175134224), (3668, 0.029984548536821698), (4620, 0.029984469931526845), (3441, 0.02998369190713696), (598, 0.029980178692553115), (1428, 0.029977661234418272), (3133, 0.029973852998942844), (1958, 0.029969317916568525), (4352, 0.029960819637849568), (3876, 0.029952554640480956), (1514, 0.02994375246394636), (386, 0.029939338783122285), (3727, 0.029935452208999864), (811, 0.029934831743717805), (1240, 0.029933585375306285), (359, 0.02993162104588591), (1151, 0.029931091187598326), (55, 0.029929099808680533), (2343, 0.02992678332493355), (4667, 0.02991287154739009), (1072, 0.029910533319151902), (4587, 0.029909432432809222), (4365, 0.02990932093060032), (375, 0.029907081740089235), (1846, 0.029906077717024176), (2574, 0.02990405319987986), (151, 0.029898880470611507), (310, 0.029897628559660182), (3411, 0.02989359917811568), (2329, 0.029893472192348388), (567, 0.02988861439267429), (2824, 0.029888127259441434), (4228, 0.02988811265034439), (1579, 0.029870181431550402), (1810, 0.02986787186296279), (4015, 0.02986265267409098), (2618, 0.029857850477846525), (1801, 0.029853937756820246), (439, 0.029853643071663324), (1970, 0.029847181926053765), (2283, 0.02983847715871662), (3718, 0.02983782762718887), (2078, 0.02983580450470637), (604, 0.029834582096882337), (1397, 0.029831223121560974), (1129, 0.0298307074514923), (231, 0.029822600191578827), (2231, 0.029821708885844313), (554, 0.029816136067681707), (3968, 0.029813294685564498), (4520, 0.029812587726772664), (4041, 0.029810772898211435), (421, 0.029797326046372984), (1116, 0.029795153465956997), (4376, 0.02979280348439075), (2426, 0.02978290903749027), (2946, 0.029780871711114296), (615, 0.029773227575261733), (2549, 0.02976885167834365), (4220, 0.02976432907776231), (4188, 0.029762648776446687), (3833, 0.029756693392657785), (2314, 0.029751652198029825), (4668, 0.029750182373296505), (381, 0.029749817500692766), (3957, 0.029747117584291063), (2742, 0.02974429712433802), (1625, 0.02974145927649469), (4360, 0.029733016985384365), (1177, 0.029727992646677144), (4227, 0.029724780449646257), (1775, 0.029721117363854757), (3334, 0.029720815613018377), (3486, 0.029719449444439903), (803, 0.029716752742798724), (3827, 0.029711052168425567), (862, 0.0297079195984409), (3986, 0.029701099152043168), (3711, 0.029700369245368435), (1502, 0.02969606519821677), (1720, 0.02969367954144203), (3404, 0.0296923300562596), (267, 0.02969199262945354), (3709, 0.029689367546323796), (3783, 0.029685644169160842), (317, 0.029672897239702435), (4294, 0.029671259309649672), (3821, 0.029668115803629734), (809, 0.02966459766907391), (3096, 0.029662054944776715), (599, 0.029658559877078067), (1607, 0.02965798112730679), (828, 0.029650660630390655), (1551, 0.029645081597170088), (2054, 0.029642205499088407), (136, 0.029640934988977533), (4476, 0.029640887425951196), (441, 0.029635258276784426), (1384, 0.029624057544252277), (2717, 0.029624022207260545), (1063, 0.029617640715762773), (1470, 0.029617474876229167), (713, 0.02961576875562802), (1352, 0.029606526243725628), (2197, 0.029600457684799054), (2341, 0.02959577882499913), (327, 0.029595119205850572), (4224, 0.029593957737771952), (1835, 0.029592847367978875), (1226, 0.029586729155507197), (1003, 0.029585703926150276), (1194, 0.029575564930209523), (390, 0.02957304481029542), (1082, 0.029564993841314304), (3305, 0.029563697165402202), (3719, 0.029563458237378368), (4380, 0.029560072852957354), (242, 0.0295587448306175), (3982, 0.029556001632987914), (299, 0.029555650383675074), (181, 0.02955397246612098), (595, 0.029551805602708724), (220, 0.029550018939004146), (2372, 0.029547913846894255), (2506, 0.029547281339430173), (1455, 0.02954571999507248), (1989, 0.02953566860249987), (964, 0.029522999616168655), (1789, 0.02951937234603554), (480, 0.02951771733367713), (322, 0.029506181507620074), (3682, 0.029504419399698514), (4344, 0.029502788367794946), (37, 0.029493439982013668), (423, 0.02948957494214166), (4583, 0.029487456272943836), (3263, 0.029485386953776067), (1761, 0.029482863360442244), (2918, 0.02946865398810155), (1120, 0.02946573177045586), (2414, 0.029451819124377113), (2850, 0.02944918711170084), (4693, 0.029445712530510072), (2100, 0.02943593372048929), (3129, 0.02943539949674389), (4708, 0.0294348860210306), (2773, 0.029429600934180046), (3782, 0.029426445540906405), (2062, 0.029421981274010852), (1358, 0.02942173836906424), (1568, 0.0294167303268415), (4114, 0.029415337958656286), (4364, 0.029412581709308938), (1632, 0.029400367812142933), (1972, 0.02940015416769726), (2774, 0.02939312196386983), (1647, 0.029391308470431768), (3597, 0.029390078026480564), (4573, 0.029387651889362088), (4177, 0.02938570806164524), (3522, 0.029385112762623462), (963, 0.029383211007682243), (3953, 0.029375711238776678), (2971, 0.029371499304124214), (4623, 0.029366883059101276), (600, 0.029363765385521413), (2961, 0.029357774530608678), (3908, 0.029357591269316138), (108, 0.029352520517434026), (4676, 0.029352376864733812), (2898, 0.029350051035722476), (2146, 0.029348389311088328), (2232, 0.029337607169321274), (4248, 0.029337016845946192), (3773, 0.029334564769578818), (477, 0.029333133755581907), (902, 0.02932952309377495), (1894, 0.029323267399781902), (3801, 0.029319490211897472), (714, 0.029309984697559133), (4129, 0.02930135853593066), (306, 0.029299490282018694), (2562, 0.029293982189694742), (2442, 0.029290726468736504), (4491, 0.029287462963217912), (1522, 0.029287187052010985), (1908, 0.02928222135333412), (4638, 0.029277193265666236), (1000, 0.02927589069225467), (1538, 0.02927170537658691), (1018, 0.02926962988016116), (1266, 0.02926361289438755), (1239, 0.029246872135322843), (3482, 0.029245677255845114), (2718, 0.029236048275015532), (1471, 0.029235300050479005), (909, 0.0292201466924958), (1857, 0.02921929822959005), (2501, 0.029217655131331167), (1406, 0.029216184646987782), (3093, 0.02921567597390433), (3863, 0.0292155147403633), (1774, 0.029214444414665808), (2450, 0.029213237829214308), (2599, 0.029210505760820668), (863, 0.02920962022071283), (2960, 0.029208663725399292), (762, 0.029205729848799517), (2246, 0.029202185126369434), (4742, 0.02920046517222427), (2917, 0.029195379850330862), (2093, 0.029194010806677148), (3725, 0.02918632725187309), (152, 0.029179133594342335), (4461, 0.029176655340795672), (1153, 0.02917077232519028), (1218, 0.02916688872696729), (300, 0.02916077843800586), (291, 0.02915736624289091), (1661, 0.029150646940165406), (1281, 0.029142844847071393), (723, 0.02914248914114731), (379, 0.029138097591956666), (3847, 0.02913744760241039), (1414, 0.029134630782754266), (1674, 0.02913229085113221), (3136, 0.02911708806839425), (4729, 0.029112268280929124), (646, 0.0291077323431036), (4009, 0.029107302186996958), (3823, 0.0291041433993926), (1430, 0.029098277412094878), (927, 0.029089913930450562), (1241, 0.0290813350479217), (4456, 0.02907481239443439), (3768, 0.02906552754388631), (573, 0.02906246889798111), (1270, 0.029059427155722434), (2243, 0.02905859561212773), (3231, 0.029049291127146833), (3533, 0.029047245780463745), (3059, 0.029046073704250303), (3134, 0.02903997901299898), (1576, 0.02903116153999873), (2462, 0.029022026700847765), (2052, 0.029011911533501487), (387, 0.029008823674653007), (1604, 0.029001733292255392), (4035, 0.028996067575777676), (1467, 0.02898724039513042), (3002, 0.028972987298325696), (487, 0.02896815575466008), (766, 0.028963760368895718), (3211, 0.02896304915523714), (2279, 0.028955389420186765), (3126, 0.02895366978580167), (3985, 0.028949391070228887), (2205, 0.028948831493517704), (2059, 0.028941943287518073), (3994, 0.028934388527405635), (3583, 0.02893364787118127), (1886, 0.02893279401518167), (2429, 0.028919233364020257), (1630, 0.02891825256728906), (4661, 0.02891301187250717), (1369, 0.02890665585133034), (2278, 0.028905168800764696), (1215, 0.028890169550753658), (3520, 0.028889672623016185), (3452, 0.02887782914908873), (519, 0.02887714514042667), (3045, 0.028870649087154462), (240, 0.028868328082872884), (3068, 0.028853523626139296), (3409, 0.028848818492850422), (3023, 0.028845711585749275), (3456, 0.028844914740500306), (4615, 0.028843903942537514), (3035, 0.028841181957667168), (3114, 0.02883858506908603), (4748, 0.028836858434127876), (3937, 0.02883684002953657), (968, 0.02883528740604763), (4159, 0.028825377959185935), (1817, 0.028825355041128896), (179, 0.02882531670056915), (492, 0.028821801549766664), (3880, 0.028814919487341616), (3171, 0.028810583199562145), (4568, 0.028808194461047168), (4153, 0.02880499953608598), (1820, 0.02879767773142416), (1207, 0.02879512498560415), (1128, 0.028793275121123008), (1937, 0.028775973887205823), (3993, 0.028775168193344542), (756, 0.02877237237677869), (613, 0.028766167897581154), (997, 0.028755994621344882), (1933, 0.02875056658690066), (3476, 0.028746887697554766), (1825, 0.02874453620439381), (3732, 0.0287403857489917), (2762, 0.028735336801190895), (548, 0.02872235250664473), (704, 0.02871956679094371), (3799, 0.02871322484230219), (244, 0.028711009268809505), (1512, 0.028710808998078197), (1945, 0.02870968840071768), (2098, 0.02870710562133492), (1347, 0.028701559836234923), (1927, 0.02868912711824736), (929, 0.02868581759452355), (3645, 0.028680869252478057), (557, 0.028677925448090228), (1146, 0.02864801302809444), (1160, 0.028642301616141903), (2997, 0.028641135874952404), (1692, 0.02863959902013022), (610, 0.02863678164478693), (65, 0.028633275075504026), (1045, 0.02863195796859447), (2630, 0.02863018319125994), (1012, 0.02862726815565976), (4727, 0.028610525478362517), (3024, 0.028607639825153266), (468, 0.028596057396164606), (1354, 0.02859227277530979), (160, 0.02858784208340807), (3731, 0.028580932436268885), (1274, 0.028580444618582432), (261, 0.02857302457354844), (163, 0.02856982886399281), (1756, 0.028555778263599285), (3840, 0.028555342684152142), (3814, 0.028543582580542234), (1066, 0.028539589783699904), (4278, 0.02853934147168564), (138, 0.028538966971179552), (2057, 0.028538404759721834), (2408, 0.028536702667181824), (1948, 0.028534540252660123), (135, 0.028532154306900717), (3615, 0.02853025667485421), (625, 0.028529313965967137), (3212, 0.028526403022695532), (451, 0.028524659966064306), (640, 0.028520580313301947), (1755, 0.028512799025374173), (323, 0.02851254787114531), (336, 0.028511729440768113), (32, 0.02851135544546649), (647, 0.02849524712785385), (4553, 0.028490122619816562), (1622, 0.028489544902424557), (1953, 0.0284812624563366), (4343, 0.028480294593508097), (1581, 0.028475487370100763), (1749, 0.028474785250211455), (549, 0.028461785466737492), (4426, 0.02845259918203541), (722, 0.028450682399372217), (189, 0.028449250008538776), (801, 0.02844569812403486), (1449, 0.02844511524284216), (3466, 0.02844410919365129), (397, 0.028434497317049823), (1098, 0.028432454030558277), (19, 0.028427195212728282), (2791, 0.0284242688889426), (539, 0.028420109470607594), (2119, 0.028417001322521698), (256, 0.028407485398570645), (1342, 0.028401162167213268), (1137, 0.028398491316448095), (4270, 0.028395157287497853), (1904, 0.02839400421746461), (4581, 0.028389533223065453), (1696, 0.0283831523425311), (2759, 0.02836998583123039), (1627, 0.02836380071780075), (140, 0.028362738252862278), (67, 0.028354440671564604), (650, 0.028347502046238118), (165, 0.028344609856668954), (445, 0.028337096709712926), (2622, 0.028329450444613543), (1197, 0.028311290979501875), (4664, 0.02830862202479245), (486, 0.02830674309143991), (3362, 0.028302749745112408), (1728, 0.028299492744394788), (2524, 0.028289275057839368), (259, 0.028285780917365416), (3983, 0.028285624078664844), (4264, 0.028283461687404286), (77, 0.028278233868505795), (4250, 0.02827709139565114), (1307, 0.028263546398786397), (829, 0.028262586462407563), (335, 0.028251480273144072), (3488, 0.02823707009902217), (1631, 0.02822837462977615), (4253, 0.028205633317461076), (906, 0.02820390460728433), (4106, 0.028196167836913057), (13, 0.028189707390146264), (1852, 0.02818635333020728), (1823, 0.028181015797249517), (1147, 0.028175760754686918), (674, 0.02817526731579106), (527, 0.028172049760199488), (1315, 0.028164488921012157), (1202, 0.028163603448266655), (4586, 0.028162612022501553), (376, 0.028147581056562027), (2929, 0.028137260254240522), (695, 0.02812843401433471), (171, 0.028126185009674218), (2345, 0.028118742350161763), (3853, 0.028118675906996293), (2654, 0.028109725882591974), (3107, 0.028107668476905937), (2238, 0.028105370206163535), (80, 0.028103784501318785), (4559, 0.0280987386771443), (3881, 0.028098452169669056), (3432, 0.02809523905749946), (1772, 0.028093553917972598), (321, 0.028088743673244373), (3786, 0.028083550437786067), (2373, 0.02807286476333563), (1633, 0.028063338167685123), (4582, 0.02805489575169462), (555, 0.028054442882967833), (3426, 0.02804749906295582), (1287, 0.028042823651431726), (3872, 0.028038224382719894), (4689, 0.028037729230373745), (3674, 0.028032884320718), (190, 0.02803195062376615), (4679, 0.028026095721074968), (3058, 0.028022369312727433), (3940, 0.02801785831463563), (2369, 0.028014980801957766), (1067, 0.02801010873268191), (724, 0.028009384813914164), (437, 0.028008801176705556), (1652, 0.028007760641547447), (4310, 0.028001450939849175), (4616, 0.02800120770082334), (4716, 0.028001191636583232), (1046, 0.02799536166310153), (2120, 0.02799533792046891), (3929, 0.027994678918720643), (2294, 0.027983709966129644), (2556, 0.027981583681542212), (2767, 0.02797540274608206), (3860, 0.027974690921999), (394, 0.02797159127162602), (568, 0.027970231570578607), (155, 0.0279663963421954), (511, 0.02795952987291188), (3657, 0.027954811297219266), (2905, 0.02794705045885646), (2389, 0.027945752678003512), (2025, 0.02794013788086571), (288, 0.027930355234246192), (4569, 0.027929305420849152), (1838, 0.02792404517953275), (3627, 0.02790969853796781), (72, 0.027891732759281758), (1323, 0.02789134181976934), (725, 0.027878004733169044), (3634, 0.027877162999512223), (241, 0.027876283719013385), (1209, 0.027870177830054386), (3528, 0.027866311115842556), (2984, 0.027862619075050193), (3989, 0.027846979436051987), (4390, 0.027845601892897948), (954, 0.027839922293618754), (2713, 0.027837974870821885), (789, 0.02782958508192291), (3746, 0.0278242482273029), (4326, 0.027819239729903557), (1993, 0.0278094751259942), (2641, 0.02780217475071855), (265, 0.027801905152838865), (3199, 0.02778886705193856), (4366, 0.027788336875731543), (763, 0.02778317382838999), (3698, 0.027782918920911504), (565, 0.027772060267146594), (3455, 0.027771933392757936), (234, 0.02776036967539956), (1938, 0.02776008997001102), (3156, 0.027760068926696666), (1773, 0.02775782812632013), (4279, 0.027755949772596523), (661, 0.02775516978086189), (3568, 0.02775303304560703), (639, 0.0277512814369828), (4672, 0.02774985047031904), (295, 0.027736968674109214), (4339, 0.02771681811372452), (1434, 0.027713801029856953), (4509, 0.027710980442089892), (1988, 0.027709886574967167), (2913, 0.027702037694521335), (1832, 0.027697587158526493), (3530, 0.027685186780398767), (3347, 0.027671595800271537), (93, 0.02766155860500552), (117, 0.02765879600001695), (2674, 0.027655826834887518), (1649, 0.027653929015249705), (3664, 0.027644576584948587), (1068, 0.02764437501331304), (9, 0.027633318524634302), (411, 0.027627641878380522), (812, 0.027618887185529937), (223, 0.027616814480198162), (4095, 0.027616610091880857), (3567, 0.02761632746304958), (243, 0.027604003523058397), (2839, 0.027599523057039638), (1144, 0.027586803251791463), (4290, 0.02758256156286192), (159, 0.027579456612264186), (4057, 0.02757286107957489), (3368, 0.02755751300503641), (2938, 0.027545953453014218), (36, 0.027543290958495992), (333, 0.027524782226192382), (273, 0.02750182880039023), (827, 0.02749823765123514), (1289, 0.027472260447677248), (4485, 0.02745945909022994), (893, 0.02745129854760736), (452, 0.027438228788686018), (47, 0.027437148149117175), (2708, 0.027432841849673394), (3576, 0.02742887230690511), (1210, 0.027423297477506773), (2, 0.027422384230682766), (1695, 0.027421064166230823), (1892, 0.02741695517246929), (3785, 0.027409205992159357), (2950, 0.027405039169388853), (4588, 0.02740453925745219), (3201, 0.027402967556546243), (3991, 0.027381917647798418), (4063, 0.027380357818806256), (3361, 0.027366291587370216), (1800, 0.02735190328473365), (3215, 0.02735122637566704), (1095, 0.027346303165048005), (1990, 0.02734070614355449), (1161, 0.0273350653897424), (4695, 0.027331228208475385), (2955, 0.027324333776921422), (1451, 0.027319341149485504), (2697, 0.027317136033459578), (1635, 0.027313080629716147), (692, 0.02728858679270922), (1529, 0.02728520205616109), (1377, 0.027285053927484995), (4519, 0.02727387882149589), (4585, 0.02727162182000545), (2206, 0.02727085735017848), (2991, 0.027255277332312602), (3495, 0.02724808967378529), (1320, 0.027239245326959705), (1283, 0.02721866698923472), (3927, 0.0272078082446768), (191, 0.027194811301204203), (4543, 0.027182543213120025), (3723, 0.027175977437786502), (1259, 0.027173009031657976), (4328, 0.027167210974165953), (1221, 0.02716623614281048), (1826, 0.02716368906979919), (3894, 0.027154524540930355), (3279, 0.02713424374605973), (1546, 0.02712936698950201), (76, 0.02712261970706843), (4475, 0.027105937824587326), (2355, 0.02709954338419707), (917, 0.027095891636543905), (816, 0.02707228230216621), (4441, 0.0270702658348), (2018, 0.02706726174478994), (1932, 0.027065689230672922), (1050, 0.027058688900487127), (3006, 0.027055633295929624), (4674, 0.02705333883342006), (1009, 0.02704764957054164), (435, 0.02703041932269058), (294, 0.027029587070258165), (559, 0.027019588432359718), (3609, 0.027013930776474706), (1795, 0.026986392579550794), (2139, 0.02698400842135264), (469, 0.02698014852270802), (775, 0.026971613920915644), (4165, 0.02694662618012389), (1686, 0.026943920284470377), (94, 0.026936704695959643), (2352, 0.026934726320883024), (4608, 0.02692917943150127), (2660, 0.026923899728014532), (1664, 0.02692154440118812), (645, 0.026917137467542672), (2135, 0.02691385198615652), (2095, 0.026905481889375145), (2935, 0.026899352590645468), (248, 0.026898359535671507), (1493, 0.026893102730445772), (3338, 0.0268766569871002), (2827, 0.026858898954932316), (3135, 0.02685021483986008), (1070, 0.026842975305191977), (3480, 0.02683935009834991), (4468, 0.026838974398521818), (3405, 0.02682241610135408), (170, 0.0268105948432103), (1092, 0.026809623129126887), (3280, 0.0268013511824582), (2127, 0.026800854933537344), (2578, 0.02680026654331288), (3340, 0.02679826425909815), (4525, 0.026793618117349455), (2471, 0.026787182997722054), (177, 0.026771499609815334), (1623, 0.02676301765076308), (3825, 0.026755940623659158), (1005, 0.026744566985638034), (2789, 0.026744442823640326), (133, 0.026732181799965875), (1651, 0.026720866948370534), (3484, 0.02670604884634007), (1979, 0.02669998748597254), (1559, 0.026693611894299037), (2034, 0.026681948968061486), (1181, 0.026677476939807467), (382, 0.026674039241729015), (438, 0.026671349625113215), (2113, 0.026662520051295508), (3548, 0.02662524741912867), (252, 0.026617396802689458), (3333, 0.02657866384337994), (2256, 0.02657172161342342), (1055, 0.026566259854591625), (3465, 0.026561951063972522), (4626, 0.026558436154469425), (316, 0.02655454600478991), (2432, 0.026549410490317966), (337, 0.02654601120739576), (3105, 0.026539266423471177), (3788, 0.026537123980022434), (2038, 0.02653511847179068), (3100, 0.02651764524420916), (3118, 0.026506034651065866), (1135, 0.026503940122993765), (1042, 0.02650360664036244), (611, 0.026500980167557232), (3625, 0.02645884410897305), (4296, 0.026450529564727293), (3285, 0.026443899165778224), (779, 0.02643447450727135), (260, 0.02641343997806221), (1081, 0.026387763755636104), (4450, 0.026370687549476073), (4405, 0.026366414737716296), (130, 0.026365341780684035), (3700, 0.026359081953664484), (3481, 0.026356557630329226), (4044, 0.026315012981971614), (4513, 0.026308693227679206), (2184, 0.02630687959442046), (4445, 0.026296624766714027), (4429, 0.026295057775457233), (75, 0.026284195779375914), (2602, 0.026274819033407653), (290, 0.02626986940021593), (1086, 0.02626484400811865), (4235, 0.02625919029003692), (3693, 0.026251222593835815), (4292, 0.026242639571282533), (3392, 0.026219874800042165), (4386, 0.02620915767590819), (2736, 0.026193749735946775), (3619, 0.026189227135181018), (1863, 0.026185040317981207), (3550, 0.02617293857493888), (88, 0.026170736497527106), (99, 0.02616747237363327), (4193, 0.02616351735970033), (3317, 0.026147963180725882), (16, 0.026142053953927182), (3852, 0.026140073220112022), (2110, 0.026140066884181974), (2871, 0.02613047091377814), (4236, 0.02612456596602689), (3830, 0.026087196778526126), (2842, 0.026073411364441697), (3966, 0.026047838416218095), (4751, 0.02603871980948577), (7, 0.02600708600788597), (3099, 0.026004722288797587), (2517, 0.02599041590656371), (3160, 0.02597620462029214), (314, 0.025971452246751785), (3222, 0.02592268421713042), (186, 0.025918741027134387), (1316, 0.025893377793571145), (2743, 0.02584078045920964), (2596, 0.02583900254316753), (2318, 0.025833590633201082), (2220, 0.02579216073820857), (3629, 0.02576089965663571), (1809, 0.025742001109559112), (3948, 0.0256918754667585), (149, 0.025687161665597733), (979, 0.025650095974843377), (4385, 0.02564469217588511), (2801, 0.025630076105004423), (3065, 0.025597093474180866), (3958, 0.025546176819565503), (293, 0.025541705149134435), (3471, 0.025528649789659654), (1037, 0.02551985684197681), (1171, 0.025509683180828042), (2627, 0.02550133205266608), (78, 0.02548313507944398), (3394, 0.025469409427435977), (58, 0.025406166148012985), (4373, 0.02540579034984561), (2152, 0.025403634708422967), (2398, 0.02538971004466078), (4261, 0.025387741376898545), (4532, 0.02536553973599313), (641, 0.025099042486835275), (882, 0.025088879912517306), (3835, 0.025065227575395463), (57, 0.02504009063272645), (3776, 0.025015680188407795), (296, 0.02498857536948649), (2573, 0.024983204256016793), (3144, 0.024952958207171534), (3079, 0.024918402803795595), (1699, 0.024888601845251237), (3946, 0.024830409909069588), (4439, 0.024793008180928236), (4072, 0.02466921582584044), (2020, 0.024572807548550103), (1276, 0.02456749257904243), (1745, 0.02453961502425868), (575, 0.02452897637124568), (3726, 0.024453654776412745), (2686, 0.024432642874393264), (1395, 0.024421664131283168), (3365, 0.024386684712440543), (3928, 0.024369917051482493), (3525, 0.024341322157824957), (168, 0.024284637357231062), (3806, 0.024217146434503532), (3138, 0.024185517439090518), (1753, 0.024144010289043574), (1535, 0.02394478435159376), (4726, 0.023914163962342357), (64, 0.02389676006305789), (453, 0.023870659038627083), (289, 0.023857644751287464), (3301, 0.023816033893874176), (2010, 0.023792858598019627), (1418, 0.023682207668754403), (4752, 0.0236583950416765), (4745, 0.023654175111833042), (1164, 0.023561329276024008), (4415, 0.023463074783608925), (3713, 0.022977232047312807), (4414, 0.022947692557491024), (3750, 0.022790975090268322), (2326, 0.02276102516351367), (3944, 0.02261335970044423), (4301, 0.022547396796441743), (2013, 0.022328624358897955), (4651, 0.021005584035655098), (3608, 0.020642853917627), (3429, 0.02048434706134777), (2885, 0.0193807284906778), (2544, 0.017472176903267977)]\n"
          ]
        }
      ]
    },
    {
      "cell_type": "code",
      "source": [
        "print('Top 30 Movies Suggested for You : \\n')\n",
        "\n",
        "i = 1\n",
        "\n",
        "for movie in Sorted_Similar_Movies:\n",
        "  index = movie[0]\n",
        "  title_from_index = mf[mf.index == index]['Movie_Title'].values[0]\n",
        "  if (i<31):\n",
        "    print(i, '.', title_from_index)\n",
        "    i+=1"
      ],
      "metadata": {
        "colab": {
          "base_uri": "https://localhost:8080/"
        },
        "id": "Rm3O2iMzUjSL",
        "outputId": "22b95a68-6cb6-4543-c5b5-8b162ce20934"
      },
      "execution_count": 39,
      "outputs": [
        {
          "output_type": "stream",
          "name": "stdout",
          "text": [
            "Top 30 Movies Suggested for You : \n",
            "\n",
            "1 . Love Jones\n",
            "2 . Fabled\n",
            "3 . Me You and Five Bucks\n",
            "4 . Big Momma's House\n",
            "5 . Mooz-lum\n",
            "6 . Wristcutters: A Love Story\n",
            "7 . The Inkwell\n",
            "8 . Girl 6\n",
            "9 . Def Jam's How to Be a Player\n",
            "10 . The Brothers\n",
            "11 . My Super Ex-Girlfriend\n",
            "12 . The Postman\n",
            "13 . Exit Wounds\n",
            "14 . The Best Man\n",
            "15 . A Man Apart\n",
            "16 . Held Up\n",
            "17 . Menace II Society\n",
            "18 . Get Low\n",
            "19 . Hollywood Homicide\n",
            "20 . Bringing Down the House\n",
            "21 . Amidst the Devil's Wings\n",
            "22 . A Thin Line Between Love and Hate\n",
            "23 . Down & Out With The Dolls\n",
            "24 . Running Forever\n",
            "25 . In Too Deep\n",
            "26 . Welcome to Collinwood\n",
            "27 . Letters to Juliet\n",
            "28 . Soul Food\n",
            "29 . Walking and Talking\n",
            "30 . The Helix... Loaded\n"
          ]
        }
      ]
    }
  ]
}